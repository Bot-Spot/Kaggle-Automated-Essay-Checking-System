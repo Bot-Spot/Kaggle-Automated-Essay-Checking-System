{
 "cells": [
  {
   "cell_type": "markdown",
   "metadata": {},
   "source": [
    "# Automated Essay Checking\n",
    "\n",
    "** Each cell contains a description in the beginnning followed the by code that executes the task in the description of the cell.**"
   ]
  },
  {
   "cell_type": "markdown",
   "metadata": {},
   "source": [
    "**Begin: Importing data structures to hold the data**  \n",
    "\n",
    "Importing NumPy and Pandas, these data structures will hold the training and testing data.\n",
    "The total number of columns and length of the data-set is been printed at the end of the code execution."
   ]
  },
  {
   "cell_type": "code",
   "execution_count": 3,
   "metadata": {
    "collapsed": false
   },
   "outputs": [
    {
     "name": "stdout",
     "output_type": "stream",
     "text": [
      "Index([u'essay_id', u'essay_set', u'essay', u'rater1_domain1',\n",
      "       u'rater2_domain1', u'rater3_domain1', u'domain1_score'],\n",
      "      dtype='object')\n",
      "('Length of the data=', 1783)\n"
     ]
    }
   ],
   "source": [
    "# Import libraries and data.\n",
    "import numpy as np\n",
    "import pandas as pd\n",
    "\n",
    "essay_data = pd.read_csv(\"domain1.csv\")\n",
    "print(essay_data.columns)\n",
    "print(\"Length of the data=\",len(essay_data))\n"
   ]
  },
  {
   "cell_type": "code",
   "execution_count": 4,
   "metadata": {
    "collapsed": true
   },
   "outputs": [],
   "source": [
    "#Preprocessing, extracting the features.\n",
    "def somefunc(X,target_col):\n",
    "    #feature_columns = [\"essay\",\"word_count\",\"sentence_count\",\"wrong_words\",\"spelling_mistakes\",\"no_of_domain_words\",\"word_to_sent_ratio\",\"num_of_characters\",'NN','NNP','VBZ','NNPS','NNS','IN','PRP','VB','JJ','VBP','VBG',\"target\"]\n",
    "    feature_columns = [\"essay\",\"word_count\",\"long_word_count\",\"avg_word_length_per_essay\",\"wrong_words\",\"no_of_domain_words\",\"word_to_sent_ratio\",\"num_of_characters\",\"sentence_count\",\"noun_count\",\"verb_count\",\"comma_count\",\"punctuation_count\",\"adjective_count\",\"adverb_count\",\"quotation_mark_count\",\"spelling_mistakes\",\"target\"]\n",
    "    feature_pd = pd.DataFrame(index = X.index, columns = feature_columns)\n",
    "    feature_pd['essay'] = X['essay']\n",
    "    feature_pd['target'] = X[target_col]\n",
    "    return feature_pd\n",
    "feature_data = somefunc(essay_data,'domain1_score')\n"
   ]
  },
  {
   "cell_type": "code",
   "execution_count": 5,
   "metadata": {
    "collapsed": false
   },
   "outputs": [],
   "source": [
    "from sklearn.model_selection import train_test_split\n",
    "\n",
    "feature_cols = list(feature_data.columns[:-1])\n",
    "X_all = feature_data[feature_cols]\n",
    "y_all = feature_data['target'] #domain1_score is equal to sum of rater_domain1 and rater_domain2, so that columns are not needed\n"
   ]
  },
  {
   "cell_type": "code",
   "execution_count": 6,
   "metadata": {
    "collapsed": false
   },
   "outputs": [
    {
     "name": "stdout",
     "output_type": "stream",
     "text": [
      "Done\n"
     ]
    }
   ],
   "source": [
    "import nltk\n",
    "import re\n",
    "from nltk.corpus import wordnet as wn\n",
    "from nltk.corpus import stopwords\n",
    "from nltk.tokenize import wordpunct_tokenize\n",
    "import grammar_check\n",
    "from collections import Counter\n",
    "import textmining\n",
    "from time import time\n",
    "\n",
    "def featureSet2(X): #X would be X_train and X_test\n",
    "    #WordCount\n",
    "    for index,row in X.iterrows():\n",
    "        \n",
    "        text = unicode(row['essay'],errors='ignore') \n",
    "        text = \" \".join(filter(lambda x:x[0]!='@', text.split())) #To remove proper nouns tagged in the data-set which may result into false positives during POS tagging.\n",
    "        \n",
    "        punctuation = ['.','?', '!', ':', ';']\n",
    "        #Comma count\n",
    "        comma_count = text.count(',')\n",
    "        row['comma_count'] = comma_count\n",
    "        \n",
    "        #Punctuation count\n",
    "        punctuation_count = 0\n",
    "        for punct in punctuation:\n",
    "            punctuation_count += text.count(punct)\n",
    "        row['punctuation_count'] = punctuation_count\n",
    "        \n",
    "        #Quotation marks count\n",
    "        quotation_mark_count = text.count('\"')\n",
    "        quotation_mark_count += text.count(\"'\")\n",
    "        row['quotation_mark_count'] = quotation_mark_count\n",
    "        \n",
    "        #Add the sentence count\n",
    "               \n",
    "        tokenized_essay = nltk.sent_tokenize(text)\n",
    "        sent_count = len(tokenized_essay)\n",
    "        row['sentence_count'] = sent_count\n",
    "        \n",
    "        #Add word count after removing the stop words.\n",
    "        words = nltk.word_tokenize(text)\n",
    "        stop_words = set(stopwords.words('english'))\n",
    "        stop_words.update(['.', ',', '\"', \"'\", '?', '!', ':', ';', '(', ')', '[', ']', '{', '}']) # remove it if you need punctuation \n",
    "        \n",
    "        for word in words:\n",
    "            if word in stop_words:\n",
    "                words.remove(word)\n",
    "        word_count = len(words)\n",
    "        \n",
    "        row['word_count'] = word_count\n",
    "        \n",
    "        #Long word count\n",
    "        long_word_count = 0\n",
    "        total_word_length = 0\n",
    "        for word in words:\n",
    "            total_word_length += len(word)\n",
    "            if len(word) > 6:\n",
    "                long_word_count +=1\n",
    "        row['long_word_count'] = long_word_count\n",
    "        \n",
    "        #Average word length per essay\n",
    "        row['avg_word_length_per_essay'] = round((total_word_length/float(len(words))),2)\n",
    "        \n",
    "        \n",
    "        tool = grammar_check.LanguageTool('en-US')\n",
    "        matches = tool.check(text)\n",
    "        row['spelling_mistakes'] = len(matches)\n",
    "           \n",
    "        #POS TAGS\n",
    "        count= Counter([j for i,j in nltk.pos_tag(words)])\n",
    "               \n",
    "        row['noun_count'] = count['NN'] + count['NNS'] + count['NNPS'] + count['NNP']\n",
    "        row['verb_count'] = count['VB'] + count['VBG'] + count['VBP'] + count['VBN'] + count['VBZ']\n",
    "        row['adjective_count'] = count['JJ'] + count['JJR'] \n",
    "        row['adverb_count'] = count['RB'] + count['RBR'] + count['RBS']\n",
    "        \n",
    "        #No_of_domain_words and wrong words after removing the stop words and punctuations from the essay.\n",
    "        cnt = 0\n",
    "        wrong_word_count = 0\n",
    "        for word in words:\n",
    "            if wn.synsets(word):\n",
    "                cnt += 1\n",
    "            else:\n",
    "                wrong_word_count += 1\n",
    "        row['no_of_domain_words'] = cnt\n",
    "        row['wrong_words'] = wrong_word_count        \n",
    "        \n",
    "        #Word to sentence ratio\n",
    "        row['word_to_sent_ratio'] = round(float(word_count/float(sent_count)),2)\n",
    "        \n",
    "        #Number of characters\n",
    "        row['num_of_characters'] = nltk.FreqDist(text).N()\n",
    "        \n",
    "        #Debugging\n",
    "        if index%10==0:\n",
    "            print \"made features for rows with index upto \",index\n",
    "        \n",
    "print \"Done\""
   ]
  },
  {
   "cell_type": "code",
   "execution_count": 7,
   "metadata": {
    "collapsed": false
   },
   "outputs": [
    {
     "name": "stdout",
     "output_type": "stream",
     "text": [
      "made features for rows with index upto  0\n",
      "made features for rows with index upto  10\n",
      "made features for rows with index upto  20\n",
      "made features for rows with index upto  30\n",
      "made features for rows with index upto  40\n",
      "made features for rows with index upto  50\n",
      "made features for rows with index upto  60\n",
      "made features for rows with index upto  70\n",
      "made features for rows with index upto  80\n",
      "made features for rows with index upto  90\n",
      "made features for rows with index upto  100\n",
      "made features for rows with index upto  110\n",
      "made features for rows with index upto  120\n",
      "made features for rows with index upto  130\n",
      "made features for rows with index upto  140\n",
      "made features for rows with index upto  150\n",
      "made features for rows with index upto  160\n",
      "made features for rows with index upto  170\n",
      "made features for rows with index upto  180\n",
      "made features for rows with index upto  190\n",
      "made features for rows with index upto  200\n",
      "made features for rows with index upto  210\n",
      "made features for rows with index upto  220\n",
      "made features for rows with index upto  230\n",
      "made features for rows with index upto  240\n",
      "made features for rows with index upto  250\n",
      "made features for rows with index upto  260\n",
      "made features for rows with index upto  270\n",
      "made features for rows with index upto  280\n",
      "made features for rows with index upto  290\n",
      "made features for rows with index upto  300\n",
      "made features for rows with index upto  310\n",
      "made features for rows with index upto  320\n",
      "made features for rows with index upto  330\n",
      "made features for rows with index upto  340\n",
      "made features for rows with index upto  350\n",
      "made features for rows with index upto  360\n",
      "made features for rows with index upto  370\n",
      "made features for rows with index upto  380\n",
      "made features for rows with index upto  390\n",
      "made features for rows with index upto  400\n",
      "made features for rows with index upto  410\n",
      "made features for rows with index upto  420\n",
      "made features for rows with index upto  430\n",
      "made features for rows with index upto  440\n",
      "made features for rows with index upto  450\n",
      "made features for rows with index upto  460\n",
      "made features for rows with index upto  470\n",
      "made features for rows with index upto  480\n",
      "made features for rows with index upto  490\n",
      "made features for rows with index upto  500\n",
      "made features for rows with index upto  510\n",
      "made features for rows with index upto  520\n",
      "made features for rows with index upto  530\n",
      "made features for rows with index upto  540\n",
      "made features for rows with index upto  550\n",
      "made features for rows with index upto  560\n",
      "made features for rows with index upto  570\n",
      "made features for rows with index upto  580\n",
      "made features for rows with index upto  590\n",
      "made features for rows with index upto  600\n",
      "made features for rows with index upto  610\n",
      "made features for rows with index upto  620\n",
      "made features for rows with index upto  630\n",
      "made features for rows with index upto  640\n",
      "made features for rows with index upto  650\n",
      "made features for rows with index upto  660\n",
      "made features for rows with index upto  670\n",
      "made features for rows with index upto  680\n",
      "made features for rows with index upto  690\n",
      "made features for rows with index upto  700\n",
      "made features for rows with index upto  710\n",
      "made features for rows with index upto  720\n",
      "made features for rows with index upto  730\n",
      "made features for rows with index upto  740\n",
      "made features for rows with index upto  750\n",
      "made features for rows with index upto  760\n",
      "made features for rows with index upto  770\n",
      "made features for rows with index upto  780\n",
      "made features for rows with index upto  790\n",
      "made features for rows with index upto  800\n",
      "made features for rows with index upto  810\n",
      "made features for rows with index upto  820\n",
      "made features for rows with index upto  830\n",
      "made features for rows with index upto  840\n",
      "made features for rows with index upto  850\n",
      "made features for rows with index upto  860\n",
      "made features for rows with index upto  870\n",
      "made features for rows with index upto  880\n",
      "made features for rows with index upto  890\n",
      "made features for rows with index upto  900\n",
      "made features for rows with index upto  910\n",
      "made features for rows with index upto  920\n",
      "made features for rows with index upto  930\n",
      "made features for rows with index upto  940\n",
      "made features for rows with index upto  950\n",
      "made features for rows with index upto  960\n",
      "made features for rows with index upto  970\n",
      "made features for rows with index upto  980\n",
      "made features for rows with index upto  990\n",
      "made features for rows with index upto  1000\n",
      "made features for rows with index upto  1010\n",
      "made features for rows with index upto  1020\n",
      "made features for rows with index upto  1030\n",
      "made features for rows with index upto  1040\n",
      "made features for rows with index upto  1050\n",
      "made features for rows with index upto  1060\n",
      "made features for rows with index upto  1070\n",
      "made features for rows with index upto  1080\n",
      "made features for rows with index upto  1090\n",
      "made features for rows with index upto  1100\n",
      "made features for rows with index upto  1110\n",
      "made features for rows with index upto  1120\n",
      "made features for rows with index upto  1130\n",
      "made features for rows with index upto  1140\n",
      "made features for rows with index upto  1150\n",
      "made features for rows with index upto  1160\n",
      "made features for rows with index upto  1170\n",
      "made features for rows with index upto  1180\n",
      "made features for rows with index upto  1190\n",
      "made features for rows with index upto  1200\n",
      "made features for rows with index upto  1210\n",
      "made features for rows with index upto  1220\n",
      "made features for rows with index upto  1230\n",
      "made features for rows with index upto  1240\n",
      "made features for rows with index upto  1250\n",
      "made features for rows with index upto  1260\n",
      "made features for rows with index upto  1270\n",
      "made features for rows with index upto  1280\n",
      "made features for rows with index upto  1290\n",
      "made features for rows with index upto  1300\n",
      "made features for rows with index upto  1310\n",
      "made features for rows with index upto  1320\n",
      "made features for rows with index upto  1330\n",
      "made features for rows with index upto  1340\n",
      "made features for rows with index upto  1350\n",
      "made features for rows with index upto  1360\n",
      "made features for rows with index upto  1370\n",
      "made features for rows with index upto  1380\n",
      "made features for rows with index upto  1390\n",
      "made features for rows with index upto  1400\n",
      "made features for rows with index upto  1410\n",
      "made features for rows with index upto  1420\n",
      "made features for rows with index upto  1430\n",
      "made features for rows with index upto  1440\n",
      "made features for rows with index upto  1450\n",
      "made features for rows with index upto  1460\n",
      "made features for rows with index upto  1470\n",
      "made features for rows with index upto  1480\n",
      "made features for rows with index upto  1490\n",
      "made features for rows with index upto  1500\n",
      "made features for rows with index upto  1510\n",
      "made features for rows with index upto  1520\n",
      "made features for rows with index upto  1530\n",
      "made features for rows with index upto  1540\n",
      "made features for rows with index upto  1550\n",
      "made features for rows with index upto  1560\n",
      "made features for rows with index upto  1570\n",
      "made features for rows with index upto  1580\n",
      "made features for rows with index upto  1590\n",
      "made features for rows with index upto  1600\n",
      "made features for rows with index upto  1610\n",
      "made features for rows with index upto  1620\n",
      "made features for rows with index upto  1630\n",
      "made features for rows with index upto  1640\n",
      "made features for rows with index upto  1650\n",
      "made features for rows with index upto  1660\n",
      "made features for rows with index upto  1670\n",
      "made features for rows with index upto  1680\n",
      "made features for rows with index upto  1690\n",
      "made features for rows with index upto  1700\n",
      "made features for rows with index upto  1710\n",
      "made features for rows with index upto  1720\n",
      "made features for rows with index upto  1730\n",
      "made features for rows with index upto  1740\n",
      "made features for rows with index upto  1750\n",
      "made features for rows with index upto  1760\n",
      "made features for rows with index upto  1770\n",
      "made features for rows with index upto  1780\n",
      "Generated the features for the entire data-set in 6.5513 minutes\n",
      "Done\n"
     ]
    }
   ],
   "source": [
    "#Generate the feature set.\n",
    "def GenerateFeatures(X):\n",
    "    start = time()\n",
    "    featureSet2(X)\n",
    "    end = time()\n",
    "    print (\"Generated the features for the entire data-set in {:.4f} minutes\".format((end - start)/60.0))\n",
    "\n",
    "#temp=X_all[:200]\n",
    "GenerateFeatures(X_all)\n",
    "print \"Done\""
   ]
  },
  {
   "cell_type": "code",
   "execution_count": 8,
   "metadata": {
    "collapsed": false
   },
   "outputs": [
    {
     "data": {
      "text/html": [
       "<div>\n",
       "<style>\n",
       "    .dataframe thead tr:only-child th {\n",
       "        text-align: right;\n",
       "    }\n",
       "\n",
       "    .dataframe thead th {\n",
       "        text-align: left;\n",
       "    }\n",
       "\n",
       "    .dataframe tbody tr th {\n",
       "        vertical-align: top;\n",
       "    }\n",
       "</style>\n",
       "<table border=\"1\" class=\"dataframe\">\n",
       "  <thead>\n",
       "    <tr style=\"text-align: right;\">\n",
       "      <th></th>\n",
       "      <th>word_count</th>\n",
       "      <th>long_word_count</th>\n",
       "      <th>avg_word_length_per_essay</th>\n",
       "      <th>wrong_words</th>\n",
       "      <th>no_of_domain_words</th>\n",
       "      <th>word_to_sent_ratio</th>\n",
       "      <th>num_of_characters</th>\n",
       "      <th>sentence_count</th>\n",
       "      <th>noun_count</th>\n",
       "      <th>verb_count</th>\n",
       "      <th>comma_count</th>\n",
       "      <th>punctuation_count</th>\n",
       "      <th>adjective_count</th>\n",
       "      <th>adverb_count</th>\n",
       "      <th>quotation_mark_count</th>\n",
       "      <th>spelling_mistakes</th>\n",
       "    </tr>\n",
       "  </thead>\n",
       "  <tbody>\n",
       "    <tr>\n",
       "      <th>0</th>\n",
       "      <td>236</td>\n",
       "      <td>54</td>\n",
       "      <td>4.83</td>\n",
       "      <td>67</td>\n",
       "      <td>169</td>\n",
       "      <td>14.75</td>\n",
       "      <td>1819</td>\n",
       "      <td>16</td>\n",
       "      <td>78</td>\n",
       "      <td>51</td>\n",
       "      <td>15</td>\n",
       "      <td>17</td>\n",
       "      <td>24</td>\n",
       "      <td>10</td>\n",
       "      <td>4</td>\n",
       "      <td>0</td>\n",
       "    </tr>\n",
       "    <tr>\n",
       "      <th>1</th>\n",
       "      <td>281</td>\n",
       "      <td>76</td>\n",
       "      <td>4.93</td>\n",
       "      <td>56</td>\n",
       "      <td>225</td>\n",
       "      <td>16.53</td>\n",
       "      <td>2205</td>\n",
       "      <td>17</td>\n",
       "      <td>94</td>\n",
       "      <td>66</td>\n",
       "      <td>11</td>\n",
       "      <td>17</td>\n",
       "      <td>18</td>\n",
       "      <td>17</td>\n",
       "      <td>3</td>\n",
       "      <td>1</td>\n",
       "    </tr>\n",
       "    <tr>\n",
       "      <th>2</th>\n",
       "      <td>188</td>\n",
       "      <td>51</td>\n",
       "      <td>5.01</td>\n",
       "      <td>34</td>\n",
       "      <td>154</td>\n",
       "      <td>13.43</td>\n",
       "      <td>1482</td>\n",
       "      <td>14</td>\n",
       "      <td>68</td>\n",
       "      <td>43</td>\n",
       "      <td>8</td>\n",
       "      <td>14</td>\n",
       "      <td>17</td>\n",
       "      <td>10</td>\n",
       "      <td>4</td>\n",
       "      <td>6</td>\n",
       "    </tr>\n",
       "    <tr>\n",
       "      <th>3</th>\n",
       "      <td>346</td>\n",
       "      <td>109</td>\n",
       "      <td>5.38</td>\n",
       "      <td>76</td>\n",
       "      <td>270</td>\n",
       "      <td>13.31</td>\n",
       "      <td>2817</td>\n",
       "      <td>26</td>\n",
       "      <td>134</td>\n",
       "      <td>64</td>\n",
       "      <td>12</td>\n",
       "      <td>26</td>\n",
       "      <td>38</td>\n",
       "      <td>21</td>\n",
       "      <td>5</td>\n",
       "      <td>14</td>\n",
       "    </tr>\n",
       "    <tr>\n",
       "      <th>4</th>\n",
       "      <td>318</td>\n",
       "      <td>81</td>\n",
       "      <td>4.99</td>\n",
       "      <td>88</td>\n",
       "      <td>230</td>\n",
       "      <td>10.6</td>\n",
       "      <td>2533</td>\n",
       "      <td>30</td>\n",
       "      <td>107</td>\n",
       "      <td>57</td>\n",
       "      <td>12</td>\n",
       "      <td>30</td>\n",
       "      <td>21</td>\n",
       "      <td>24</td>\n",
       "      <td>5</td>\n",
       "      <td>3</td>\n",
       "    </tr>\n",
       "  </tbody>\n",
       "</table>\n",
       "</div>"
      ],
      "text/plain": [
       "  word_count long_word_count avg_word_length_per_essay wrong_words  \\\n",
       "0        236              54                      4.83          67   \n",
       "1        281              76                      4.93          56   \n",
       "2        188              51                      5.01          34   \n",
       "3        346             109                      5.38          76   \n",
       "4        318              81                      4.99          88   \n",
       "\n",
       "  no_of_domain_words word_to_sent_ratio num_of_characters sentence_count  \\\n",
       "0                169              14.75              1819             16   \n",
       "1                225              16.53              2205             17   \n",
       "2                154              13.43              1482             14   \n",
       "3                270              13.31              2817             26   \n",
       "4                230               10.6              2533             30   \n",
       "\n",
       "  noun_count verb_count comma_count punctuation_count adjective_count  \\\n",
       "0         78         51          15                17              24   \n",
       "1         94         66          11                17              18   \n",
       "2         68         43           8                14              17   \n",
       "3        134         64          12                26              38   \n",
       "4        107         57          12                30              21   \n",
       "\n",
       "  adverb_count quotation_mark_count spelling_mistakes  \n",
       "0           10                    4                 0  \n",
       "1           17                    3                 1  \n",
       "2           10                    4                 6  \n",
       "3           21                    5                14  \n",
       "4           24                    5                 3  "
      ]
     },
     "execution_count": 8,
     "metadata": {},
     "output_type": "execute_result"
    }
   ],
   "source": [
    "# Save the features generated to a .csv file in case of failure or recovery purpose.\n",
    "X_all.to_csv('features_set_1.csv', sep='\\t')\n",
    "\n",
    "describe_the_data = X_all.drop('essay',axis = 1)\n",
    "describe_the_data.head()"
   ]
  },
  {
   "cell_type": "code",
   "execution_count": 9,
   "metadata": {
    "collapsed": false
   },
   "outputs": [
    {
     "name": "stderr",
     "output_type": "stream",
     "text": [
      "/usr/local/lib/python2.7/dist-packages/sklearn/cross_validation.py:44: DeprecationWarning: This module was deprecated in version 0.18 in favor of the model_selection module into which all the refactored classes and functions are moved. Also note that the interface of the new CV iterators are different from that of this module. This module will be removed in 0.20.\n",
      "  \"This module will be removed in 0.20.\", DeprecationWarning)\n"
     ]
    }
   ],
   "source": [
    "#Fitting, predicting and calculating error. \n",
    "#Using LinearRegression, 5 fold cross validation and quadratic kappa as an error metric.\n",
    "import matplotlib.pyplot as plt\n",
    "from sklearn import cross_validation\n",
    "from sklearn.linear_model import LinearRegression\n",
    "from metrics import kappa\n",
    "\n",
    "def Evaluate(feature_list):\n",
    "    model = LinearRegression()\n",
    "\n",
    "    #Simple K-Fold cross validation. 5 folds.\n",
    "    cv = cross_validation.KFold(len(X_all), n_folds=5,shuffle=True)\n",
    "    results = []\n",
    "    \n",
    "    for traincv, testcv in cv:\n",
    "            X_test, X_train, y_test, y_train = X_all.ix[testcv], X_all.ix[traincv], y_all.ix[testcv], y_all.ix[traincv]\n",
    "\n",
    "            #final_train_data = X_train.drop('essay',axis = 1)\n",
    "            #final_test_data = X_test.drop('essay',axis = 1)\n",
    "            \n",
    "            final_train_data = X_train[feature_list]\n",
    "            final_test_data = X_test[feature_list]\n",
    "            \n",
    "            model.fit(final_train_data,y_train)\n",
    "            start = time()\n",
    "            y_pred = model.predict(final_test_data)\n",
    "            end = time()\n",
    "\n",
    "            #print (\"Made predictions in {:.4f} seconds.\".format(end - start))\n",
    "            result = kappa(y_test.values,np.around(y_pred,decimals=2),weights='quadratic')\n",
    "            results.append(result)\n",
    "            #print y_test,np.around(y_pred,decimals=2)\n",
    "            X_test_list = [i for i in range(len(X_test))]\n",
    "            plt.scatter(X_test_list,y_test.values,color='black')\n",
    "            plt.scatter(X_test_list,np.around(y_pred,decimals=2),color='blue')\n",
    "            #print len(X_test),len(y_test),len(y_pred)\n",
    "            #probas = model.fit(train[traincv], target[traincv]).predict_proba(train[testcv])\n",
    "            \n",
    "\n",
    "    #print \"Results: \" + str( np.array(results).mean() )\n",
    "    return str(np.array(results).mean())\n"
   ]
  },
  {
   "cell_type": "code",
   "execution_count": 10,
   "metadata": {
    "collapsed": false
   },
   "outputs": [
    {
     "name": "stderr",
     "output_type": "stream",
     "text": [
      "/home/alphamike/.local/lib/python2.7/site-packages/ipykernel/__main__.py:16: DeprecationWarning: \n",
      ".ix is deprecated. Please use\n",
      ".loc for label based indexing or\n",
      ".iloc for positional indexing\n",
      "\n",
      "See the documentation here:\n",
      "http://pandas.pydata.org/pandas-docs/stable/indexing.html#deprecate_ix\n"
     ]
    },
    {
     "data": {
      "text/plain": [
       "'0.685942374656'"
      ]
     },
     "execution_count": 10,
     "metadata": {},
     "output_type": "execute_result"
    }
   ],
   "source": [
    "feature_columns = [\"word_count\",\"long_word_count\",\"avg_word_length_per_essay\",\"wrong_words\",\"no_of_domain_words\",\"word_to_sent_ratio\",\"num_of_characters\",\"sentence_count\",\"noun_count\",\"verb_count\",\"comma_count\",\"punctuation_count\",\"adjective_count\",\"adverb_count\",\"quotation_mark_count\",\"spelling_mistakes\"]\n",
    "feature_dict = {}\n",
    "for i in feature_columns:\n",
    "    feature_dict[i] = 0\n",
    "Evaluate(feature_columns)"
   ]
  },
  {
   "cell_type": "code",
   "execution_count": 11,
   "metadata": {
    "collapsed": false
   },
   "outputs": [
    {
     "data": {
      "text/plain": [
       "{'adjective_count': 53.4764,\n",
       " 'adverb_count': 44.407,\n",
       " 'avg_word_length_per_essay': 15.9346,\n",
       " 'comma_count': 45.6213,\n",
       " 'long_word_count': 63.8797,\n",
       " 'no_of_domain_words': 62.0602,\n",
       " 'noun_count': 59.3343,\n",
       " 'num_of_characters': 62.8461,\n",
       " 'punctuation_count': 51.7592,\n",
       " 'quotation_mark_count': 19.5724,\n",
       " 'sentence_count': 52.7083,\n",
       " 'spelling_mistakes': 18.2192,\n",
       " 'verb_count': 49.8331,\n",
       " 'word_count': 61.5948,\n",
       " 'word_to_sent_ratio': 9.058,\n",
       " 'wrong_words': 47.3121}"
      ]
     },
     "execution_count": 11,
     "metadata": {},
     "output_type": "execute_result"
    }
   ],
   "source": [
    "for f in feature_columns:\n",
    "    score = Evaluate([f])\n",
    "    feature_dict[f] = round(float(score)*100,4)\n",
    "feature_dict"
   ]
  },
  {
   "cell_type": "markdown",
   "metadata": {},
   "source": [
    "# Visualizing single-feature kappa scores\n"
   ]
  },
  {
   "cell_type": "code",
   "execution_count": 12,
   "metadata": {
    "collapsed": false
   },
   "outputs": [
    {
     "name": "stdout",
     "output_type": "stream",
     "text": [
      "\t\tIndex\t Feature\n",
      "\t\t| 0 |\t| long_word_count |\n",
      "\t\t--------------------------------\n",
      "\t\t| 1 |\t| num_of_characters |\n",
      "\t\t--------------------------------\n",
      "\t\t| 2 |\t| no_of_domain_words |\n",
      "\t\t--------------------------------\n",
      "\t\t| 3 |\t| word_count |\n",
      "\t\t--------------------------------\n",
      "\t\t| 4 |\t| noun_count |\n",
      "\t\t--------------------------------\n",
      "\t\t| 5 |\t| adjective_count |\n",
      "\t\t--------------------------------\n",
      "\t\t| 6 |\t| sentence_count |\n",
      "\t\t--------------------------------\n",
      "\t\t| 7 |\t| punctuation_count |\n",
      "\t\t--------------------------------\n",
      "\t\t| 8 |\t| verb_count |\n",
      "\t\t--------------------------------\n",
      "\t\t| 9 |\t| wrong_words |\n",
      "\t\t--------------------------------\n",
      "\t\t| 10 |\t| comma_count |\n",
      "\t\t--------------------------------\n",
      "\t\t| 11 |\t| adverb_count |\n",
      "\t\t--------------------------------\n",
      "\t\t| 12 |\t| quotation_mark_count |\n",
      "\t\t--------------------------------\n",
      "\t\t| 13 |\t| spelling_mistakes |\n",
      "\t\t--------------------------------\n",
      "\t\t| 14 |\t| avg_word_length_per_essay |\n",
      "\t\t--------------------------------\n",
      "\t\t| 15 |\t| word_to_sent_ratio |\n",
      "\t\t--------------------------------\n"
     ]
    },
    {
     "data": {
      "image/png": "[encoded data removed]",
      "text/plain": [
       "<matplotlib.figure.Figure at 0x7f3ade22c710>"
      ]
     },
     "metadata": {},
     "output_type": "display_data"
    }
   ],
   "source": [
    "#Single feature Kappa\n",
    "import operator\n",
    "sorted_feature_list = sorted(feature_dict.items(), key=operator.itemgetter(1),reverse=True)\n",
    "#sorted_feature_list\n",
    "\n",
    "print \"\\t\\tIndex\\t Feature\"\n",
    "for x in range(len(sorted_feature_list)):\n",
    "    print \"\\t\\t|\",x,\"|\\t|\",sorted_feature_list[x][0],\"|\"\n",
    "    print \"\\t\\t--------------------------------\"\n",
    "\n",
    "objects = [x[1] for x in sorted_feature_list]\n",
    "y_pos = np.arange(len(objects))\n",
    "plt.bar(y_pos, objects, align='center', alpha=0.5)\n",
    "#plt.xticks(y_pos, objects)\n",
    "plt.ylabel('Kappa score')\n",
    "plt.title('Single feature Kappa')\n",
    "plt.show()"
   ]
  },
  {
   "cell_type": "code",
   "execution_count": 13,
   "metadata": {
    "collapsed": false
   },
   "outputs": [
    {
     "name": "stdout",
     "output_type": "stream",
     "text": [
      "Index   Forward Feature list\n"
     ]
    },
    {
     "data": {
      "image/png": "[encoded data removed]",
      "text/plain": [
       "<matplotlib.figure.Figure at 0x7f3acbbc20d0>"
      ]
     },
     "metadata": {},
     "output_type": "display_data"
    }
   ],
   "source": [
    "#Forward feature selection.\n",
    "sorted_f = [i[0] for i in sorted_feature_list]\n",
    "objects = []\n",
    "results = []\n",
    "for i in range(1,len(sorted_f)+1):\n",
    "    forward_feature_list = sorted_f[:i]\n",
    "    round(float(score)*100,4)\n",
    "    result = round(float(Evaluate(forward_feature_list))*100,4)\n",
    "    results.append(result)\n",
    "    objects.append(forward_feature_list)\n",
    "     \n",
    "print \"Index   Forward Feature list\"\n",
    "#for x in range(len(objects)):\n",
    "    #print x,\"  \",objects[x]\n",
    "    #print \"--------------------------------------------------\"\n",
    "        \n",
    "y_pos = np.arange(len(objects))\n",
    "plt.bar(y_pos,results)\n",
    "plt.show()"
   ]
  },
  {
   "cell_type": "markdown",
   "metadata": {},
   "source": [
    "**Manually selecting best performing feature-set from the results obtained through forward feature selection**\n",
    "\n",
    "Selected the features whose inclusion resulted in an increase in the Kappa-Score, according to the values and the graphs, the indexes of selected feature are {0,1,2,3,5,8,10,11,13,14,15}"
   ]
  },
  {
   "cell_type": "code",
   "execution_count": 14,
   "metadata": {
    "collapsed": false
   },
   "outputs": [
    {
     "name": "stdout",
     "output_type": "stream",
     "text": [
      "0.686540374848\n",
      "0.688046122436\n"
     ]
    },
    {
     "data": {
      "text/plain": [
       "['long_word_count',\n",
       " 'num_of_characters',\n",
       " 'no_of_domain_words',\n",
       " 'word_count',\n",
       " 'adjective_count',\n",
       " 'verb_count',\n",
       " 'comma_count',\n",
       " 'adverb_count',\n",
       " 'spelling_mistakes',\n",
       " 'avg_word_length_per_essay',\n",
       " 'word_to_sent_ratio']"
      ]
     },
     "execution_count": 14,
     "metadata": {},
     "output_type": "execute_result"
    }
   ],
   "source": [
    "selected_indexes  = [0,1,2,3,5,8,10,11,13,14,15] #Do not delete\n",
    "selected_features = [sorted_f[i] for i in selected_indexes]\n",
    "result = Evaluate(selected_features)\n",
    "\n",
    "print Evaluate(selected_features)\n",
    "print Evaluate(sorted_f)\n",
    "selected_features\n"
   ]
  },
  {
   "cell_type": "markdown",
   "metadata": {},
   "source": [
    "# Data exploration\n",
    "\n",
    "The plots below allows us to view the underlying trends within the data. The plots visualize how the 11 selected features through forward feature selection impact the grade of an essay."
   ]
  },
  {
   "cell_type": "code",
   "execution_count": 15,
   "metadata": {
    "collapsed": false
   },
   "outputs": [],
   "source": [
    "def plots(x,y,xlabel,title,ax,color='b'):\n",
    "    ax.scatter(x,y,color = color)\n",
    "    ax.set_ylabel('Grade')\n",
    "    ax.set_xlabel(xlabel)\n",
    "    ax.set_title(title)\n",
    "    \n",
    "    "
   ]
  },
  {
   "cell_type": "code",
   "execution_count": 16,
   "metadata": {
    "collapsed": false
   },
   "outputs": [
    {
     "data": {
      "image/png": "[encoded data removed]",
      "text/plain": [
       "<matplotlib.figure.Figure at 0x7f3ac764b450>"
      ]
     },
     "metadata": {},
     "output_type": "display_data"
    },
    {
     "data": {
      "image/png": "[encoded data removed]",
      "text/plain": [
       "<matplotlib.figure.Figure at 0x7f3ac703b890>"
      ]
     },
     "metadata": {},
     "output_type": "display_data"
    }
   ],
   "source": [
    "%matplotlib inline\n",
    "import matplotlib.pyplot as plt\n",
    "\n",
    "fig, ((ax1, ax2), (ax3, ax4), (ax5, ax6),(ax7, ax8),(ax9, ax10)) = plt.subplots(5, 2, figsize=(15, 25))\n",
    "axs = [ax1,ax2,ax3,ax4,ax5,ax6,ax7,ax8,ax9,ax10]\n",
    "for i in range(len(selected_features)-1):\n",
    "    plots(X_all[selected_features[i]],y_all,selected_features[i],selected_features[i] +\" v/s Grade\",axs[i])\n",
    "    \n",
    "fig.savefig('Essay1Features.png', bbox_inches = \"tight\")\n",
    "  \n",
    "fig, ax = plt.subplots()\n",
    "plots(X_all['word_to_sent_ratio'],y_all,'word_to_sent_ratio','word_to_sent_ratio v/s Grade',ax)"
   ]
  },
  {
   "cell_type": "markdown",
   "metadata": {},
   "source": [
    "# Observation\n",
    "\n",
    "As expected, we were able to see general trends between the sentence structure of an essay and the grade it received. Noteably, we see that it is not uncommon to see essays with a large number of spelling mistakes receive a high grade. One could make the assumption that techonology's (Word's Spell Check) influence on writing has made it less imperitive for students to spell correctly. It seems as though the message carries more weight than specific errors in the essay."
   ]
  },
  {
   "cell_type": "code",
   "execution_count": null,
   "metadata": {
    "collapsed": true
   },
   "outputs": [],
   "source": [
    "#Redundant code\n",
    "'''\n",
    "#Training testing using train_test_split\n",
    "\n",
    "num_train = 1450\n",
    "\n",
    "# Set the number of testing points\n",
    "num_test = X_all.shape[0] - num_train\n",
    "\n",
    "\n",
    "#Shuffle and split the dataset into the number of training and testing points above\n",
    "X_train, X_test, y_train, y_test = train_test_split(X_all, y_all, train_size=num_train,random_state=42)\n",
    "\n",
    "# Show the results of the split\n",
    "print (\"Training set has {} samples.\".format(X_train.shape[0]))\n",
    "print (\"Testing set has {} samples.\".format(X_test.shape[0]))\n",
    "print type(X_test)\n",
    "print type(y_test)\n",
    "y_test.name = \"scores\"\n",
    "\n",
    "\n",
    "def termdocumentmatrix():\n",
    "    # Initialize class to create term-document matrix\n",
    "    tdm = textmining.TermDocumentMatrix()\n",
    "    # Add the documents\n",
    "    for index,row in essay_data.iterrows():\n",
    "        tdm.add_doc(row['essay'])\n",
    "    # Write out the matrix to a csv file. Note that setting cutoff=2 means\n",
    "    # that words which appear in 1 or more documents will be included in\n",
    "    # the output (i.e. every word will appear in the output). The default\n",
    "    # for cutoff is 2, since we usually aren't interested in words which\n",
    "    # appear in a single document. For this example we want to see all\n",
    "    # words however, hence cutoff=1.\n",
    "    tdm.write_csv('matrix.csv', cutoff=1)\n",
    "    # Instead of writing out the matrix you can also access its rows directly.\n",
    "    # Let's print them to the screen.\n",
    "    return tdm\n",
    "    \n",
    "def domainInformationContent(X,Y):\n",
    "    #Get essay with maximum score.\n",
    "    essay_index_with_max_score = Y.idxmax()\n",
    "    essay_with_max_score = X.ix[essay_index_with_max_score]['essay']\n",
    "    #print essay_with_max_score\n",
    "    \n",
    "    #Extract the noun words from this essay and feed it to WordNet.\n",
    "    lines = 'lines is some string of words'\n",
    "    # function to test if something is a noun\n",
    "    is_noun = lambda pos: pos[:2] == 'NN'\n",
    "    # do the nlp stuff\n",
    "    tokenized_max = nltk.word_tokenize(essay_with_max_score)\n",
    "    nouns_max = [word for (word, pos) in nltk.pos_tag(tokenized_max) if is_noun(pos)] \n",
    "    return nouns_max\n",
    "      \n",
    "\n",
    "\n",
    "#Some random plots\n",
    "from matplotlib import pyplot as plt\n",
    "from matplotlib import style\n",
    "%matplotlib inline \n",
    "\n",
    "style.use('ggplot')\n",
    "\n",
    "plt.plot(X_test['no_of_domain_words'],y_test,'.')\n",
    "plt.plot(X_test['no_of_domain_words'],y_pred,'-')\n",
    "plt.show()\n",
    "\n",
    "\n",
    "#Feature wise training\n",
    "def featurewisetraining(feature):\n",
    "    _1dfeature = X_train[feature].reshape(-1,1)\n",
    "    lr.fit(_1dfeature,y_train)\n",
    "    X_T = X_test[feature].reshape(-1,1)\n",
    "    print \"Score for feature \",feature,\" is \",lr.score(X_T,y_test)\n",
    "    plt.plot(X_test[feature],y_test,'.')\n",
    "    plt.plot(X_test[feature],y_pred,'-')\n",
    "    plt.show()\n",
    "    \n",
    "featurewisetraining('word_count')\n",
    "featurewisetraining('sentence_count')\n",
    "featurewisetraining('spelling_mistakes')\n",
    "featurewisetraining('no_of_domain_words')\n",
    "featurewisetraining('word_to_sent_ratio')\n",
    "featurewisetraining('wrong_words')\n",
    "featurewisetraining('num_of_characters')\n",
    "\n",
    "#Hence we drop the word_to_sent ratio feature.\n",
    "'''"
   ]
  },
  {
   "cell_type": "code",
   "execution_count": 17,
   "metadata": {
    "collapsed": false
   },
   "outputs": [
    {
     "data": {
      "text/plain": [
       "array([[54, 1819, 169, ..., 0, 4.83, 14.75],\n",
       "       [76, 2205, 225, ..., 1, 4.93, 16.53],\n",
       "       [51, 1482, 154, ..., 6, 5.01, 13.43],\n",
       "       ..., \n",
       "       [50, 1642, 148, ..., 3, 5.07, 10.78],\n",
       "       [2, 71, 10, ..., 1, 4.2, 10.0],\n",
       "       [32, 1117, 118, ..., 2, 4.67, 8.28]], dtype=object)"
      ]
     },
     "execution_count": 17,
     "metadata": {},
     "output_type": "execute_result"
    }
   ],
   "source": [
    "myOwnFeatureVec = np.array(X_all[selected_features])\n",
    "myOwnFeatureVec\n",
    "\n"
   ]
  },
  {
   "cell_type": "code",
   "execution_count": 19,
   "metadata": {
    "collapsed": true
   },
   "outputs": [],
   "source": [
    "def essay_to_wordlist(essay_v, remove_stopwords):\n",
    "    essay_v = re.sub(\"[^a-zA-Z]\", \" \", essay_v)\n",
    "    words = essay_v.lower().split()\n",
    "    if remove_stopwords:\n",
    "        stops = set(stopwords.words(\"english\"))\n",
    "        words = [w for w in words if not w in stops]\n",
    "    return (words)\n",
    "\n",
    "tokenizer = nltk.data.load('tokenizers/punkt/english.pickle')\n",
    "\n",
    "def essay_to_sentences(essay_v, remove_stopwords):\n",
    "    raw_sentences = tokenizer.tokenize(essay_v.strip())\n",
    "    sentences = []\n",
    "    for raw_sentence in raw_sentences:\n",
    "        if len(raw_sentence) > 0:\n",
    "            sentences.append(essay_to_wordlist(raw_sentence, remove_stopwords))\n",
    "    return sentences"
   ]
  },
  {
   "cell_type": "code",
   "execution_count": 20,
   "metadata": {
    "collapsed": false
   },
   "outputs": [
    {
     "name": "stdout",
     "output_type": "stream",
     "text": [
      "Performing sentence and word tokenizing which will be used for word2vec\n",
      "39167\n",
      "Done\n"
     ]
    }
   ],
   "source": [
    "from sklearn.model_selection import train_test_split\n",
    "\n",
    "X_train, X_test, y_train, y_test = train_test_split(X_all, y_all, test_size=0.10,random_state=24)\n",
    "    \n",
    "train_essays = X_train['essay']\n",
    "test_essays = X_test['essay']\n",
    "#print essays\n",
    "sentences = []\n",
    "\n",
    "print (\"Performing sentence and word tokenizing which will be used for word2vec\")\n",
    "\n",
    "for essay in train_essays:\n",
    "    sentences += essay_to_sentences(unicode(essay,\"utf-8\",errors='ignore'), remove_stopwords = True)\n",
    "\n",
    "for essay in test_essays:\n",
    "    sentences += essay_to_sentences(unicode(essay,\"utf-8\",errors='ignore'), remove_stopwords = True)\n",
    "\n",
    "print(len(sentences))\n",
    "print(\"Done\")\n"
   ]
  },
  {
   "cell_type": "code",
   "execution_count": 22,
   "metadata": {
    "collapsed": false
   },
   "outputs": [
    {
     "name": "stderr",
     "output_type": "stream",
     "text": [
      "2017-05-24 16:29:33,297 : INFO : collecting all words and their counts\n",
      "2017-05-24 16:29:33,298 : INFO : PROGRESS: at sentence #0, processed 0 words, keeping 0 word types\n",
      "2017-05-24 16:29:33,333 : INFO : PROGRESS: at sentence #10000, processed 81487 words, keeping 7048 word types\n",
      "2017-05-24 16:29:33,372 : INFO : PROGRESS: at sentence #20000, processed 162211 words, keeping 10266 word types\n",
      "2017-05-24 16:29:33,407 : INFO : PROGRESS: at sentence #30000, processed 242833 words, keeping 12916 word types\n",
      "2017-05-24 16:29:33,436 : INFO : collected 15206 word types from a corpus of 315898 raw words and 39167 sentences\n",
      "2017-05-24 16:29:33,437 : INFO : Loading a fresh vocabulary\n",
      "2017-05-24 16:29:33,447 : INFO : min_count=40 retains 922 unique words (6% of original 15206, drops 14284)\n",
      "2017-05-24 16:29:33,448 : INFO : min_count=40 leaves 265332 word corpus (83% of original 315898, drops 50566)\n",
      "2017-05-24 16:29:33,453 : INFO : deleting the raw counts dictionary of 15206 items\n",
      "2017-05-24 16:29:33,454 : INFO : sample=0.001 downsamples 82 most-common words\n",
      "2017-05-24 16:29:33,455 : INFO : downsampling leaves estimated 195367 word corpus (73.6% of prior 265332)\n",
      "2017-05-24 16:29:33,456 : INFO : estimated required memory for 922 words and 300 dimensions: 2673800 bytes\n",
      "2017-05-24 16:29:33,459 : INFO : resetting layer weights\n",
      "2017-05-24 16:29:33,479 : INFO : training model with 4 workers on 922 vocabulary and 300 features, using sg=0 hs=0 sample=0.001 negative=5 window=10\n"
     ]
    },
    {
     "name": "stdout",
     "output_type": "stream",
     "text": [
      "Training model...\n"
     ]
    },
    {
     "name": "stderr",
     "output_type": "stream",
     "text": [
      "2017-05-24 16:29:34,592 : INFO : PROGRESS: at 52.46% examples, 511970 words/s, in_qsize 8, out_qsize 0\n",
      "2017-05-24 16:29:35,317 : INFO : worker thread finished; awaiting finish of 3 more threads\n",
      "2017-05-24 16:29:35,318 : INFO : worker thread finished; awaiting finish of 2 more threads\n",
      "2017-05-24 16:29:35,332 : INFO : worker thread finished; awaiting finish of 1 more threads\n",
      "2017-05-24 16:29:35,334 : INFO : worker thread finished; awaiting finish of 0 more threads\n",
      "2017-05-24 16:29:35,336 : INFO : training on 1579490 raw words (976740 effective words) took 1.7s, 559557 effective words/s\n",
      "2017-05-24 16:29:35,336 : INFO : precomputing L2-norms of word weight vectors\n",
      "2017-05-24 16:29:35,348 : INFO : saving Word2Vec object under 300features_40minwords_10context, separately None\n",
      "2017-05-24 16:29:35,390 : INFO : not storing attribute syn0norm\n",
      "2017-05-24 16:29:35,392 : INFO : not storing attribute cum_table\n",
      "2017-05-24 16:29:35,564 : INFO : saved 300features_40minwords_10context\n"
     ]
    },
    {
     "name": "stdout",
     "output_type": "stream",
     "text": [
      "Done\n"
     ]
    }
   ],
   "source": [
    "import logging\n",
    "from gensim.models import word2vec\n",
    "\n",
    "logging.basicConfig(format='%(asctime)s : %(levelname)s : %(message)s', level=logging.INFO)\n",
    "\n",
    "num_features = 300 \n",
    "min_word_count = 40\n",
    "num_workers = 4\n",
    "context = 10\n",
    "downsampling = 1e-3\n",
    "\n",
    "print (\"Training model...\")\n",
    "model = word2vec.Word2Vec(sentences, workers=num_workers, size=num_features, min_count = min_word_count, window = context, sample = downsampling)\n",
    "\n",
    "model.init_sims(replace=True)\n",
    "\n",
    "model_name = \"300features_40minwords_10context\"\n",
    "model.save(model_name)\n",
    "\n",
    "print (\"Done\")"
   ]
  },
  {
   "cell_type": "code",
   "execution_count": 23,
   "metadata": {
    "collapsed": false
   },
   "outputs": [
    {
     "name": "stdout",
     "output_type": "stream",
     "text": [
      "Creating average feature vecs for Training Essays\n",
      "Done\n"
     ]
    }
   ],
   "source": [
    "def makeFeatureVec(words, model, num_features):\n",
    "    featureVec = np.zeros((num_features,),dtype=\"float32\")\n",
    "    nwords = 0.\n",
    "    index2word_set = set(model.wv.index2word)\n",
    "    for word in words:\n",
    "        if word in index2word_set: \n",
    "            nwords = nwords + 1.\n",
    "            featureVec = np.add(featureVec,model[word])        \n",
    "    featureVec = np.divide(featureVec,nwords)\n",
    "    return featureVec\n",
    "\n",
    "def getAvgFeatureVecs(essays, model, num_features):\n",
    "    counter = 0\n",
    "    essayFeatureVecs = np.zeros((len(essays),num_features),dtype=\"float32\") # len(essays) X num_features matrix\n",
    "    for essay in essays:\n",
    "        essayFeatureVecs[counter] = makeFeatureVec(essay, model, num_features)\n",
    "        counter = counter + 1\n",
    "    return essayFeatureVecs\n",
    "\n",
    "print (\"Creating average feature vecs for Training Essays\")\n",
    "clean_train_essays = []\n",
    "for essay_v in train_essays:\n",
    "    clean_train_essays.append( essay_to_wordlist( essay_v, remove_stopwords=True ))\n",
    "    \n",
    "trainDataVecs = getAvgFeatureVecs( clean_train_essays, model, num_features )\n",
    "\n",
    "\n",
    "print(\"Done\")"
   ]
  },
  {
   "cell_type": "code",
   "execution_count": 24,
   "metadata": {
    "collapsed": false
   },
   "outputs": [
    {
     "name": "stdout",
     "output_type": "stream",
     "text": [
      "Done\n"
     ]
    }
   ],
   "source": [
    "clean_test_essays = []\n",
    "for essay_v in test_essays:\n",
    "    clean_test_essays.append( essay_to_wordlist( essay_v, remove_stopwords=True ))\n",
    "testDataVecs = getAvgFeatureVecs( clean_test_essays, model, num_features )\n",
    "\n",
    "print(\"Done\")"
   ]
  },
  {
   "cell_type": "code",
   "execution_count": 25,
   "metadata": {
    "collapsed": false
   },
   "outputs": [
    {
     "name": "stdout",
     "output_type": "stream",
     "text": [
      "1604 300\n"
     ]
    }
   ],
   "source": [
    "print len(trainDataVecs),len(trainDataVecs[0])"
   ]
  },
  {
   "cell_type": "code",
   "execution_count": 26,
   "metadata": {
    "collapsed": false
   },
   "outputs": [
    {
     "name": "stdout",
     "output_type": "stream",
     "text": [
      "1783 11\n"
     ]
    }
   ],
   "source": [
    "myOwnTrainFeatureVec = np.array(X_train[selected_features])\n",
    "myOwnTestFeatureVec = np.array(X_test[selected_features])\n",
    "print len(myOwnFeatureVec),len(myOwnFeatureVec[0])"
   ]
  },
  {
   "cell_type": "code",
   "execution_count": 27,
   "metadata": {
    "collapsed": false
   },
   "outputs": [
    {
     "ename": "ValueError",
     "evalue": "all the input array dimensions except for the concatenation axis must match exactly",
     "output_type": "error",
     "traceback": [
      "\u001b[0;31m---------------------------------------------------------------------------\u001b[0m",
      "\u001b[0;31mValueError\u001b[0m                                Traceback (most recent call last)",
      "\u001b[0;32m<ipython-input-27-cb1a1d27aee0>\u001b[0m in \u001b[0;36m<module>\u001b[0;34m()\u001b[0m\n\u001b[0;32m----> 1\u001b[0;31m \u001b[0mtrainDataVecs2\u001b[0m \u001b[0;34m=\u001b[0m \u001b[0mnp\u001b[0m\u001b[0;34m.\u001b[0m\u001b[0mconcatenate\u001b[0m\u001b[0;34m(\u001b[0m\u001b[0;34m(\u001b[0m\u001b[0mtrainDataVecs\u001b[0m\u001b[0;34m,\u001b[0m\u001b[0mmyOwnFeatureVec\u001b[0m\u001b[0;34m)\u001b[0m\u001b[0;34m,\u001b[0m\u001b[0;36m1\u001b[0m\u001b[0;34m)\u001b[0m\u001b[0;34m\u001b[0m\u001b[0m\n\u001b[0m\u001b[1;32m      2\u001b[0m \u001b[0mtestDataVecs2\u001b[0m \u001b[0;34m=\u001b[0m \u001b[0mnp\u001b[0m\u001b[0;34m.\u001b[0m\u001b[0mconcatenate\u001b[0m\u001b[0;34m(\u001b[0m\u001b[0;34m(\u001b[0m\u001b[0mtestDataVecs\u001b[0m\u001b[0;34m,\u001b[0m\u001b[0mmyOwnTestFeatureVec\u001b[0m\u001b[0;34m)\u001b[0m\u001b[0;34m,\u001b[0m\u001b[0;36m1\u001b[0m\u001b[0;34m)\u001b[0m\u001b[0;34m\u001b[0m\u001b[0m\n\u001b[1;32m      3\u001b[0m \u001b[0;34m\u001b[0m\u001b[0m\n\u001b[1;32m      4\u001b[0m \u001b[0;32mprint\u001b[0m \u001b[0mlen\u001b[0m\u001b[0;34m(\u001b[0m\u001b[0mtrainDataVecs\u001b[0m\u001b[0;34m)\u001b[0m\u001b[0;34m,\u001b[0m\u001b[0mlen\u001b[0m\u001b[0;34m(\u001b[0m\u001b[0mtrainDataVecs\u001b[0m\u001b[0;34m[\u001b[0m\u001b[0;36m0\u001b[0m\u001b[0;34m]\u001b[0m\u001b[0;34m)\u001b[0m\u001b[0;34m\u001b[0m\u001b[0m\n",
      "\u001b[0;31mValueError\u001b[0m: all the input array dimensions except for the concatenation axis must match exactly"
     ]
    }
   ],
   "source": [
    "trainDataVecs2 = np.concatenate((trainDataVecs,myOwnFeatureVec),1)\n",
    "testDataVecs2 = np.concatenate((testDataVecs,myOwnTestFeatureVec),1)\n",
    "\n",
    "print len(trainDataVecs),len(trainDataVecs[0])"
   ]
  },
  {
   "cell_type": "code",
   "execution_count": 148,
   "metadata": {
    "collapsed": false
   },
   "outputs": [
    {
     "name": "stdout",
     "output_type": "stream",
     "text": [
      "0.174654184714\n",
      "1.49155783653\n"
     ]
    }
   ],
   "source": [
    "from sklearn.svm import SVC\n",
    "from metrics import kappa\n",
    "from scipy.stats import spearmanr\n",
    "from sklearn.linear_model import LinearRegression\n",
    "\n",
    "#Support Vector Machining\n",
    "start = time()\n",
    "svm = SVC(C = 50, gamma = 0.9)\n",
    "svm.fit(trainDataVecs, y_train)\n",
    "predictions = svm.predict(testDataVecs)\n",
    "total = time() - start\n",
    "\n",
    "print(kappa(y_test,predictions))\n",
    "print total\n"
   ]
  },
  {
   "cell_type": "code",
   "execution_count": 156,
   "metadata": {
    "collapsed": false
   },
   "outputs": [
    {
     "name": "stdout",
     "output_type": "stream",
     "text": [
      "0.241356670373\n",
      "8.37580879702 9\n",
      "12.7932106402 9\n",
      "8.66663909291 10\n",
      "8.18292910704 8\n",
      "9.01767012242 7\n",
      "8.17351980018 10\n",
      "6.00317437647 8\n",
      "8.16711567988 11\n",
      "7.916213724 8\n",
      "8.58545227451 11\n",
      "9.85394470048 10\n",
      "9.27198133903 10\n",
      "7.29851698992 4\n",
      "6.44453189407 8\n",
      "8.07799645095 8\n",
      "9.12386463338 8\n",
      "9.02526108719 6\n",
      "8.41336265313 8\n",
      "7.66559775255 6\n",
      "6.40828790648 8\n",
      "8.96884046121 9\n",
      "7.84977089591 9\n",
      "9.99148800245 8\n",
      "7.91020880863 8\n",
      "9.15623892671 9\n",
      "9.45629861296 10\n",
      "7.53497439193 8\n",
      "8.13091236039 9\n",
      "8.10865154813 8\n",
      "8.87259358643 8\n",
      "6.68462236593 7\n",
      "9.66932453566 8\n",
      "10.4350449927 11\n",
      "7.40216569646 6\n",
      "7.35499303974 8\n",
      "8.54902037126 9\n",
      "10.5391217133 6\n",
      "6.78352617205 6\n",
      "8.50657827575 7\n",
      "11.6043802383 9\n",
      "10.3174834454 8\n",
      "9.36423945698 9\n",
      "9.93676191914 8\n",
      "8.91524458051 8\n",
      "8.97091145792 9\n",
      "7.99474089249 9\n",
      "8.54664567964 9\n",
      "8.75557556568 8\n",
      "9.61313022926 10\n",
      "9.68858954229 8\n",
      "7.35588243986 8\n",
      "9.43528523608 9\n",
      "7.31545022939 6\n",
      "8.37917738985 10\n",
      "8.80993107505 7\n",
      "7.66147451099 7\n",
      "9.7866065313 10\n",
      "9.39297346265 10\n",
      "10.5328082783 7\n",
      "8.69867092312 8\n",
      "8.72945607412 9\n",
      "6.32914027616 6\n",
      "9.67720015712 8\n",
      "8.30087754063 8\n",
      "6.98042384454 8\n",
      "10.231481138 11\n",
      "10.1639860139 10\n",
      "8.5607741605 8\n",
      "8.43551874073 8\n",
      "5.40362278023 5\n",
      "10.2595420968 10\n",
      "6.85414553023 7\n",
      "11.4271717614 12\n",
      "8.70946946384 7\n",
      "9.42595953779 8\n",
      "5.37383204003 7\n",
      "9.30195598703 9\n",
      "7.51453774185 7\n",
      "8.91637902514 8\n",
      "8.00335797085 8\n",
      "8.36776337244 10\n",
      "5.92484488077 7\n",
      "9.10672705627 8\n",
      "8.23995939635 11\n",
      "8.08281207139 7\n",
      "8.5559014688 8\n",
      "8.55955905812 8\n",
      "8.47828296761 7\n",
      "7.23971578725 8\n",
      "5.88810487775 4\n",
      "8.83466299352 12\n",
      "9.95565624492 10\n",
      "9.35252452329 8\n",
      "10.1848535189 11\n",
      "11.3646639794 11\n",
      "8.75914867576 10\n",
      "8.42393289815 8\n",
      "9.02785063987 9\n",
      "7.35239061206 8\n",
      "9.19336034524 8\n",
      "8.61827223306 7\n",
      "7.17575000961 8\n",
      "7.06941372921 8\n",
      "8.81576500445 8\n",
      "8.79988216179 8\n",
      "9.17656050015 9\n",
      "8.62638739269 8\n",
      "7.45695901514 8\n",
      "8.63328590943 10\n",
      "8.0961405566 7\n",
      "8.50731031808 8\n",
      "8.4771158809 9\n",
      "8.41267460506 8\n",
      "9.71230028906 9\n",
      "9.5333203878 9\n",
      "8.38495461468 8\n",
      "8.19930525201 8\n",
      "7.96718379769 8\n",
      "5.89383143414 8\n",
      "7.12054989716 7\n",
      "9.86333838188 9\n",
      "8.48308955263 8\n",
      "8.74357870239 10\n",
      "7.41421785825 7\n",
      "6.92843669156 7\n",
      "7.41537259716 7\n",
      "8.91569946675 10\n",
      "6.71641592931 6\n",
      "7.89791470225 10\n",
      "9.13973105988 9\n",
      "9.11633045646 8\n",
      "8.40544418525 10\n",
      "8.43277320174 10\n",
      "7.7828593658 7\n",
      "9.21498974847 12\n",
      "8.80561874052 6\n",
      "7.45790434398 8\n",
      "6.25728969413 8\n",
      "8.45829645158 9\n",
      "8.93961358371 10\n",
      "10.4267141376 9\n",
      "8.36168657092 8\n",
      "8.66695285967 10\n",
      "8.05875047376 10\n",
      "8.30941845071 8\n",
      "6.76971194737 8\n",
      "8.04295326458 9\n",
      "10.3893793456 10\n",
      "10.2009807489 8\n",
      "10.9002092816 12\n",
      "9.10357069567 8\n",
      "7.23733064042 6\n",
      "7.56421202926 7\n",
      "8.32426780051 8\n",
      "8.71905403253 9\n",
      "7.68719619251 8\n",
      "6.36363152397 6\n",
      "7.87692415999 7\n",
      "9.83431676137 11\n",
      "6.51979799812 6\n",
      "9.53666412418 10\n",
      "11.4011174354 10\n",
      "10.3353444358 10\n",
      "8.70510419459 9\n",
      "10.8167445961 10\n",
      "11.0464080394 10\n",
      "7.1079192741 7\n",
      "8.91692326135 8\n",
      "9.37809586611 8\n",
      "6.54916904156 8\n",
      "7.41641106371 8\n",
      "9.1291906965 8\n",
      "10.3692356452 8\n",
      "9.51721935883 10\n",
      "5.79814968417 5\n",
      "9.56498145402 10\n",
      "8.00387919588 9\n",
      "8.72890017325 9\n",
      "9.98385158904 12\n"
     ]
    }
   ],
   "source": [
    "from metrics import kappa\n",
    "start_lr = time()\n",
    "logreg = LinearRegression()\n",
    "logreg.fit(trainDataVecs, y_train)\n",
    "preds_lr  = logreg.predict(testDataVecs)\n",
    "tot_lr = time() - start_lr\n",
    "\n",
    "print(r2_score(y_test, preds_lr))\n",
    "for i,j in zip(preds_lr,y_test):\n",
    "    print i,j"
   ]
  },
  {
   "cell_type": "code",
   "execution_count": 28,
   "metadata": {
    "collapsed": false
   },
   "outputs": [
    {
     "name": "stdout",
     "output_type": "stream",
     "text": [
      "Performing sentence and word tokenizing which will be used for word2vec\n"
     ]
    },
    {
     "name": "stderr",
     "output_type": "stream",
     "text": [
      "2017-05-24 16:31:15,759 : INFO : collecting all words and their counts\n",
      "2017-05-24 16:31:15,760 : INFO : PROGRESS: at sentence #0, processed 0 words, keeping 0 word types\n",
      "2017-05-24 16:31:15,805 : INFO : PROGRESS: at sentence #10000, processed 80927 words, keeping 7019 word types\n",
      "2017-05-24 16:31:15,848 : INFO : PROGRESS: at sentence #20000, processed 161565 words, keeping 10366 word types\n",
      "2017-05-24 16:31:15,879 : INFO : PROGRESS: at sentence #30000, processed 241749 words, keeping 12963 word types\n",
      "2017-05-24 16:31:15,918 : INFO : collected 15206 word types from a corpus of 315898 raw words and 39167 sentences\n",
      "2017-05-24 16:31:15,919 : INFO : Loading a fresh vocabulary\n",
      "2017-05-24 16:31:15,932 : INFO : min_count=40 retains 922 unique words (6% of original 15206, drops 14284)\n",
      "2017-05-24 16:31:15,935 : INFO : min_count=40 leaves 265332 word corpus (83% of original 315898, drops 50566)\n",
      "2017-05-24 16:31:15,944 : INFO : deleting the raw counts dictionary of 15206 items\n",
      "2017-05-24 16:31:15,947 : INFO : sample=0.001 downsamples 82 most-common words\n",
      "2017-05-24 16:31:15,949 : INFO : downsampling leaves estimated 195367 word corpus (73.6% of prior 265332)\n",
      "2017-05-24 16:31:15,951 : INFO : estimated required memory for 922 words and 300 dimensions: 2673800 bytes\n",
      "2017-05-24 16:31:15,957 : INFO : resetting layer weights\n",
      "2017-05-24 16:31:15,985 : INFO : training model with 4 workers on 922 vocabulary and 300 features, using sg=0 hs=0 sample=0.001 negative=5 window=10\n",
      "2017-05-24 16:31:17,045 : INFO : PROGRESS: at 58.79% examples, 571947 words/s, in_qsize 7, out_qsize 0\n",
      "2017-05-24 16:31:17,649 : INFO : worker thread finished; awaiting finish of 3 more threads\n",
      "2017-05-24 16:31:17,659 : INFO : worker thread finished; awaiting finish of 2 more threads\n",
      "2017-05-24 16:31:17,669 : INFO : worker thread finished; awaiting finish of 1 more threads\n",
      "2017-05-24 16:31:17,673 : INFO : worker thread finished; awaiting finish of 0 more threads\n",
      "2017-05-24 16:31:17,674 : INFO : training on 1579490 raw words (977318 effective words) took 1.6s, 597637 effective words/s\n",
      "2017-05-24 16:31:17,676 : INFO : precomputing L2-norms of word weight vectors\n",
      "2017-05-24 16:31:17,695 : INFO : saving Word2Vec object under 300features_40minwords_10context, separately None\n",
      "2017-05-24 16:31:17,697 : INFO : not storing attribute syn0norm\n",
      "2017-05-24 16:31:17,698 : INFO : not storing attribute cum_table\n",
      "2017-05-24 16:31:17,743 : INFO : saved 300features_40minwords_10context\n"
     ]
    },
    {
     "name": "stdout",
     "output_type": "stream",
     "text": [
      "Kappa:  0.732734780467\n",
      "Performing sentence and word tokenizing which will be used for word2vec\n"
     ]
    },
    {
     "name": "stderr",
     "output_type": "stream",
     "text": [
      "2017-05-24 16:31:28,103 : INFO : collecting all words and their counts\n",
      "2017-05-24 16:31:28,104 : INFO : PROGRESS: at sentence #0, processed 0 words, keeping 0 word types\n",
      "2017-05-24 16:31:28,145 : INFO : PROGRESS: at sentence #10000, processed 81511 words, keeping 6914 word types\n",
      "2017-05-24 16:31:28,174 : INFO : PROGRESS: at sentence #20000, processed 161950 words, keeping 10457 word types\n",
      "2017-05-24 16:31:28,216 : INFO : PROGRESS: at sentence #30000, processed 241235 words, keeping 12963 word types\n",
      "2017-05-24 16:31:28,259 : INFO : collected 15206 word types from a corpus of 315898 raw words and 39167 sentences\n",
      "2017-05-24 16:31:28,260 : INFO : Loading a fresh vocabulary\n",
      "2017-05-24 16:31:28,275 : INFO : min_count=40 retains 922 unique words (6% of original 15206, drops 14284)\n",
      "2017-05-24 16:31:28,276 : INFO : min_count=40 leaves 265332 word corpus (83% of original 315898, drops 50566)\n",
      "2017-05-24 16:31:28,283 : INFO : deleting the raw counts dictionary of 15206 items\n",
      "2017-05-24 16:31:28,291 : INFO : sample=0.001 downsamples 82 most-common words\n",
      "2017-05-24 16:31:28,293 : INFO : downsampling leaves estimated 195367 word corpus (73.6% of prior 265332)\n",
      "2017-05-24 16:31:28,293 : INFO : estimated required memory for 922 words and 300 dimensions: 2673800 bytes\n",
      "2017-05-24 16:31:28,298 : INFO : resetting layer weights\n",
      "2017-05-24 16:31:28,330 : INFO : training model with 4 workers on 922 vocabulary and 300 features, using sg=0 hs=0 sample=0.001 negative=5 window=10\n",
      "2017-05-24 16:31:29,342 : INFO : PROGRESS: at 57.61% examples, 559375 words/s, in_qsize 7, out_qsize 0\n",
      "2017-05-24 16:31:29,980 : INFO : worker thread finished; awaiting finish of 3 more threads\n",
      "2017-05-24 16:31:29,982 : INFO : worker thread finished; awaiting finish of 2 more threads\n",
      "2017-05-24 16:31:29,997 : INFO : worker thread finished; awaiting finish of 1 more threads\n",
      "2017-05-24 16:31:30,020 : INFO : worker thread finished; awaiting finish of 0 more threads\n",
      "2017-05-24 16:31:30,021 : INFO : training on 1579490 raw words (976554 effective words) took 1.7s, 579576 effective words/s\n",
      "2017-05-24 16:31:30,022 : INFO : precomputing L2-norms of word weight vectors\n",
      "2017-05-24 16:31:30,040 : INFO : saving Word2Vec object under 300features_40minwords_10context, separately None\n",
      "2017-05-24 16:31:30,043 : INFO : not storing attribute syn0norm\n",
      "2017-05-24 16:31:30,044 : INFO : not storing attribute cum_table\n",
      "2017-05-24 16:31:30,092 : INFO : saved 300features_40minwords_10context\n"
     ]
    },
    {
     "name": "stdout",
     "output_type": "stream",
     "text": [
      "Kappa:  0.704538241828\n",
      "Performing sentence and word tokenizing which will be used for word2vec\n"
     ]
    },
    {
     "name": "stderr",
     "output_type": "stream",
     "text": [
      "2017-05-24 16:31:39,513 : INFO : collecting all words and their counts\n",
      "2017-05-24 16:31:39,514 : INFO : PROGRESS: at sentence #0, processed 0 words, keeping 0 word types\n",
      "2017-05-24 16:31:39,564 : INFO : PROGRESS: at sentence #10000, processed 80968 words, keeping 6967 word types\n",
      "2017-05-24 16:31:39,617 : INFO : PROGRESS: at sentence #20000, processed 162034 words, keeping 10574 word types\n",
      "2017-05-24 16:31:39,669 : INFO : PROGRESS: at sentence #30000, processed 241753 words, keeping 13203 word types\n",
      "2017-05-24 16:31:39,715 : INFO : collected 15206 word types from a corpus of 315898 raw words and 39167 sentences\n",
      "2017-05-24 16:31:39,717 : INFO : Loading a fresh vocabulary\n",
      "2017-05-24 16:31:39,740 : INFO : min_count=40 retains 922 unique words (6% of original 15206, drops 14284)\n",
      "2017-05-24 16:31:39,742 : INFO : min_count=40 leaves 265332 word corpus (83% of original 315898, drops 50566)\n",
      "2017-05-24 16:31:39,749 : INFO : deleting the raw counts dictionary of 15206 items\n",
      "2017-05-24 16:31:39,751 : INFO : sample=0.001 downsamples 82 most-common words\n",
      "2017-05-24 16:31:39,752 : INFO : downsampling leaves estimated 195367 word corpus (73.6% of prior 265332)\n",
      "2017-05-24 16:31:39,753 : INFO : estimated required memory for 922 words and 300 dimensions: 2673800 bytes\n",
      "2017-05-24 16:31:39,759 : INFO : resetting layer weights\n",
      "2017-05-24 16:31:39,791 : INFO : training model with 4 workers on 922 vocabulary and 300 features, using sg=0 hs=0 sample=0.001 negative=5 window=10\n",
      "2017-05-24 16:31:40,835 : INFO : PROGRESS: at 60.74% examples, 592298 words/s, in_qsize 7, out_qsize 0\n",
      "2017-05-24 16:31:41,415 : INFO : worker thread finished; awaiting finish of 3 more threads\n",
      "2017-05-24 16:31:41,421 : INFO : worker thread finished; awaiting finish of 2 more threads\n",
      "2017-05-24 16:31:41,427 : INFO : worker thread finished; awaiting finish of 1 more threads\n",
      "2017-05-24 16:31:41,439 : INFO : worker thread finished; awaiting finish of 0 more threads\n",
      "2017-05-24 16:31:41,439 : INFO : training on 1579490 raw words (976360 effective words) took 1.6s, 604990 effective words/s\n",
      "2017-05-24 16:31:41,441 : INFO : precomputing L2-norms of word weight vectors\n",
      "2017-05-24 16:31:41,455 : INFO : saving Word2Vec object under 300features_40minwords_10context, separately None\n",
      "2017-05-24 16:31:41,458 : INFO : not storing attribute syn0norm\n",
      "2017-05-24 16:31:41,460 : INFO : not storing attribute cum_table\n",
      "2017-05-24 16:31:41,496 : INFO : saved 300features_40minwords_10context\n"
     ]
    },
    {
     "name": "stdout",
     "output_type": "stream",
     "text": [
      "Kappa:  0.683124447506\n",
      "Performing sentence and word tokenizing which will be used for word2vec\n"
     ]
    },
    {
     "name": "stderr",
     "output_type": "stream",
     "text": [
      "2017-05-24 16:31:50,724 : INFO : collecting all words and their counts\n",
      "2017-05-24 16:31:50,725 : INFO : PROGRESS: at sentence #0, processed 0 words, keeping 0 word types\n",
      "2017-05-24 16:31:50,753 : INFO : PROGRESS: at sentence #10000, processed 81774 words, keeping 6986 word types\n",
      "2017-05-24 16:31:50,797 : INFO : PROGRESS: at sentence #20000, processed 162616 words, keeping 10491 word types\n",
      "2017-05-24 16:31:50,837 : INFO : PROGRESS: at sentence #30000, processed 242098 words, keeping 13050 word types\n",
      "2017-05-24 16:31:50,876 : INFO : collected 15206 word types from a corpus of 315898 raw words and 39167 sentences\n",
      "2017-05-24 16:31:50,877 : INFO : Loading a fresh vocabulary\n",
      "2017-05-24 16:31:50,896 : INFO : min_count=40 retains 922 unique words (6% of original 15206, drops 14284)\n",
      "2017-05-24 16:31:50,897 : INFO : min_count=40 leaves 265332 word corpus (83% of original 315898, drops 50566)\n",
      "2017-05-24 16:31:50,906 : INFO : deleting the raw counts dictionary of 15206 items\n",
      "2017-05-24 16:31:50,908 : INFO : sample=0.001 downsamples 82 most-common words\n",
      "2017-05-24 16:31:50,909 : INFO : downsampling leaves estimated 195367 word corpus (73.6% of prior 265332)\n",
      "2017-05-24 16:31:50,910 : INFO : estimated required memory for 922 words and 300 dimensions: 2673800 bytes\n",
      "2017-05-24 16:31:50,916 : INFO : resetting layer weights\n",
      "2017-05-24 16:31:50,943 : INFO : training model with 4 workers on 922 vocabulary and 300 features, using sg=0 hs=0 sample=0.001 negative=5 window=10\n",
      "2017-05-24 16:31:51,967 : INFO : PROGRESS: at 59.50% examples, 577524 words/s, in_qsize 7, out_qsize 1\n",
      "2017-05-24 16:31:52,538 : INFO : worker thread finished; awaiting finish of 3 more threads\n",
      "2017-05-24 16:31:52,554 : INFO : worker thread finished; awaiting finish of 2 more threads\n",
      "2017-05-24 16:31:52,558 : INFO : worker thread finished; awaiting finish of 1 more threads\n",
      "2017-05-24 16:31:52,564 : INFO : worker thread finished; awaiting finish of 0 more threads\n",
      "2017-05-24 16:31:52,565 : INFO : training on 1579490 raw words (976686 effective words) took 1.6s, 606602 effective words/s\n",
      "2017-05-24 16:31:52,567 : INFO : precomputing L2-norms of word weight vectors\n",
      "2017-05-24 16:31:52,582 : INFO : saving Word2Vec object under 300features_40minwords_10context, separately None\n",
      "2017-05-24 16:31:52,584 : INFO : not storing attribute syn0norm\n",
      "2017-05-24 16:31:52,585 : INFO : not storing attribute cum_table\n",
      "2017-05-24 16:31:52,611 : INFO : saved 300features_40minwords_10context\n"
     ]
    },
    {
     "name": "stdout",
     "output_type": "stream",
     "text": [
      "Kappa:  0.717795066362\n",
      "Performing sentence and word tokenizing which will be used for word2vec\n"
     ]
    },
    {
     "name": "stderr",
     "output_type": "stream",
     "text": [
      "2017-05-24 16:32:03,248 : INFO : collecting all words and their counts\n",
      "2017-05-24 16:32:03,248 : INFO : PROGRESS: at sentence #0, processed 0 words, keeping 0 word types\n",
      "2017-05-24 16:32:03,290 : INFO : PROGRESS: at sentence #10000, processed 81469 words, keeping 6954 word types\n",
      "2017-05-24 16:32:03,332 : INFO : PROGRESS: at sentence #20000, processed 162201 words, keeping 10549 word types\n",
      "2017-05-24 16:32:03,374 : INFO : PROGRESS: at sentence #30000, processed 241376 words, keeping 13087 word types\n",
      "2017-05-24 16:32:03,417 : INFO : collected 15206 word types from a corpus of 315898 raw words and 39167 sentences\n",
      "2017-05-24 16:32:03,418 : INFO : Loading a fresh vocabulary\n",
      "2017-05-24 16:32:03,746 : INFO : min_count=40 retains 922 unique words (6% of original 15206, drops 14284)\n",
      "2017-05-24 16:32:03,747 : INFO : min_count=40 leaves 265332 word corpus (83% of original 315898, drops 50566)\n",
      "2017-05-24 16:32:03,752 : INFO : deleting the raw counts dictionary of 15206 items\n",
      "2017-05-24 16:32:03,754 : INFO : sample=0.001 downsamples 82 most-common words\n",
      "2017-05-24 16:32:03,755 : INFO : downsampling leaves estimated 195367 word corpus (73.6% of prior 265332)\n",
      "2017-05-24 16:32:03,756 : INFO : estimated required memory for 922 words and 300 dimensions: 2673800 bytes\n",
      "2017-05-24 16:32:03,760 : INFO : resetting layer weights\n",
      "2017-05-24 16:32:03,781 : INFO : training model with 4 workers on 922 vocabulary and 300 features, using sg=0 hs=0 sample=0.001 negative=5 window=10\n",
      "2017-05-24 16:32:04,797 : INFO : PROGRESS: at 60.75% examples, 587921 words/s, in_qsize 8, out_qsize 0\n",
      "2017-05-24 16:32:05,352 : INFO : worker thread finished; awaiting finish of 3 more threads\n",
      "2017-05-24 16:32:05,363 : INFO : worker thread finished; awaiting finish of 2 more threads\n",
      "2017-05-24 16:32:05,366 : INFO : worker thread finished; awaiting finish of 1 more threads\n",
      "2017-05-24 16:32:05,380 : INFO : worker thread finished; awaiting finish of 0 more threads\n",
      "2017-05-24 16:32:05,382 : INFO : training on 1579490 raw words (976796 effective words) took 1.6s, 612796 effective words/s\n",
      "2017-05-24 16:32:05,383 : INFO : precomputing L2-norms of word weight vectors\n",
      "2017-05-24 16:32:05,395 : INFO : saving Word2Vec object under 300features_40minwords_10context, separately None\n",
      "2017-05-24 16:32:05,396 : INFO : not storing attribute syn0norm\n",
      "2017-05-24 16:32:05,397 : INFO : not storing attribute cum_table\n",
      "2017-05-24 16:32:05,431 : INFO : saved 300features_40minwords_10context\n"
     ]
    },
    {
     "name": "stdout",
     "output_type": "stream",
     "text": [
      "Kappa:  0.666444520882\n",
      "0.700927411409\n"
     ]
    }
   ],
   "source": [
    "from gensim.models import word2vec\n",
    "import logging\n",
    "\n",
    "cv = cross_validation.KFold(len(X_all), n_folds=5,shuffle=True)\n",
    "results = []\n",
    "\n",
    "for traincv, testcv in cv:\n",
    "        X_test, X_train, y_test, y_train = X_all.iloc[testcv], X_all.iloc[traincv], y_all.iloc[testcv], y_all.iloc[traincv]\n",
    "                \n",
    "        train_essays = X_train['essay']\n",
    "        test_essays = X_test['essay']\n",
    "        #print essays\n",
    "        sentences = []\n",
    "\n",
    "        print (\"Performing sentence and word tokenizing which will be used for word2vec\")\n",
    "\n",
    "        for essay in train_essays:\n",
    "            sentences += essay_to_sentences(unicode(essay,\"utf-8\",errors='ignore'), remove_stopwords = True)\n",
    "\n",
    "        for essay in test_essays:\n",
    "            sentences += essay_to_sentences(unicode(essay,\"utf-8\",errors='ignore'), remove_stopwords = True)\n",
    "\n",
    "        #print(len(sentences))\n",
    "        #print(\"Done\")\n",
    "        \n",
    "        logging.basicConfig(format='%(asctime)s : %(levelname)s : %(message)s', level=logging.INFO)\n",
    "\n",
    "        num_features = 300 \n",
    "        min_word_count = 40\n",
    "        num_workers = 4\n",
    "        context = 10\n",
    "        downsampling = 1e-3\n",
    "\n",
    "        #print (\"Training w2v model...\")\n",
    "        model = word2vec.Word2Vec(sentences, workers=num_workers, size=num_features, min_count = min_word_count, window = context, sample = downsampling)\n",
    "\n",
    "        model.init_sims(replace=True)\n",
    "\n",
    "        model_name = \"300features_40minwords_10context\"\n",
    "        model.save(model_name)\n",
    "\n",
    "        #print (\"Done\")\n",
    "        \n",
    "        #print (\"Creating average feature vecs for Training Essays\")\n",
    "        clean_train_essays = []\n",
    "      \n",
    "        for essay_v in train_essays:\n",
    "            clean_train_essays.append( essay_to_wordlist( essay_v, remove_stopwords=True ))\n",
    "        trainDataVecs = getAvgFeatureVecs( clean_train_essays, model, num_features )\n",
    "        \n",
    "        clean_test_essays = []\n",
    "        for essay_v in test_essays:\n",
    "            clean_test_essays.append( essay_to_wordlist( essay_v, remove_stopwords=True ))\n",
    "        testDataVecs = getAvgFeatureVecs( clean_test_essays, model, num_features )\n",
    "        \n",
    "        #print(\"Done\")\n",
    "\n",
    "        myOwnTrainFeatureVec = np.array(X_train[selected_features])\n",
    "        myOwnTestFeatureVec = np.array(X_test[selected_features])\n",
    "        \n",
    "        trainDataVecs2 = np.concatenate((trainDataVecs,myOwnTrainFeatureVec),1)\n",
    "        testDataVecs2 = np.concatenate((testDataVecs,myOwnTestFeatureVec),1)\n",
    "        \n",
    "        model = LinearRegression()\n",
    "        model.fit(trainDataVecs2,y_train)\n",
    "        start = time()\n",
    "        y_pred = model.predict(testDataVecs2)\n",
    "        end = time()\n",
    "\n",
    "        #print (\"Made predictions in {:.4f} seconds.\".format(end - start))\n",
    "        result = kappa(y_test.values,np.around(y_pred,decimals=2),weights='quadratic')\n",
    "        print \"Kappa: \", result\n",
    "        results.append(result)\n",
    "        \n",
    "print np.array(results).mean()"
   ]
  },
  {
   "cell_type": "code",
   "execution_count": null,
   "metadata": {
    "collapsed": false
   },
   "outputs": [
    {
     "name": "stdout",
     "output_type": "stream",
     "text": [
      "Performing sentence and word tokenizing which will be used for word2vec\n"
     ]
    },
    {
     "name": "stderr",
     "output_type": "stream",
     "text": [
      "2017-05-24 17:09:27,787 : INFO : collecting all words and their counts\n",
      "2017-05-24 17:09:27,789 : INFO : PROGRESS: at sentence #0, processed 0 words, keeping 0 word types\n",
      "2017-05-24 17:09:27,840 : INFO : PROGRESS: at sentence #10000, processed 81400 words, keeping 6985 word types\n",
      "2017-05-24 17:09:27,886 : INFO : PROGRESS: at sentence #20000, processed 162490 words, keeping 10436 word types\n",
      "2017-05-24 17:09:27,923 : INFO : PROGRESS: at sentence #30000, processed 242512 words, keeping 13039 word types\n",
      "2017-05-24 17:09:27,961 : INFO : collected 15206 word types from a corpus of 315898 raw words and 39167 sentences\n",
      "2017-05-24 17:09:27,963 : INFO : Loading a fresh vocabulary\n",
      "2017-05-24 17:09:27,980 : INFO : min_count=40 retains 922 unique words (6% of original 15206, drops 14284)\n",
      "2017-05-24 17:09:27,981 : INFO : min_count=40 leaves 265332 word corpus (83% of original 315898, drops 50566)\n",
      "2017-05-24 17:09:29,144 : INFO : deleting the raw counts dictionary of 15206 items\n",
      "2017-05-24 17:09:29,145 : INFO : sample=0.001 downsamples 82 most-common words\n",
      "2017-05-24 17:09:29,233 : INFO : downsampling leaves estimated 195367 word corpus (73.6% of prior 265332)\n",
      "2017-05-24 17:09:29,235 : INFO : estimated required memory for 922 words and 300 dimensions: 2673800 bytes\n",
      "2017-05-24 17:09:29,318 : INFO : resetting layer weights\n",
      "2017-05-24 17:09:29,397 : INFO : training model with 4 workers on 922 vocabulary and 300 features, using sg=0 hs=0 sample=0.001 negative=5 window=10\n",
      "2017-05-24 17:09:30,451 : INFO : PROGRESS: at 43.05% examples, 418511 words/s, in_qsize 6, out_qsize 0\n",
      "2017-05-24 17:09:31,467 : INFO : PROGRESS: at 89.17% examples, 431229 words/s, in_qsize 5, out_qsize 0\n",
      "2017-05-24 17:09:31,677 : INFO : worker thread finished; awaiting finish of 3 more threads\n",
      "2017-05-24 17:09:31,697 : INFO : worker thread finished; awaiting finish of 2 more threads\n",
      "2017-05-24 17:09:31,702 : INFO : worker thread finished; awaiting finish of 1 more threads\n",
      "2017-05-24 17:09:31,713 : INFO : worker thread finished; awaiting finish of 0 more threads\n",
      "2017-05-24 17:09:31,714 : INFO : training on 1579490 raw words (976408 effective words) took 2.3s, 430671 effective words/s\n",
      "2017-05-24 17:09:31,716 : INFO : precomputing L2-norms of word weight vectors\n",
      "2017-05-24 17:09:31,780 : INFO : saving Word2Vec object under 300features_40minwords_10context, separately None\n",
      "2017-05-24 17:09:31,795 : INFO : not storing attribute syn0norm\n",
      "2017-05-24 17:09:31,797 : INFO : not storing attribute cum_table\n",
      "2017-05-24 17:09:31,973 : INFO : saved 300features_40minwords_10context\n"
     ]
    }
   ],
   "source": [
    "from gensim.models import word2vec\n",
    "from sklearn.svm import SVC\n",
    "import logging\n",
    "\n",
    "cv = cross_validation.KFold(len(X_all), n_folds=5,shuffle=True)\n",
    "results = []\n",
    "\n",
    "for traincv, testcv in cv:\n",
    "        X_test, X_train, y_test, y_train = X_all.iloc[testcv], X_all.iloc[traincv], y_all.iloc[testcv], y_all.iloc[traincv]\n",
    "                \n",
    "        train_essays = X_train['essay']\n",
    "        test_essays = X_test['essay']\n",
    "        #print essays\n",
    "        sentences = []\n",
    "\n",
    "        print (\"Performing sentence and word tokenizing which will be used for word2vec\")\n",
    "\n",
    "        for essay in train_essays:\n",
    "            sentences += essay_to_sentences(unicode(essay,\"utf-8\",errors='ignore'), remove_stopwords = True)\n",
    "\n",
    "        for essay in test_essays:\n",
    "            sentences += essay_to_sentences(unicode(essay,\"utf-8\",errors='ignore'), remove_stopwords = True)\n",
    "\n",
    "        #print(len(sentences))\n",
    "        #print(\"Done\")\n",
    "        \n",
    "        logging.basicConfig(format='%(asctime)s : %(levelname)s : %(message)s', level=logging.INFO)\n",
    "\n",
    "        num_features = 300 \n",
    "        min_word_count = 40\n",
    "        num_workers = 4\n",
    "        context = 10\n",
    "        downsampling = 1e-3\n",
    "\n",
    "        #print (\"Training w2v model...\")\n",
    "        model = word2vec.Word2Vec(sentences, workers=num_workers, size=num_features, min_count = min_word_count, window = context, sample = downsampling)\n",
    "\n",
    "        model.init_sims(replace=True)\n",
    "\n",
    "        model_name = \"300features_40minwords_10context\"\n",
    "        model.save(model_name)\n",
    "\n",
    "        #print (\"Done\")\n",
    "        \n",
    "        #print (\"Creating average feature vecs for Training Essays\")\n",
    "        clean_train_essays = []\n",
    "      \n",
    "        for essay_v in train_essays:\n",
    "            clean_train_essays.append( essay_to_wordlist( essay_v, remove_stopwords=True ))\n",
    "        trainDataVecs = getAvgFeatureVecs( clean_train_essays, model, num_features )\n",
    "        \n",
    "        clean_test_essays = []\n",
    "        for essay_v in test_essays:\n",
    "            clean_test_essays.append( essay_to_wordlist( essay_v, remove_stopwords=True ))\n",
    "        testDataVecs = getAvgFeatureVecs( clean_test_essays, model, num_features )\n",
    "        \n",
    "        #print(\"Done\")\n",
    "\n",
    "        myOwnTrainFeatureVec = np.array(X_train[selected_features])\n",
    "        myOwnTestFeatureVec = np.array(X_test[selected_features])\n",
    "        \n",
    "        trainDataVecs2 = np.concatenate((trainDataVecs,myOwnTrainFeatureVec),1)\n",
    "        testDataVecs2 = np.concatenate((testDataVecs,myOwnTestFeatureVec),1)\n",
    "        \n",
    "        start = time()\n",
    "        svm = SVC(kernel='linear',C = 100)\n",
    "        svm.fit(trainDataVecs2, y_train)\n",
    "        y_pred = svm.predict(testDataVecs2)\n",
    "        total = time() - start\n",
    "\n",
    "        #print(kappa(y_test,predictions))\n",
    "\n",
    "        #print (\"Made predictions in {:.4f} seconds.\".format(end - start))\n",
    "        result = kappa(y_test.values,np.around(y_pred,decimals=2),weights='quadratic')\n",
    "        print \"Kappa: \", result\n",
    "        results.append(result)\n",
    "        \n",
    "print np.array(results).mean()"
   ]
  },
  {
   "cell_type": "code",
   "execution_count": 1,
   "metadata": {
    "collapsed": true
   },
   "outputs": [],
   "source": [
    "a=2"
   ]
  },
  {
   "cell_type": "code",
   "execution_count": null,
   "metadata": {
    "collapsed": true
   },
   "outputs": [],
   "source": []
  }
 ],
 "metadata": {
  "anaconda-cloud": {},
  "celltoolbar": "Raw Cell Format",
  "kernelspec": {
   "display_name": "Python 2",
   "language": "python",
   "name": "python2"
  },
  "language_info": {
   "codemirror_mode": {
    "name": "ipython",
    "version": 2
   },
   "file_extension": ".py",
   "mimetype": "text/x-python",
   "name": "python",
   "nbconvert_exporter": "python",
   "pygments_lexer": "ipython2",
   "version": "2.7.12"
  }
 },
 "nbformat": 4,
 "nbformat_minor": 1
}
