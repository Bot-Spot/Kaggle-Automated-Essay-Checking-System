{
 "cells": [
  {
   "cell_type": "code",
   "execution_count": 1,
   "metadata": {
    "collapsed": true
   },
   "outputs": [],
   "source": [
    "import sys\n",
    "sys.path.append('./utils')"
   ]
  },
  {
   "cell_type": "code",
   "execution_count": 4,
   "metadata": {
    "collapsed": false
   },
   "outputs": [],
   "source": [
    "#Imports\n",
    "from requirements import *\n",
    "import helperfunctions as helper"
   ]
  },
  {
   "cell_type": "code",
   "execution_count": 3,
   "metadata": {
    "collapsed": false
   },
   "outputs": [
    {
     "name": "stdout",
     "output_type": "stream",
     "text": [
      "5309\n",
      "5309\n"
     ]
    },
    {
     "data": {
      "text/html": [
       "<div>\n",
       "<table border=\"1\" class=\"dataframe\">\n",
       "  <thead>\n",
       "    <tr style=\"text-align: right;\">\n",
       "      <th></th>\n",
       "      <th>word_count</th>\n",
       "      <th>long_word_count</th>\n",
       "      <th>avg_word_length_per_essay</th>\n",
       "      <th>wrong_words</th>\n",
       "      <th>no_of_domain_words</th>\n",
       "      <th>word_to_sent_ratio</th>\n",
       "      <th>num_of_characters</th>\n",
       "      <th>sentence_count</th>\n",
       "      <th>noun_count</th>\n",
       "      <th>verb_count</th>\n",
       "      <th>comma_count</th>\n",
       "      <th>punctuation_count</th>\n",
       "      <th>adjective_count</th>\n",
       "      <th>adverb_count</th>\n",
       "      <th>quotation_mark_count</th>\n",
       "      <th>spelling_mistakes</th>\n",
       "    </tr>\n",
       "  </thead>\n",
       "  <tbody>\n",
       "    <tr>\n",
       "      <th>count</th>\n",
       "      <td>5309.000000</td>\n",
       "      <td>5309.000000</td>\n",
       "      <td>5309.000000</td>\n",
       "      <td>5309.000000</td>\n",
       "      <td>5309.000000</td>\n",
       "      <td>5309.000000</td>\n",
       "      <td>5309.000000</td>\n",
       "      <td>5309.000000</td>\n",
       "      <td>5309.000000</td>\n",
       "      <td>5309.000000</td>\n",
       "      <td>5309.000000</td>\n",
       "      <td>5309.000000</td>\n",
       "      <td>5309.000000</td>\n",
       "      <td>5309.000000</td>\n",
       "      <td>5309.000000</td>\n",
       "      <td>5309.000000</td>\n",
       "    </tr>\n",
       "    <tr>\n",
       "      <th>mean</th>\n",
       "      <td>197.338105</td>\n",
       "      <td>46.362403</td>\n",
       "      <td>4.835283</td>\n",
       "      <td>45.079299</td>\n",
       "      <td>152.258806</td>\n",
       "      <td>13.492121</td>\n",
       "      <td>1532.813147</td>\n",
       "      <td>16.187983</td>\n",
       "      <td>62.791109</td>\n",
       "      <td>38.644377</td>\n",
       "      <td>10.174421</td>\n",
       "      <td>16.768318</td>\n",
       "      <td>19.873422</td>\n",
       "      <td>13.729328</td>\n",
       "      <td>3.817856</td>\n",
       "      <td>3.368243</td>\n",
       "    </tr>\n",
       "    <tr>\n",
       "      <th>std</th>\n",
       "      <td>116.878512</td>\n",
       "      <td>31.073141</td>\n",
       "      <td>0.351803</td>\n",
       "      <td>28.413772</td>\n",
       "      <td>90.775007</td>\n",
       "      <td>7.727928</td>\n",
       "      <td>921.793079</td>\n",
       "      <td>10.379520</td>\n",
       "      <td>37.776345</td>\n",
       "      <td>24.916955</td>\n",
       "      <td>9.545103</td>\n",
       "      <td>13.659156</td>\n",
       "      <td>13.228023</td>\n",
       "      <td>10.068848</td>\n",
       "      <td>4.964016</td>\n",
       "      <td>3.747873</td>\n",
       "    </tr>\n",
       "    <tr>\n",
       "      <th>min</th>\n",
       "      <td>6.000000</td>\n",
       "      <td>0.000000</td>\n",
       "      <td>3.170000</td>\n",
       "      <td>0.000000</td>\n",
       "      <td>4.000000</td>\n",
       "      <td>2.500000</td>\n",
       "      <td>39.000000</td>\n",
       "      <td>1.000000</td>\n",
       "      <td>0.000000</td>\n",
       "      <td>0.000000</td>\n",
       "      <td>0.000000</td>\n",
       "      <td>0.000000</td>\n",
       "      <td>0.000000</td>\n",
       "      <td>0.000000</td>\n",
       "      <td>0.000000</td>\n",
       "      <td>0.000000</td>\n",
       "    </tr>\n",
       "    <tr>\n",
       "      <th>25%</th>\n",
       "      <td>95.000000</td>\n",
       "      <td>21.000000</td>\n",
       "      <td>4.600000</td>\n",
       "      <td>20.000000</td>\n",
       "      <td>74.000000</td>\n",
       "      <td>10.350000</td>\n",
       "      <td>723.000000</td>\n",
       "      <td>7.000000</td>\n",
       "      <td>31.000000</td>\n",
       "      <td>15.000000</td>\n",
       "      <td>3.000000</td>\n",
       "      <td>7.000000</td>\n",
       "      <td>9.000000</td>\n",
       "      <td>5.000000</td>\n",
       "      <td>0.000000</td>\n",
       "      <td>1.000000</td>\n",
       "    </tr>\n",
       "    <tr>\n",
       "      <th>50%</th>\n",
       "      <td>196.000000</td>\n",
       "      <td>42.000000</td>\n",
       "      <td>4.830000</td>\n",
       "      <td>43.000000</td>\n",
       "      <td>150.000000</td>\n",
       "      <td>12.190000</td>\n",
       "      <td>1523.000000</td>\n",
       "      <td>15.000000</td>\n",
       "      <td>61.000000</td>\n",
       "      <td>39.000000</td>\n",
       "      <td>8.000000</td>\n",
       "      <td>15.000000</td>\n",
       "      <td>18.000000</td>\n",
       "      <td>12.000000</td>\n",
       "      <td>2.000000</td>\n",
       "      <td>2.000000</td>\n",
       "    </tr>\n",
       "    <tr>\n",
       "      <th>75%</th>\n",
       "      <td>280.000000</td>\n",
       "      <td>66.000000</td>\n",
       "      <td>5.060000</td>\n",
       "      <td>65.000000</td>\n",
       "      <td>216.000000</td>\n",
       "      <td>14.530000</td>\n",
       "      <td>2184.000000</td>\n",
       "      <td>24.000000</td>\n",
       "      <td>88.000000</td>\n",
       "      <td>56.000000</td>\n",
       "      <td>15.000000</td>\n",
       "      <td>24.000000</td>\n",
       "      <td>28.000000</td>\n",
       "      <td>20.000000</td>\n",
       "      <td>6.000000</td>\n",
       "      <td>5.000000</td>\n",
       "    </tr>\n",
       "    <tr>\n",
       "      <th>max</th>\n",
       "      <td>720.000000</td>\n",
       "      <td>222.000000</td>\n",
       "      <td>6.190000</td>\n",
       "      <td>221.000000</td>\n",
       "      <td>585.000000</td>\n",
       "      <td>188.000000</td>\n",
       "      <td>5951.000000</td>\n",
       "      <td>85.000000</td>\n",
       "      <td>324.000000</td>\n",
       "      <td>196.000000</td>\n",
       "      <td>71.000000</td>\n",
       "      <td>643.000000</td>\n",
       "      <td>83.000000</td>\n",
       "      <td>61.000000</td>\n",
       "      <td>39.000000</td>\n",
       "      <td>59.000000</td>\n",
       "    </tr>\n",
       "  </tbody>\n",
       "</table>\n",
       "</div>"
      ],
      "text/plain": [
       "        word_count  long_word_count  avg_word_length_per_essay  wrong_words  \\\n",
       "count  5309.000000      5309.000000                5309.000000  5309.000000   \n",
       "mean    197.338105        46.362403                   4.835283    45.079299   \n",
       "std     116.878512        31.073141                   0.351803    28.413772   \n",
       "min       6.000000         0.000000                   3.170000     0.000000   \n",
       "25%      95.000000        21.000000                   4.600000    20.000000   \n",
       "50%     196.000000        42.000000                   4.830000    43.000000   \n",
       "75%     280.000000        66.000000                   5.060000    65.000000   \n",
       "max     720.000000       222.000000                   6.190000   221.000000   \n",
       "\n",
       "       no_of_domain_words  word_to_sent_ratio  num_of_characters  \\\n",
       "count         5309.000000         5309.000000        5309.000000   \n",
       "mean           152.258806           13.492121        1532.813147   \n",
       "std             90.775007            7.727928         921.793079   \n",
       "min              4.000000            2.500000          39.000000   \n",
       "25%             74.000000           10.350000         723.000000   \n",
       "50%            150.000000           12.190000        1523.000000   \n",
       "75%            216.000000           14.530000        2184.000000   \n",
       "max            585.000000          188.000000        5951.000000   \n",
       "\n",
       "       sentence_count   noun_count   verb_count  comma_count  \\\n",
       "count     5309.000000  5309.000000  5309.000000  5309.000000   \n",
       "mean        16.187983    62.791109    38.644377    10.174421   \n",
       "std         10.379520    37.776345    24.916955     9.545103   \n",
       "min          1.000000     0.000000     0.000000     0.000000   \n",
       "25%          7.000000    31.000000    15.000000     3.000000   \n",
       "50%         15.000000    61.000000    39.000000     8.000000   \n",
       "75%         24.000000    88.000000    56.000000    15.000000   \n",
       "max         85.000000   324.000000   196.000000    71.000000   \n",
       "\n",
       "       punctuation_count  adjective_count  adverb_count  quotation_mark_count  \\\n",
       "count        5309.000000      5309.000000   5309.000000           5309.000000   \n",
       "mean           16.768318        19.873422     13.729328              3.817856   \n",
       "std            13.659156        13.228023     10.068848              4.964016   \n",
       "min             0.000000         0.000000      0.000000              0.000000   \n",
       "25%             7.000000         9.000000      5.000000              0.000000   \n",
       "50%            15.000000        18.000000     12.000000              2.000000   \n",
       "75%            24.000000        28.000000     20.000000              6.000000   \n",
       "max           643.000000        83.000000     61.000000             39.000000   \n",
       "\n",
       "       spelling_mistakes  \n",
       "count        5309.000000  \n",
       "mean            3.368243  \n",
       "std             3.747873  \n",
       "min             0.000000  \n",
       "25%             1.000000  \n",
       "50%             2.000000  \n",
       "75%             5.000000  \n",
       "max            59.000000  "
      ]
     },
     "execution_count": 3,
     "metadata": {},
     "output_type": "execute_result"
    }
   ],
   "source": [
    "X_all = pd.read_csv(\"model_and_visualization/features_set_1.csv\")\n",
    "y_all = pd.read_csv(\"model_and_visualization/target_set_1.csv\")\n",
    "X_all = X_all.drop('Unnamed: 0',axis=1)\n",
    "y_all = y_all.drop('Unnamed: 0',axis=1)\n",
    "\n",
    "print len(X_all)\n",
    "print len(y_all)\n",
    "X_all.describe()\n"
   ]
  },
  {
   "cell_type": "code",
   "execution_count": 6,
   "metadata": {
    "collapsed": false
   },
   "outputs": [
    {
     "data": {
      "text/plain": [
       "{'adjective_count': 45.6261,\n",
       " 'adverb_count': 45.2507,\n",
       " 'avg_word_length_per_essay': 6.1672,\n",
       " 'comma_count': 29.4193,\n",
       " 'long_word_count': 52.7739,\n",
       " 'no_of_domain_words': 53.9887,\n",
       " 'noun_count': 58.1735,\n",
       " 'num_of_characters': 52.3,\n",
       " 'punctuation_count': 36.6511,\n",
       " 'quotation_mark_count': 16.3819,\n",
       " 'sentence_count': 57.1469,\n",
       " 'spelling_mistakes': 27.5325,\n",
       " 'verb_count': 49.2216,\n",
       " 'word_count': 52.8422,\n",
       " 'word_to_sent_ratio': 3.4995,\n",
       " 'wrong_words': 42.7589}"
      ]
     },
     "execution_count": 6,
     "metadata": {},
     "output_type": "execute_result"
    }
   ],
   "source": [
    "feature_columns = [\"word_count\",\"long_word_count\",\"avg_word_length_per_essay\",\"wrong_words\",\"no_of_domain_words\",\"word_to_sent_ratio\",\"num_of_characters\",\"sentence_count\",\"noun_count\",\"verb_count\",\"comma_count\",\"punctuation_count\",\"adjective_count\",\"adverb_count\",\"quotation_mark_count\",\"spelling_mistakes\"]\n",
    "feature_dict = {}\n",
    "    \n",
    "for f in feature_columns:\n",
    "    score = helper.Evaluate(X_all,y_all,[f])\n",
    "    feature_dict[f] = round(float(score)*100,4)\n",
    "feature_dict"
   ]
  },
  {
   "cell_type": "code",
   "execution_count": 7,
   "metadata": {
    "collapsed": false
   },
   "outputs": [
    {
     "name": "stdout",
     "output_type": "stream",
     "text": [
      "\t\tIndex\t Feature\n",
      "\t\t| 0 |\t| noun_count |\n",
      "\t\t--------------------------------\n",
      "\t\t| 1 |\t| sentence_count |\n",
      "\t\t--------------------------------\n",
      "\t\t| 2 |\t| no_of_domain_words |\n",
      "\t\t--------------------------------\n",
      "\t\t| 3 |\t| word_count |\n",
      "\t\t--------------------------------\n",
      "\t\t| 4 |\t| long_word_count |\n",
      "\t\t--------------------------------\n",
      "\t\t| 5 |\t| num_of_characters |\n",
      "\t\t--------------------------------\n",
      "\t\t| 6 |\t| verb_count |\n",
      "\t\t--------------------------------\n",
      "\t\t| 7 |\t| adjective_count |\n",
      "\t\t--------------------------------\n",
      "\t\t| 8 |\t| adverb_count |\n",
      "\t\t--------------------------------\n",
      "\t\t| 9 |\t| wrong_words |\n",
      "\t\t--------------------------------\n",
      "\t\t| 10 |\t| punctuation_count |\n",
      "\t\t--------------------------------\n",
      "\t\t| 11 |\t| comma_count |\n",
      "\t\t--------------------------------\n",
      "\t\t| 12 |\t| spelling_mistakes |\n",
      "\t\t--------------------------------\n",
      "\t\t| 13 |\t| quotation_mark_count |\n",
      "\t\t--------------------------------\n",
      "\t\t| 14 |\t| avg_word_length_per_essay |\n",
      "\t\t--------------------------------\n",
      "\t\t| 15 |\t| word_to_sent_ratio |\n",
      "\t\t--------------------------------\n"
     ]
    }
   ],
   "source": [
    "import operator\n",
    "sorted_feature_list = sorted(feature_dict.items(), key=operator.itemgetter(1),reverse=True)\n",
    "\n",
    "print \"\\t\\tIndex\\t Feature\"\n",
    "for x in range(len(sorted_feature_list)):\n",
    "    print \"\\t\\t|\",x,\"|\\t|\",sorted_feature_list[x][0],\"|\"\n",
    "    print \"\\t\\t--------------------------------\"\n",
    "\n",
    "objects = [x[1] for x in sorted_feature_list]\n"
   ]
  },
  {
   "cell_type": "code",
   "execution_count": 9,
   "metadata": {
    "collapsed": false
   },
   "outputs": [
    {
     "data": {
      "image/png": "[encoded data removed]",
      "text/plain": [
       "<matplotlib.figure.Figure at 0x7f855565e950>"
      ]
     },
     "metadata": {},
     "output_type": "display_data"
    }
   ],
   "source": [
    "y_pos = np.arange(len(objects))\n",
    "plt.figure(figsize=(7,7))\n",
    "plt.bar(y_pos, objects, align='center', alpha=0.5)\n",
    "plt.ylabel('Kappa score')\n",
    "plt.xlabel('Features')\n",
    "plt.title('Single feature Kappa')\n",
    "plt.show()"
   ]
  },
  {
   "cell_type": "code",
   "execution_count": 11,
   "metadata": {
    "collapsed": false
   },
   "outputs": [
    {
     "name": "stdout",
     "output_type": "stream",
     "text": [
      "Index   Forward Feature list\n",
      "0    ['noun_count']\n",
      "--------------------------------------------------\n",
      "1    ['noun_count', 'sentence_count']\n",
      "--------------------------------------------------\n",
      "2    ['noun_count', 'sentence_count', 'no_of_domain_words']\n",
      "--------------------------------------------------\n",
      "3    ['noun_count', 'sentence_count', 'no_of_domain_words', 'word_count']\n",
      "--------------------------------------------------\n",
      "4    ['noun_count', 'sentence_count', 'no_of_domain_words', 'word_count', 'long_word_count']\n",
      "--------------------------------------------------\n",
      "5    ['noun_count', 'sentence_count', 'no_of_domain_words', 'word_count', 'long_word_count', 'num_of_characters']\n",
      "--------------------------------------------------\n",
      "6    ['noun_count', 'sentence_count', 'no_of_domain_words', 'word_count', 'long_word_count', 'num_of_characters', 'verb_count']\n",
      "--------------------------------------------------\n",
      "7    ['noun_count', 'sentence_count', 'no_of_domain_words', 'word_count', 'long_word_count', 'num_of_characters', 'verb_count', 'adjective_count']\n",
      "--------------------------------------------------\n",
      "8    ['noun_count', 'sentence_count', 'no_of_domain_words', 'word_count', 'long_word_count', 'num_of_characters', 'verb_count', 'adjective_count', 'adverb_count']\n",
      "--------------------------------------------------\n",
      "9    ['noun_count', 'sentence_count', 'no_of_domain_words', 'word_count', 'long_word_count', 'num_of_characters', 'verb_count', 'adjective_count', 'adverb_count', 'wrong_words']\n",
      "--------------------------------------------------\n",
      "10    ['noun_count', 'sentence_count', 'no_of_domain_words', 'word_count', 'long_word_count', 'num_of_characters', 'verb_count', 'adjective_count', 'adverb_count', 'wrong_words', 'punctuation_count']\n",
      "--------------------------------------------------\n",
      "11    ['noun_count', 'sentence_count', 'no_of_domain_words', 'word_count', 'long_word_count', 'num_of_characters', 'verb_count', 'adjective_count', 'adverb_count', 'wrong_words', 'punctuation_count', 'comma_count']\n",
      "--------------------------------------------------\n",
      "12    ['noun_count', 'sentence_count', 'no_of_domain_words', 'word_count', 'long_word_count', 'num_of_characters', 'verb_count', 'adjective_count', 'adverb_count', 'wrong_words', 'punctuation_count', 'comma_count', 'spelling_mistakes']\n",
      "--------------------------------------------------\n",
      "13    ['noun_count', 'sentence_count', 'no_of_domain_words', 'word_count', 'long_word_count', 'num_of_characters', 'verb_count', 'adjective_count', 'adverb_count', 'wrong_words', 'punctuation_count', 'comma_count', 'spelling_mistakes', 'quotation_mark_count']\n",
      "--------------------------------------------------\n",
      "14    ['noun_count', 'sentence_count', 'no_of_domain_words', 'word_count', 'long_word_count', 'num_of_characters', 'verb_count', 'adjective_count', 'adverb_count', 'wrong_words', 'punctuation_count', 'comma_count', 'spelling_mistakes', 'quotation_mark_count', 'avg_word_length_per_essay']\n",
      "--------------------------------------------------\n",
      "15    ['noun_count', 'sentence_count', 'no_of_domain_words', 'word_count', 'long_word_count', 'num_of_characters', 'verb_count', 'adjective_count', 'adverb_count', 'wrong_words', 'punctuation_count', 'comma_count', 'spelling_mistakes', 'quotation_mark_count', 'avg_word_length_per_essay', 'word_to_sent_ratio']\n",
      "--------------------------------------------------\n"
     ]
    }
   ],
   "source": [
    "#Forward feature selection.\n",
    "sorted_f = [i[0] for i in sorted_feature_list]\n",
    "objects = []\n",
    "results = []\n",
    "for i in range(1,len(sorted_f)+1):\n",
    "    forward_feature_list = sorted_f[:i]\n",
    "    round(float(score)*100,4)\n",
    "    result = round(float(helper.Evaluate(X_all,y_all,forward_feature_list))*100,4)\n",
    "    results.append(result)\n",
    "    objects.append(forward_feature_list)\n",
    "     \n",
    "print \"Index   Forward Feature list\"\n",
    "for x in range(len(objects)):\n",
    "    print x,\"  \",objects[x]\n",
    "    print \"--------------------------------------------------\" "
   ]
  },
  {
   "cell_type": "code",
   "execution_count": 13,
   "metadata": {
    "collapsed": false
   },
   "outputs": [
    {
     "data": {
      "image/png": "[encoded data removed]",
      "text/plain": [
       "<matplotlib.figure.Figure at 0x7f85554af2d0>"
      ]
     },
     "metadata": {},
     "output_type": "display_data"
    }
   ],
   "source": [
    "y_pos = np.arange(len(objects))\n",
    "plt.figure(figsize=(8,8))\n",
    "plt.bar(y_pos,results)\n",
    "plt.title('Greedy - Forward feature selection')\n",
    "plt.ylabel('Kappa-Score')\n",
    "plt.xlabel('Forward feature list')\n",
    "plt.show()"
   ]
  },
  {
   "cell_type": "code",
   "execution_count": 16,
   "metadata": {
    "collapsed": false
   },
   "outputs": [
    {
     "name": "stdout",
     "output_type": "stream",
     "text": [
      "0.671410820146\n",
      "0.667359082509\n"
     ]
    },
    {
     "data": {
      "text/plain": [
       "['noun_count',\n",
       " 'sentence_count',\n",
       " 'no_of_domain_words',\n",
       " 'word_count',\n",
       " 'long_word_count',\n",
       " 'num_of_characters',\n",
       " 'verb_count',\n",
       " 'adjective_count',\n",
       " 'adverb_count',\n",
       " 'wrong_words',\n",
       " 'punctuation_count',\n",
       " 'comma_count',\n",
       " 'spelling_mistakes',\n",
       " 'quotation_mark_count',\n",
       " 'avg_word_length_per_essay']"
      ]
     },
     "execution_count": 16,
     "metadata": {},
     "output_type": "execute_result"
    }
   ],
   "source": [
    "# Objects[14] has the highest kappa score as per the bar graph generated. \n",
    "\n",
    "selected_features = objects[14]\n",
    "\n",
    "print helper.Evaluate(X_all,y_all,selected_features)\n",
    "print helper.Evaluate(X_all,y_all,objects[15])\n",
    "\n",
    "selected_features"
   ]
  },
  {
   "cell_type": "code",
   "execution_count": 40,
   "metadata": {
    "collapsed": false
   },
   "outputs": [
    {
     "name": "stdout",
     "output_type": "stream",
     "text": [
      "Performing sentence and word tokenizing which will be used for word2vec\n"
     ]
    },
    {
     "name": "stderr",
     "output_type": "stream",
     "text": [
      "2017-05-25 20:36:42,404 : INFO : collecting all words and their counts\n",
      "2017-05-25 20:36:42,405 : INFO : PROGRESS: at sentence #0, processed 0 words, keeping 0 word types\n",
      "2017-05-25 20:36:42,445 : INFO : PROGRESS: at sentence #10000, processed 80652 words, keeping 6931 word types\n",
      "2017-05-25 20:36:42,488 : INFO : PROGRESS: at sentence #20000, processed 161986 words, keeping 10427 word types\n",
      "2017-05-25 20:36:42,532 : INFO : PROGRESS: at sentence #30000, processed 242118 words, keeping 13012 word types\n",
      "2017-05-25 20:36:42,579 : INFO : PROGRESS: at sentence #40000, processed 327104 words, keeping 15816 word types\n",
      "2017-05-25 20:36:42,624 : INFO : PROGRESS: at sentence #50000, processed 413359 words, keeping 18192 word types\n",
      "2017-05-25 20:36:42,678 : INFO : PROGRESS: at sentence #60000, processed 498776 words, keeping 20069 word types\n",
      "2017-05-25 20:36:42,729 : INFO : PROGRESS: at sentence #70000, processed 587605 words, keeping 22615 word types\n",
      "2017-05-25 20:36:42,732 : INFO : collected 22638 word types from a corpus of 588572 raw words and 70098 sentences\n",
      "2017-05-25 20:36:42,734 : INFO : Loading a fresh vocabulary\n",
      "2017-05-25 20:36:42,770 : INFO : min_count=40 retains 1594 unique words (7% of original 22638, drops 21044)\n",
      "2017-05-25 20:36:42,772 : INFO : min_count=40 leaves 514163 word corpus (87% of original 588572, drops 74409)\n",
      "2017-05-25 20:36:42,811 : INFO : deleting the raw counts dictionary of 22638 items\n",
      "2017-05-25 20:36:42,815 : INFO : sample=0.001 downsamples 74 most-common words\n",
      "2017-05-25 20:36:42,816 : INFO : downsampling leaves estimated 419013 word corpus (81.5% of prior 514163)\n",
      "2017-05-25 20:36:42,818 : INFO : estimated required memory for 1594 words and 300 dimensions: 4622600 bytes\n",
      "2017-05-25 20:36:42,827 : INFO : resetting layer weights\n",
      "2017-05-25 20:36:42,874 : INFO : training model with 4 workers on 1594 vocabulary and 300 features, using sg=0 hs=0 sample=0.001 negative=5 window=10\n",
      "2017-05-25 20:36:43,925 : INFO : PROGRESS: at 26.74% examples, 546757 words/s, in_qsize 7, out_qsize 0\n",
      "2017-05-25 20:36:44,926 : INFO : PROGRESS: at 55.91% examples, 577137 words/s, in_qsize 8, out_qsize 0\n",
      "2017-05-25 20:36:45,933 : INFO : PROGRESS: at 78.23% examples, 540554 words/s, in_qsize 8, out_qsize 0\n",
      "2017-05-25 20:36:46,670 : INFO : worker thread finished; awaiting finish of 3 more threads\n",
      "2017-05-25 20:36:46,674 : INFO : worker thread finished; awaiting finish of 2 more threads\n",
      "2017-05-25 20:36:46,684 : INFO : worker thread finished; awaiting finish of 1 more threads\n",
      "2017-05-25 20:36:46,685 : INFO : worker thread finished; awaiting finish of 0 more threads\n",
      "2017-05-25 20:36:46,686 : INFO : training on 2942860 raw words (2094012 effective words) took 3.8s, 555052 effective words/s\n",
      "2017-05-25 20:36:46,687 : INFO : precomputing L2-norms of word weight vectors\n",
      "2017-05-25 20:36:46,715 : INFO : saving Word2Vec object under model_and_visualization/300features_40minwords_10context, separately None\n",
      "2017-05-25 20:36:46,746 : INFO : not storing attribute syn0norm\n",
      "2017-05-25 20:36:46,752 : INFO : not storing attribute cum_table\n",
      "2017-05-25 20:36:46,873 : INFO : saved model_and_visualization/300features_40minwords_10context\n",
      "/home/alphamike/anaconda2/lib/python2.7/site-packages/sklearn/utils/validation.py:526: DataConversionWarning: A column-vector y was passed when a 1d array was expected. Please change the shape of y to (n_samples, ), for example using ravel().\n",
      "  y = column_or_1d(y, warn=True)\n"
     ]
    },
    {
     "name": "stdout",
     "output_type": "stream",
     "text": [
      "Kappa:  0.947584039231\n",
      "Performing sentence and word tokenizing which will be used for word2vec\n"
     ]
    },
    {
     "name": "stderr",
     "output_type": "stream",
     "text": [
      "2017-05-25 20:37:31,846 : INFO : collecting all words and their counts\n",
      "2017-05-25 20:37:31,847 : INFO : PROGRESS: at sentence #0, processed 0 words, keeping 0 word types\n",
      "2017-05-25 20:37:31,894 : INFO : PROGRESS: at sentence #10000, processed 81271 words, keeping 7016 word types\n",
      "2017-05-25 20:37:31,942 : INFO : PROGRESS: at sentence #20000, processed 161736 words, keeping 10549 word types\n",
      "2017-05-25 20:37:31,987 : INFO : PROGRESS: at sentence #30000, processed 241444 words, keeping 13114 word types\n",
      "2017-05-25 20:37:32,034 : INFO : PROGRESS: at sentence #40000, processed 326839 words, keeping 15912 word types\n",
      "2017-05-25 20:37:32,081 : INFO : PROGRESS: at sentence #50000, processed 413009 words, keeping 18149 word types\n",
      "2017-05-25 20:37:32,122 : INFO : PROGRESS: at sentence #60000, processed 498205 words, keeping 20016 word types\n",
      "2017-05-25 20:37:32,173 : INFO : collected 22501 word types from a corpus of 586604 raw words and 69992 sentences\n",
      "2017-05-25 20:37:32,174 : INFO : Loading a fresh vocabulary\n",
      "2017-05-25 20:37:32,201 : INFO : min_count=40 retains 1608 unique words (7% of original 22501, drops 20893)\n",
      "2017-05-25 20:37:32,203 : INFO : min_count=40 leaves 513041 word corpus (87% of original 586604, drops 73563)\n",
      "2017-05-25 20:37:32,216 : INFO : deleting the raw counts dictionary of 22501 items\n",
      "2017-05-25 20:37:32,219 : INFO : sample=0.001 downsamples 75 most-common words\n",
      "2017-05-25 20:37:32,221 : INFO : downsampling leaves estimated 417737 word corpus (81.4% of prior 513041)\n",
      "2017-05-25 20:37:32,222 : INFO : estimated required memory for 1608 words and 300 dimensions: 4663200 bytes\n",
      "2017-05-25 20:37:32,233 : INFO : resetting layer weights\n",
      "2017-05-25 20:37:32,270 : INFO : training model with 4 workers on 1608 vocabulary and 300 features, using sg=0 hs=0 sample=0.001 negative=5 window=10\n",
      "2017-05-25 20:37:33,318 : INFO : PROGRESS: at 23.97% examples, 474621 words/s, in_qsize 7, out_qsize 2\n",
      "2017-05-25 20:37:34,324 : INFO : PROGRESS: at 50.74% examples, 511447 words/s, in_qsize 8, out_qsize 0\n",
      "2017-05-25 20:37:35,333 : INFO : PROGRESS: at 79.43% examples, 541593 words/s, in_qsize 8, out_qsize 1\n",
      "2017-05-25 20:37:36,008 : INFO : worker thread finished; awaiting finish of 3 more threads\n",
      "2017-05-25 20:37:36,023 : INFO : worker thread finished; awaiting finish of 2 more threads\n",
      "2017-05-25 20:37:36,026 : INFO : worker thread finished; awaiting finish of 1 more threads\n",
      "2017-05-25 20:37:36,030 : INFO : worker thread finished; awaiting finish of 0 more threads\n",
      "2017-05-25 20:37:36,032 : INFO : training on 2933020 raw words (2088253 effective words) took 3.8s, 555435 effective words/s\n",
      "2017-05-25 20:37:36,041 : INFO : precomputing L2-norms of word weight vectors\n",
      "2017-05-25 20:37:36,073 : INFO : saving Word2Vec object under model_and_visualization/300features_40minwords_10context, separately None\n",
      "2017-05-25 20:37:36,074 : INFO : not storing attribute syn0norm\n",
      "2017-05-25 20:37:36,075 : INFO : not storing attribute cum_table\n",
      "2017-05-25 20:37:36,127 : INFO : saved model_and_visualization/300features_40minwords_10context\n"
     ]
    },
    {
     "name": "stdout",
     "output_type": "stream",
     "text": [
      "Kappa:  0.94954042459\n",
      "Performing sentence and word tokenizing which will be used for word2vec\n"
     ]
    },
    {
     "name": "stderr",
     "output_type": "stream",
     "text": [
      "2017-05-25 20:38:19,127 : INFO : collecting all words and their counts\n",
      "2017-05-25 20:38:19,128 : INFO : PROGRESS: at sentence #0, processed 0 words, keeping 0 word types\n",
      "2017-05-25 20:38:19,166 : INFO : PROGRESS: at sentence #10000, processed 80290 words, keeping 6914 word types\n",
      "2017-05-25 20:38:19,212 : INFO : PROGRESS: at sentence #20000, processed 162059 words, keeping 10355 word types\n",
      "2017-05-25 20:38:19,259 : INFO : PROGRESS: at sentence #30000, processed 242065 words, keeping 12941 word types\n",
      "2017-05-25 20:38:19,306 : INFO : PROGRESS: at sentence #40000, processed 327467 words, keeping 15885 word types\n",
      "2017-05-25 20:38:19,350 : INFO : PROGRESS: at sentence #50000, processed 413300 words, keeping 18170 word types\n",
      "2017-05-25 20:38:19,390 : INFO : PROGRESS: at sentence #60000, processed 498818 words, keeping 20008 word types\n",
      "2017-05-25 20:38:19,437 : INFO : PROGRESS: at sentence #70000, processed 587220 words, keeping 22448 word types\n",
      "2017-05-25 20:38:19,440 : INFO : collected 22488 word types from a corpus of 589279 raw words and 70217 sentences\n",
      "2017-05-25 20:38:19,441 : INFO : Loading a fresh vocabulary\n",
      "2017-05-25 20:38:19,472 : INFO : min_count=40 retains 1597 unique words (7% of original 22488, drops 20891)\n",
      "2017-05-25 20:38:19,474 : INFO : min_count=40 leaves 514652 word corpus (87% of original 589279, drops 74627)\n",
      "2017-05-25 20:38:19,489 : INFO : deleting the raw counts dictionary of 22488 items\n",
      "2017-05-25 20:38:19,492 : INFO : sample=0.001 downsamples 76 most-common words\n",
      "2017-05-25 20:38:19,494 : INFO : downsampling leaves estimated 419720 word corpus (81.6% of prior 514652)\n",
      "2017-05-25 20:38:19,495 : INFO : estimated required memory for 1597 words and 300 dimensions: 4631300 bytes\n",
      "2017-05-25 20:38:19,505 : INFO : resetting layer weights\n",
      "2017-05-25 20:38:19,559 : INFO : training model with 4 workers on 1597 vocabulary and 300 features, using sg=0 hs=0 sample=0.001 negative=5 window=10\n",
      "2017-05-25 20:38:20,587 : INFO : PROGRESS: at 28.48% examples, 579950 words/s, in_qsize 8, out_qsize 0\n",
      "2017-05-25 20:38:21,618 : INFO : PROGRESS: at 52.79% examples, 538512 words/s, in_qsize 6, out_qsize 0\n",
      "2017-05-25 20:38:22,674 : INFO : PROGRESS: at 78.45% examples, 529501 words/s, in_qsize 8, out_qsize 0\n",
      "2017-05-25 20:38:23,385 : INFO : worker thread finished; awaiting finish of 3 more threads\n",
      "2017-05-25 20:38:23,392 : INFO : worker thread finished; awaiting finish of 2 more threads\n",
      "2017-05-25 20:38:23,408 : INFO : worker thread finished; awaiting finish of 1 more threads\n",
      "2017-05-25 20:38:23,412 : INFO : worker thread finished; awaiting finish of 0 more threads\n",
      "2017-05-25 20:38:23,413 : INFO : training on 2946395 raw words (2098755 effective words) took 3.8s, 546851 effective words/s\n",
      "2017-05-25 20:38:23,414 : INFO : precomputing L2-norms of word weight vectors\n",
      "2017-05-25 20:38:23,446 : INFO : saving Word2Vec object under model_and_visualization/300features_40minwords_10context, separately None\n",
      "2017-05-25 20:38:23,449 : INFO : not storing attribute syn0norm\n",
      "2017-05-25 20:38:23,451 : INFO : not storing attribute cum_table\n",
      "2017-05-25 20:38:23,515 : INFO : saved model_and_visualization/300features_40minwords_10context\n"
     ]
    },
    {
     "name": "stdout",
     "output_type": "stream",
     "text": [
      "Kappa:  0.950983194187\n",
      "Performing sentence and word tokenizing which will be used for word2vec\n"
     ]
    },
    {
     "name": "stderr",
     "output_type": "stream",
     "text": [
      "2017-05-25 20:39:07,914 : INFO : collecting all words and their counts\n",
      "2017-05-25 20:39:07,915 : INFO : PROGRESS: at sentence #0, processed 0 words, keeping 0 word types\n",
      "2017-05-25 20:39:07,956 : INFO : PROGRESS: at sentence #10000, processed 81805 words, keeping 6926 word types\n",
      "2017-05-25 20:39:07,994 : INFO : PROGRESS: at sentence #20000, processed 162115 words, keeping 10371 word types\n",
      "2017-05-25 20:39:08,035 : INFO : PROGRESS: at sentence #30000, processed 242302 words, keeping 12919 word types\n",
      "2017-05-25 20:39:08,082 : INFO : PROGRESS: at sentence #40000, processed 327115 words, keeping 15741 word types\n",
      "2017-05-25 20:39:08,127 : INFO : PROGRESS: at sentence #50000, processed 412384 words, keeping 17968 word types\n",
      "2017-05-25 20:39:08,171 : INFO : PROGRESS: at sentence #60000, processed 497610 words, keeping 19869 word types\n",
      "2017-05-25 20:39:08,216 : INFO : PROGRESS: at sentence #70000, processed 586283 words, keeping 22402 word types\n",
      "2017-05-25 20:39:08,219 : INFO : collected 22438 word types from a corpus of 587834 raw words and 70177 sentences\n",
      "2017-05-25 20:39:08,220 : INFO : Loading a fresh vocabulary\n",
      "2017-05-25 20:39:08,244 : INFO : min_count=40 retains 1593 unique words (7% of original 22438, drops 20845)\n",
      "2017-05-25 20:39:08,245 : INFO : min_count=40 leaves 514074 word corpus (87% of original 587834, drops 73760)\n",
      "2017-05-25 20:39:08,260 : INFO : deleting the raw counts dictionary of 22438 items\n",
      "2017-05-25 20:39:08,263 : INFO : sample=0.001 downsamples 79 most-common words\n",
      "2017-05-25 20:39:08,264 : INFO : downsampling leaves estimated 418673 word corpus (81.4% of prior 514074)\n",
      "2017-05-25 20:39:08,265 : INFO : estimated required memory for 1593 words and 300 dimensions: 4619700 bytes\n",
      "2017-05-25 20:39:08,273 : INFO : resetting layer weights\n",
      "2017-05-25 20:39:08,316 : INFO : training model with 4 workers on 1593 vocabulary and 300 features, using sg=0 hs=0 sample=0.001 negative=5 window=10\n",
      "2017-05-25 20:39:09,349 : INFO : PROGRESS: at 27.85% examples, 567207 words/s, in_qsize 7, out_qsize 0\n",
      "2017-05-25 20:39:10,367 : INFO : PROGRESS: at 50.65% examples, 516669 words/s, in_qsize 7, out_qsize 0\n",
      "2017-05-25 20:39:11,372 : INFO : PROGRESS: at 78.95% examples, 543871 words/s, in_qsize 7, out_qsize 0\n",
      "2017-05-25 20:39:12,049 : INFO : worker thread finished; awaiting finish of 3 more threads\n",
      "2017-05-25 20:39:12,060 : INFO : worker thread finished; awaiting finish of 2 more threads\n",
      "2017-05-25 20:39:12,072 : INFO : worker thread finished; awaiting finish of 1 more threads\n",
      "2017-05-25 20:39:12,087 : INFO : worker thread finished; awaiting finish of 0 more threads\n",
      "2017-05-25 20:39:12,088 : INFO : training on 2939170 raw words (2093245 effective words) took 3.8s, 557924 effective words/s\n",
      "2017-05-25 20:39:12,089 : INFO : precomputing L2-norms of word weight vectors\n",
      "2017-05-25 20:39:12,126 : INFO : saving Word2Vec object under model_and_visualization/300features_40minwords_10context, separately None\n",
      "2017-05-25 20:39:12,131 : INFO : not storing attribute syn0norm\n",
      "2017-05-25 20:39:12,133 : INFO : not storing attribute cum_table\n",
      "2017-05-25 20:39:12,209 : INFO : saved model_and_visualization/300features_40minwords_10context\n"
     ]
    },
    {
     "name": "stdout",
     "output_type": "stream",
     "text": [
      "Kappa:  0.942469598474\n",
      "Performing sentence and word tokenizing which will be used for word2vec\n"
     ]
    },
    {
     "name": "stderr",
     "output_type": "stream",
     "text": [
      "2017-05-25 20:39:57,821 : INFO : collecting all words and their counts\n",
      "2017-05-25 20:39:57,822 : INFO : PROGRESS: at sentence #0, processed 0 words, keeping 0 word types\n",
      "2017-05-25 20:39:57,852 : INFO : PROGRESS: at sentence #10000, processed 81429 words, keeping 6937 word types\n",
      "2017-05-25 20:39:57,885 : INFO : PROGRESS: at sentence #20000, processed 162566 words, keeping 10544 word types\n",
      "2017-05-25 20:39:57,912 : INFO : PROGRESS: at sentence #30000, processed 242517 words, keeping 13132 word types\n",
      "2017-05-25 20:39:57,942 : INFO : PROGRESS: at sentence #40000, processed 328169 words, keeping 15896 word types\n",
      "2017-05-25 20:39:57,975 : INFO : PROGRESS: at sentence #50000, processed 413959 words, keeping 18105 word types\n",
      "2017-05-25 20:39:58,014 : INFO : PROGRESS: at sentence #60000, processed 500461 words, keeping 20103 word types\n",
      "2017-05-25 20:39:58,051 : INFO : collected 22631 word types from a corpus of 585719 raw words and 69564 sentences\n",
      "2017-05-25 20:39:58,052 : INFO : Loading a fresh vocabulary\n",
      "2017-05-25 20:39:58,081 : INFO : min_count=40 retains 1593 unique words (7% of original 22631, drops 21038)\n",
      "2017-05-25 20:39:58,083 : INFO : min_count=40 leaves 510922 word corpus (87% of original 585719, drops 74797)\n",
      "2017-05-25 20:39:58,092 : INFO : deleting the raw counts dictionary of 22631 items\n",
      "2017-05-25 20:39:58,098 : INFO : sample=0.001 downsamples 76 most-common words\n",
      "2017-05-25 20:39:58,101 : INFO : downsampling leaves estimated 416917 word corpus (81.6% of prior 510922)\n",
      "2017-05-25 20:39:58,105 : INFO : estimated required memory for 1593 words and 300 dimensions: 4619700 bytes\n",
      "2017-05-25 20:39:58,114 : INFO : resetting layer weights\n",
      "2017-05-25 20:39:58,147 : INFO : training model with 4 workers on 1593 vocabulary and 300 features, using sg=0 hs=0 sample=0.001 negative=5 window=10\n",
      "2017-05-25 20:39:59,155 : INFO : PROGRESS: at 28.31% examples, 578693 words/s, in_qsize 7, out_qsize 0\n",
      "2017-05-25 20:40:00,160 : INFO : PROGRESS: at 57.79% examples, 596785 words/s, in_qsize 8, out_qsize 0\n",
      "2017-05-25 20:40:01,161 : INFO : PROGRESS: at 86.22% examples, 595041 words/s, in_qsize 7, out_qsize 1\n",
      "2017-05-25 20:40:01,630 : INFO : worker thread finished; awaiting finish of 3 more threads\n",
      "2017-05-25 20:40:01,631 : INFO : worker thread finished; awaiting finish of 2 more threads\n",
      "2017-05-25 20:40:01,632 : INFO : worker thread finished; awaiting finish of 1 more threads\n",
      "2017-05-25 20:40:01,633 : INFO : worker thread finished; awaiting finish of 0 more threads\n",
      "2017-05-25 20:40:01,634 : INFO : training on 2928595 raw words (2083898 effective words) took 3.5s, 598756 effective words/s\n",
      "2017-05-25 20:40:01,635 : INFO : precomputing L2-norms of word weight vectors\n",
      "2017-05-25 20:40:01,657 : INFO : saving Word2Vec object under model_and_visualization/300features_40minwords_10context, separately None\n",
      "2017-05-25 20:40:01,659 : INFO : not storing attribute syn0norm\n",
      "2017-05-25 20:40:01,660 : INFO : not storing attribute cum_table\n",
      "2017-05-25 20:40:01,715 : INFO : saved model_and_visualization/300features_40minwords_10context\n"
     ]
    },
    {
     "name": "stdout",
     "output_type": "stream",
     "text": [
      "Kappa:  0.950179856088\n"
     ]
    }
   ],
   "source": [
    "#Training with Word2Vec\n",
    "from sklearn.linear_model import LogisticRegression\n",
    "cv = cross_validation.KFold(len(X_all), n_folds=5,shuffle=True)\n",
    "results = []\n",
    "\n",
    "for traincv, testcv in cv:\n",
    "        X_test, X_train, y_test, y_train = X_all.iloc[testcv], X_all.iloc[traincv], y_all.iloc[testcv], y_all.iloc[traincv]\n",
    "                \n",
    "        train_essays = X_train['essay']\n",
    "        test_essays = X_test['essay']\n",
    "        #print essays\n",
    "        sentences = []\n",
    "\n",
    "        print (\"Performing sentence and word tokenizing which will be used for word2vec\")\n",
    "\n",
    "        for essay in train_essays:\n",
    "            sentences += helper.essay_to_sentences(unicode(essay,\"utf-8\",errors='ignore'), remove_stopwords = True)\n",
    "\n",
    "        logging.basicConfig(format='%(asctime)s : %(levelname)s : %(message)s', level=logging.INFO)\n",
    "\n",
    "        num_features = 300 \n",
    "        min_word_count = 40\n",
    "        num_workers = 4\n",
    "        context = 10\n",
    "        downsampling = 1e-3\n",
    "\n",
    "        #print (\"Training w2v model...\") \n",
    "        model = word2vec.Word2Vec(sentences, workers=num_workers, size=num_features, min_count = min_word_count, window = context, sample = downsampling)\n",
    "\n",
    "        model.init_sims(replace=True)\n",
    "\n",
    "        model_name = \"model_and_visualization/300features_40minwords_10context\"\n",
    "        model.save(model_name)\n",
    "\n",
    "        #print (\"Creating average feature vecs for Training Essays\")\n",
    "        clean_train_essays = []\n",
    "      \n",
    "        for essay_v in train_essays:\n",
    "            clean_train_essays.append( helper.essay_to_wordlist( essay_v, remove_stopwords=True ))\n",
    "        trainDataVecs = helper.getAvgFeatureVecs( clean_train_essays, model, num_features )\n",
    "        \n",
    "        clean_test_essays = []\n",
    "        for essay_v in test_essays:\n",
    "            clean_test_essays.append( helper.essay_to_wordlist( essay_v, remove_stopwords=True ))\n",
    "        testDataVecs = helper.getAvgFeatureVecs( clean_test_essays, model, num_features )\n",
    "        \n",
    "        #print(\"Done\")\n",
    "\n",
    "        myOwnTrainFeatureVec = np.array(X_train[selected_features])\n",
    "        myOwnTestFeatureVec = np.array(X_test[selected_features])\n",
    "        \n",
    "        trainDataVecs = np.concatenate((trainDataVecs,myOwnTrainFeatureVec),1)\n",
    "        testDataVecs = np.concatenate((testDataVecs,myOwnTestFeatureVec),1)\n",
    "        \n",
    "        model =  LogisticRegression(penalty='l1',class_weight=None)\n",
    "        model.fit(trainDataVecs,y_train)\n",
    "        start = time()\n",
    "        y_pred = model.predict(testDataVecs)\n",
    "        end = time()\n",
    "\n",
    "        #print (\"Made predictions in {:.4f} seconds.\".format(end - start))\n",
    "        result = kappa(y_test.values,np.around(y_pred,decimals=2),weights='quadratic')\n",
    "        print \"Kappa: \", result\n",
    "        results.append(result)"
   ]
  },
  {
   "cell_type": "code",
   "execution_count": 27,
   "metadata": {
    "collapsed": false
   },
   "outputs": [
    {
     "name": "stdout",
     "output_type": "stream",
     "text": [
      "Average Kappa score after a 5-fold cross validation with Word2Vec and custom generated heuristic features is  0.9347\n"
     ]
    }
   ],
   "source": [
    "print \"Average Kappa score after a 5-fold cross validation with Word2Vec and custom generated heuristic features is \",np.around(np.array(results).mean(),decimals=4)"
   ]
  },
  {
   "cell_type": "code",
   "execution_count": 34,
   "metadata": {
    "collapsed": false
   },
   "outputs": [
    {
     "data": {
      "text/plain": [
       "{'copy_X': True, 'fit_intercept': True, 'n_jobs': 1, 'normalize': False}"
      ]
     },
     "execution_count": 34,
     "metadata": {},
     "output_type": "execute_result"
    }
   ],
   "source": [
    "LinearRegression().get_params()"
   ]
  },
  {
   "cell_type": "code",
   "execution_count": 36,
   "metadata": {
    "collapsed": true
   },
   "outputs": [],
   "source": [
    "from sklearn.linear_model import Lasso\n",
    "model = Lasso()"
   ]
  },
  {
   "cell_type": "code",
   "execution_count": null,
   "metadata": {
    "collapsed": true
   },
   "outputs": [],
   "source": []
  }
 ],
 "metadata": {
  "kernelspec": {
   "display_name": "Python 2",
   "language": "python",
   "name": "python2"
  },
  "language_info": {
   "codemirror_mode": {
    "name": "ipython",
    "version": 2
   },
   "file_extension": ".py",
   "mimetype": "text/x-python",
   "name": "python",
   "nbconvert_exporter": "python",
   "pygments_lexer": "ipython2",
   "version": "2.7.13"
  }
 },
 "nbformat": 4,
 "nbformat_minor": 2
}
