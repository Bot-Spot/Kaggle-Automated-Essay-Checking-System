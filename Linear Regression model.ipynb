{
 "cells": [
  {
   "cell_type": "code",
   "execution_count": 1,
   "metadata": {
    "collapsed": true
   },
   "outputs": [],
   "source": [
    "import sys\n",
    "sys.path.append('./utils')"
   ]
  },
  {
   "cell_type": "code",
   "execution_count": 3,
   "metadata": {
    "collapsed": false
   },
   "outputs": [],
   "source": [
    "#Imports\n",
    "from requirements import *\n",
    "import helperfunctions as helper"
   ]
  },
  {
   "cell_type": "code",
   "execution_count": 4,
   "metadata": {
    "collapsed": false
   },
   "outputs": [
    {
     "name": "stdout",
     "output_type": "stream",
     "text": [
      "5309\n",
      "5309\n"
     ]
    },
    {
     "data": {
      "text/html": [
       "<div>\n",
       "<table border=\"1\" class=\"dataframe\">\n",
       "  <thead>\n",
       "    <tr style=\"text-align: right;\">\n",
       "      <th></th>\n",
       "      <th>word_count</th>\n",
       "      <th>long_word_count</th>\n",
       "      <th>avg_word_length_per_essay</th>\n",
       "      <th>wrong_words</th>\n",
       "      <th>no_of_domain_words</th>\n",
       "      <th>word_to_sent_ratio</th>\n",
       "      <th>num_of_characters</th>\n",
       "      <th>sentence_count</th>\n",
       "      <th>noun_count</th>\n",
       "      <th>verb_count</th>\n",
       "      <th>comma_count</th>\n",
       "      <th>punctuation_count</th>\n",
       "      <th>adjective_count</th>\n",
       "      <th>adverb_count</th>\n",
       "      <th>quotation_mark_count</th>\n",
       "      <th>spelling_mistakes</th>\n",
       "    </tr>\n",
       "  </thead>\n",
       "  <tbody>\n",
       "    <tr>\n",
       "      <th>count</th>\n",
       "      <td>5309.000000</td>\n",
       "      <td>5309.000000</td>\n",
       "      <td>5309.000000</td>\n",
       "      <td>5309.000000</td>\n",
       "      <td>5309.000000</td>\n",
       "      <td>5309.000000</td>\n",
       "      <td>5309.000000</td>\n",
       "      <td>5309.000000</td>\n",
       "      <td>5309.000000</td>\n",
       "      <td>5309.000000</td>\n",
       "      <td>5309.000000</td>\n",
       "      <td>5309.000000</td>\n",
       "      <td>5309.000000</td>\n",
       "      <td>5309.000000</td>\n",
       "      <td>5309.000000</td>\n",
       "      <td>5309.000000</td>\n",
       "    </tr>\n",
       "    <tr>\n",
       "      <th>mean</th>\n",
       "      <td>197.338105</td>\n",
       "      <td>46.362403</td>\n",
       "      <td>4.835283</td>\n",
       "      <td>45.079299</td>\n",
       "      <td>152.258806</td>\n",
       "      <td>13.492121</td>\n",
       "      <td>1532.813147</td>\n",
       "      <td>16.187983</td>\n",
       "      <td>62.791109</td>\n",
       "      <td>38.644377</td>\n",
       "      <td>10.174421</td>\n",
       "      <td>16.768318</td>\n",
       "      <td>19.873422</td>\n",
       "      <td>13.729328</td>\n",
       "      <td>3.817856</td>\n",
       "      <td>3.368243</td>\n",
       "    </tr>\n",
       "    <tr>\n",
       "      <th>std</th>\n",
       "      <td>116.878512</td>\n",
       "      <td>31.073141</td>\n",
       "      <td>0.351803</td>\n",
       "      <td>28.413772</td>\n",
       "      <td>90.775007</td>\n",
       "      <td>7.727928</td>\n",
       "      <td>921.793079</td>\n",
       "      <td>10.379520</td>\n",
       "      <td>37.776345</td>\n",
       "      <td>24.916955</td>\n",
       "      <td>9.545103</td>\n",
       "      <td>13.659156</td>\n",
       "      <td>13.228023</td>\n",
       "      <td>10.068848</td>\n",
       "      <td>4.964016</td>\n",
       "      <td>3.747873</td>\n",
       "    </tr>\n",
       "    <tr>\n",
       "      <th>min</th>\n",
       "      <td>6.000000</td>\n",
       "      <td>0.000000</td>\n",
       "      <td>3.170000</td>\n",
       "      <td>0.000000</td>\n",
       "      <td>4.000000</td>\n",
       "      <td>2.500000</td>\n",
       "      <td>39.000000</td>\n",
       "      <td>1.000000</td>\n",
       "      <td>0.000000</td>\n",
       "      <td>0.000000</td>\n",
       "      <td>0.000000</td>\n",
       "      <td>0.000000</td>\n",
       "      <td>0.000000</td>\n",
       "      <td>0.000000</td>\n",
       "      <td>0.000000</td>\n",
       "      <td>0.000000</td>\n",
       "    </tr>\n",
       "    <tr>\n",
       "      <th>25%</th>\n",
       "      <td>95.000000</td>\n",
       "      <td>21.000000</td>\n",
       "      <td>4.600000</td>\n",
       "      <td>20.000000</td>\n",
       "      <td>74.000000</td>\n",
       "      <td>10.350000</td>\n",
       "      <td>723.000000</td>\n",
       "      <td>7.000000</td>\n",
       "      <td>31.000000</td>\n",
       "      <td>15.000000</td>\n",
       "      <td>3.000000</td>\n",
       "      <td>7.000000</td>\n",
       "      <td>9.000000</td>\n",
       "      <td>5.000000</td>\n",
       "      <td>0.000000</td>\n",
       "      <td>1.000000</td>\n",
       "    </tr>\n",
       "    <tr>\n",
       "      <th>50%</th>\n",
       "      <td>196.000000</td>\n",
       "      <td>42.000000</td>\n",
       "      <td>4.830000</td>\n",
       "      <td>43.000000</td>\n",
       "      <td>150.000000</td>\n",
       "      <td>12.190000</td>\n",
       "      <td>1523.000000</td>\n",
       "      <td>15.000000</td>\n",
       "      <td>61.000000</td>\n",
       "      <td>39.000000</td>\n",
       "      <td>8.000000</td>\n",
       "      <td>15.000000</td>\n",
       "      <td>18.000000</td>\n",
       "      <td>12.000000</td>\n",
       "      <td>2.000000</td>\n",
       "      <td>2.000000</td>\n",
       "    </tr>\n",
       "    <tr>\n",
       "      <th>75%</th>\n",
       "      <td>280.000000</td>\n",
       "      <td>66.000000</td>\n",
       "      <td>5.060000</td>\n",
       "      <td>65.000000</td>\n",
       "      <td>216.000000</td>\n",
       "      <td>14.530000</td>\n",
       "      <td>2184.000000</td>\n",
       "      <td>24.000000</td>\n",
       "      <td>88.000000</td>\n",
       "      <td>56.000000</td>\n",
       "      <td>15.000000</td>\n",
       "      <td>24.000000</td>\n",
       "      <td>28.000000</td>\n",
       "      <td>20.000000</td>\n",
       "      <td>6.000000</td>\n",
       "      <td>5.000000</td>\n",
       "    </tr>\n",
       "    <tr>\n",
       "      <th>max</th>\n",
       "      <td>720.000000</td>\n",
       "      <td>222.000000</td>\n",
       "      <td>6.190000</td>\n",
       "      <td>221.000000</td>\n",
       "      <td>585.000000</td>\n",
       "      <td>188.000000</td>\n",
       "      <td>5951.000000</td>\n",
       "      <td>85.000000</td>\n",
       "      <td>324.000000</td>\n",
       "      <td>196.000000</td>\n",
       "      <td>71.000000</td>\n",
       "      <td>643.000000</td>\n",
       "      <td>83.000000</td>\n",
       "      <td>61.000000</td>\n",
       "      <td>39.000000</td>\n",
       "      <td>59.000000</td>\n",
       "    </tr>\n",
       "  </tbody>\n",
       "</table>\n",
       "</div>"
      ],
      "text/plain": [
       "        word_count  long_word_count  avg_word_length_per_essay  wrong_words  \\\n",
       "count  5309.000000      5309.000000                5309.000000  5309.000000   \n",
       "mean    197.338105        46.362403                   4.835283    45.079299   \n",
       "std     116.878512        31.073141                   0.351803    28.413772   \n",
       "min       6.000000         0.000000                   3.170000     0.000000   \n",
       "25%      95.000000        21.000000                   4.600000    20.000000   \n",
       "50%     196.000000        42.000000                   4.830000    43.000000   \n",
       "75%     280.000000        66.000000                   5.060000    65.000000   \n",
       "max     720.000000       222.000000                   6.190000   221.000000   \n",
       "\n",
       "       no_of_domain_words  word_to_sent_ratio  num_of_characters  \\\n",
       "count         5309.000000         5309.000000        5309.000000   \n",
       "mean           152.258806           13.492121        1532.813147   \n",
       "std             90.775007            7.727928         921.793079   \n",
       "min              4.000000            2.500000          39.000000   \n",
       "25%             74.000000           10.350000         723.000000   \n",
       "50%            150.000000           12.190000        1523.000000   \n",
       "75%            216.000000           14.530000        2184.000000   \n",
       "max            585.000000          188.000000        5951.000000   \n",
       "\n",
       "       sentence_count   noun_count   verb_count  comma_count  \\\n",
       "count     5309.000000  5309.000000  5309.000000  5309.000000   \n",
       "mean        16.187983    62.791109    38.644377    10.174421   \n",
       "std         10.379520    37.776345    24.916955     9.545103   \n",
       "min          1.000000     0.000000     0.000000     0.000000   \n",
       "25%          7.000000    31.000000    15.000000     3.000000   \n",
       "50%         15.000000    61.000000    39.000000     8.000000   \n",
       "75%         24.000000    88.000000    56.000000    15.000000   \n",
       "max         85.000000   324.000000   196.000000    71.000000   \n",
       "\n",
       "       punctuation_count  adjective_count  adverb_count  quotation_mark_count  \\\n",
       "count        5309.000000      5309.000000   5309.000000           5309.000000   \n",
       "mean           16.768318        19.873422     13.729328              3.817856   \n",
       "std            13.659156        13.228023     10.068848              4.964016   \n",
       "min             0.000000         0.000000      0.000000              0.000000   \n",
       "25%             7.000000         9.000000      5.000000              0.000000   \n",
       "50%            15.000000        18.000000     12.000000              2.000000   \n",
       "75%            24.000000        28.000000     20.000000              6.000000   \n",
       "max           643.000000        83.000000     61.000000             39.000000   \n",
       "\n",
       "       spelling_mistakes  \n",
       "count        5309.000000  \n",
       "mean            3.368243  \n",
       "std             3.747873  \n",
       "min             0.000000  \n",
       "25%             1.000000  \n",
       "50%             2.000000  \n",
       "75%             5.000000  \n",
       "max            59.000000  "
      ]
     },
     "execution_count": 4,
     "metadata": {},
     "output_type": "execute_result"
    }
   ],
   "source": [
    "X_all = pd.read_csv(\"model_and_visualization/features_set_1.csv\")\n",
    "y_all = pd.read_csv(\"model_and_visualization/target_set_1.csv\")\n",
    "X_all = X_all.drop('Unnamed: 0',axis=1)\n",
    "y_all = y_all.drop('Unnamed: 0',axis=1)\n",
    "\n",
    "print len(X_all)\n",
    "print len(y_all)\n",
    "X_all.describe()\n"
   ]
  },
  {
   "cell_type": "code",
   "execution_count": 6,
   "metadata": {
    "collapsed": false
   },
   "outputs": [
    {
     "data": {
      "text/plain": [
       "{'adjective_count': 45.6776,\n",
       " 'adverb_count': 44.9248,\n",
       " 'avg_word_length_per_essay': 6.1399,\n",
       " 'comma_count': 29.3645,\n",
       " 'long_word_count': 52.8763,\n",
       " 'no_of_domain_words': 54.1624,\n",
       " 'noun_count': 58.0308,\n",
       " 'num_of_characters': 52.3543,\n",
       " 'punctuation_count': 36.7938,\n",
       " 'quotation_mark_count': 16.7022,\n",
       " 'sentence_count': 57.4841,\n",
       " 'spelling_mistakes': 27.0171,\n",
       " 'verb_count': 49.3243,\n",
       " 'word_count': 53.061,\n",
       " 'word_to_sent_ratio': 3.5118,\n",
       " 'wrong_words': 42.8039}"
      ]
     },
     "execution_count": 6,
     "metadata": {},
     "output_type": "execute_result"
    }
   ],
   "source": [
    "feature_columns = [\"word_count\",\"long_word_count\",\"avg_word_length_per_essay\",\"wrong_words\",\"no_of_domain_words\",\"word_to_sent_ratio\",\"num_of_characters\",\"sentence_count\",\"noun_count\",\"verb_count\",\"comma_count\",\"punctuation_count\",\"adjective_count\",\"adverb_count\",\"quotation_mark_count\",\"spelling_mistakes\"]\n",
    "feature_dict = {}\n",
    "    \n",
    "for f in feature_columns:\n",
    "    score = helper.Evaluate(X_all,y_all,[f])\n",
    "    feature_dict[f] = round(float(score)*100,4)\n",
    "feature_dict"
   ]
  },
  {
   "cell_type": "code",
   "execution_count": 7,
   "metadata": {
    "collapsed": false
   },
   "outputs": [
    {
     "name": "stdout",
     "output_type": "stream",
     "text": [
      "['(0) noun_count', '(1) sentence_count', '(2) no_of_domain_words', '(3) word_count', '(4) long_word_count', '(5) num_of_characters', '(6) verb_count', '(7) adjective_count', '(8) adverb_count', '(9) wrong_words', '(10) punctuation_count', '(11) comma_count', '(12) spelling_mistakes', '(13) quotation_mark_count', '(14) avg_word_length_per_essay', '(15) word_to_sent_ratio']\n"
     ]
    }
   ],
   "source": [
    "import operator\n",
    "sorted_feature_list = sorted(feature_dict.items(), key=operator.itemgetter(1),reverse=True)\n",
    "\n",
    "objects = [x[1] for x in sorted_feature_list]\n",
    "features = [\"(\"+str(i)+\") \"+sorted_feature_list[i][0] for i in range(len(sorted_feature_list))]\n",
    "print features"
   ]
  },
  {
   "cell_type": "code",
   "execution_count": 9,
   "metadata": {
    "collapsed": false
   },
   "outputs": [
    {
     "data": {
      "image/png": "[encoded data removed]",
      "text/plain": [
       "<matplotlib.figure.Figure at 0x7f006fe77ad0>"
      ]
     },
     "metadata": {},
     "output_type": "display_data"
    }
   ],
   "source": [
    "y_pos = np.arange(len(objects))\n",
    "plt.figure(figsize=(8,5))\n",
    "plt.bar(y_pos, objects, align='center', alpha=0.5)\n",
    "plt.ylabel('Kappa score')\n",
    "plt.xlabel('Features')\n",
    "plt.xticks(y_pos,features,rotation=90)\n",
    "plt.title('Single feature Kappa')\n",
    "plt.show()"
   ]
  },
  {
   "cell_type": "code",
   "execution_count": 10,
   "metadata": {
    "collapsed": false
   },
   "outputs": [],
   "source": [
    "#Forward feature selection.\n",
    "sorted_f = [i[0] for i in sorted_feature_list]\n",
    "objects = []\n",
    "results = []\n",
    "for i in range(1,len(sorted_f)+1):\n",
    "    forward_feature_list = sorted_f[:i]\n",
    "    round(float(score)*100,4)\n",
    "    result = round(float(helper.Evaluate(X_all,y_all,forward_feature_list))*100,4)\n",
    "    results.append(result)\n",
    "    objects.append(forward_feature_list)"
   ]
  },
  {
   "cell_type": "code",
   "execution_count": 11,
   "metadata": {
    "collapsed": false
   },
   "outputs": [
    {
     "data": {
      "image/png": "[encoded data removed]",
      "text/plain": [
       "<matplotlib.figure.Figure at 0x7f5a3440ee50>"
      ]
     },
     "metadata": {},
     "output_type": "display_data"
    }
   ],
   "source": [
    "features = ['1','1,2','1,2,3','1,2,3,4','1,2,..5','1,2..6','1,2,..7','1,2,..8','1,2,..9',\n",
    "            '1,2,..10','1,2,..11','1,2,..12','1,2,..13','1,2,..14','1,2,..15','1,2,..16']\n",
    "y_pos = np.arange(len(objects))\n",
    "plt.figure(figsize=(8,5))\n",
    "plt.bar(y_pos,results)\n",
    "plt.title('Greedy - Forward feature selection')\n",
    "plt.ylabel('Kappa-Score')\n",
    "plt.xlabel('Forward feature list')\n",
    "plt.xticks(y_pos,features,rotation='vertical')\n",
    "plt.show()"
   ]
  },
  {
   "cell_type": "code",
   "execution_count": 11,
   "metadata": {
    "collapsed": false
   },
   "outputs": [
    {
     "name": "stdout",
     "output_type": "stream",
     "text": [
      "0.67398132067\n",
      "0.670105297108\n"
     ]
    },
    {
     "data": {
      "text/plain": [
       "['noun_count',\n",
       " 'sentence_count',\n",
       " 'no_of_domain_words',\n",
       " 'word_count',\n",
       " 'long_word_count',\n",
       " 'num_of_characters',\n",
       " 'verb_count',\n",
       " 'adjective_count',\n",
       " 'adverb_count',\n",
       " 'wrong_words',\n",
       " 'punctuation_count',\n",
       " 'comma_count',\n",
       " 'spelling_mistakes',\n",
       " 'quotation_mark_count',\n",
       " 'avg_word_length_per_essay']"
      ]
     },
     "execution_count": 11,
     "metadata": {},
     "output_type": "execute_result"
    }
   ],
   "source": [
    "# Objects[14] has the highest kappa score as per the bar graph generated. \n",
    "\n",
    "selected_features = objects[14]\n",
    "\n",
    "print helper.Evaluate(X_all,y_all,selected_features)\n",
    "print helper.Evaluate(X_all,y_all,objects[15])\n",
    "\n",
    "selected_features"
   ]
  },
  {
   "cell_type": "code",
   "execution_count": 39,
   "metadata": {
    "collapsed": false
   },
   "outputs": [
    {
     "name": "stdout",
     "output_type": "stream",
     "text": [
      "Performing sentence and word tokenizing which will be used for word2vec\n"
     ]
    },
    {
     "name": "stderr",
     "output_type": "stream",
     "text": [
      "2017-05-28 10:04:05,598 : INFO : collecting all words and their counts\n",
      "2017-05-28 10:04:05,598 : INFO : PROGRESS: at sentence #0, processed 0 words, keeping 0 word types\n",
      "2017-05-28 10:04:05,641 : INFO : PROGRESS: at sentence #10000, processed 81320 words, keeping 7001 word types\n",
      "2017-05-28 10:04:05,691 : INFO : PROGRESS: at sentence #20000, processed 162431 words, keeping 10502 word types\n",
      "2017-05-28 10:04:05,739 : INFO : PROGRESS: at sentence #30000, processed 243630 words, keeping 13111 word types\n",
      "2017-05-28 10:04:05,786 : INFO : PROGRESS: at sentence #40000, processed 329125 words, keeping 15945 word types\n",
      "2017-05-28 10:04:05,839 : INFO : PROGRESS: at sentence #50000, processed 415246 words, keeping 18139 word types\n",
      "2017-05-28 10:04:05,879 : INFO : PROGRESS: at sentence #60000, processed 500954 words, keeping 20072 word types\n",
      "2017-05-28 10:04:05,927 : INFO : collected 22466 word types from a corpus of 582825 raw words and 69247 sentences\n",
      "2017-05-28 10:04:05,928 : INFO : Loading a fresh vocabulary\n",
      "2017-05-28 10:04:05,958 : INFO : min_count=40 retains 1600 unique words (7% of original 22466, drops 20866)\n",
      "2017-05-28 10:04:05,959 : INFO : min_count=40 leaves 509029 word corpus (87% of original 582825, drops 73796)\n",
      "2017-05-28 10:04:05,968 : INFO : deleting the raw counts dictionary of 22466 items\n",
      "2017-05-28 10:04:05,972 : INFO : sample=0.001 downsamples 76 most-common words\n",
      "2017-05-28 10:04:05,973 : INFO : downsampling leaves estimated 414969 word corpus (81.5% of prior 509029)\n",
      "2017-05-28 10:04:05,974 : INFO : estimated required memory for 1600 words and 300 dimensions: 4640000 bytes\n",
      "2017-05-28 10:04:05,985 : INFO : resetting layer weights\n",
      "2017-05-28 10:04:06,033 : INFO : training model with 4 workers on 1600 vocabulary and 300 features, using sg=0 hs=0 sample=0.001 negative=5 window=10\n",
      "2017-05-28 10:04:07,040 : INFO : PROGRESS: at 27.03% examples, 549903 words/s, in_qsize 8, out_qsize 0\n",
      "2017-05-28 10:04:08,049 : INFO : PROGRESS: at 57.74% examples, 591985 words/s, in_qsize 8, out_qsize 0\n",
      "2017-05-28 10:04:09,056 : INFO : PROGRESS: at 88.44% examples, 604423 words/s, in_qsize 7, out_qsize 1\n",
      "2017-05-28 10:04:09,424 : INFO : worker thread finished; awaiting finish of 3 more threads\n",
      "2017-05-28 10:04:09,430 : INFO : worker thread finished; awaiting finish of 2 more threads\n",
      "2017-05-28 10:04:09,435 : INFO : worker thread finished; awaiting finish of 1 more threads\n",
      "2017-05-28 10:04:09,441 : INFO : worker thread finished; awaiting finish of 0 more threads\n",
      "2017-05-28 10:04:09,444 : INFO : training on 2914125 raw words (2074461 effective words) took 3.4s, 608915 effective words/s\n",
      "2017-05-28 10:04:09,446 : INFO : precomputing L2-norms of word weight vectors\n",
      "2017-05-28 10:04:09,480 : INFO : saving Word2Vec object under model_and_visualization/300features_40minwords_10context, separately None\n",
      "2017-05-28 10:04:09,481 : INFO : not storing attribute syn0norm\n",
      "2017-05-28 10:04:09,482 : INFO : not storing attribute cum_table\n",
      "2017-05-28 10:04:09,552 : INFO : saved model_and_visualization/300features_40minwords_10context\n"
     ]
    },
    {
     "name": "stdout",
     "output_type": "stream",
     "text": [
      "Kappa:  0.93698262614\n",
      "Performing sentence and word tokenizing which will be used for word2vec\n"
     ]
    },
    {
     "name": "stderr",
     "output_type": "stream",
     "text": [
      "2017-05-28 10:04:30,029 : INFO : collecting all words and their counts\n",
      "2017-05-28 10:04:30,030 : INFO : PROGRESS: at sentence #0, processed 0 words, keeping 0 word types\n",
      "2017-05-28 10:04:30,061 : INFO : PROGRESS: at sentence #10000, processed 81069 words, keeping 6954 word types\n",
      "2017-05-28 10:04:30,090 : INFO : PROGRESS: at sentence #20000, processed 161120 words, keeping 10322 word types\n",
      "2017-05-28 10:04:30,120 : INFO : PROGRESS: at sentence #30000, processed 241239 words, keeping 12929 word types\n",
      "2017-05-28 10:04:30,151 : INFO : PROGRESS: at sentence #40000, processed 326470 words, keeping 15745 word types\n",
      "2017-05-28 10:04:30,186 : INFO : PROGRESS: at sentence #50000, processed 412758 words, keeping 18021 word types\n",
      "2017-05-28 10:04:30,214 : INFO : PROGRESS: at sentence #60000, processed 497977 words, keeping 19929 word types\n",
      "2017-05-28 10:04:30,247 : INFO : PROGRESS: at sentence #70000, processed 586725 words, keeping 22439 word types\n",
      "2017-05-28 10:04:30,251 : INFO : collected 22486 word types from a corpus of 589716 raw words and 70353 sentences\n",
      "2017-05-28 10:04:30,252 : INFO : Loading a fresh vocabulary\n",
      "2017-05-28 10:04:30,276 : INFO : min_count=40 retains 1591 unique words (7% of original 22486, drops 20895)\n",
      "2017-05-28 10:04:30,277 : INFO : min_count=40 leaves 514994 word corpus (87% of original 589716, drops 74722)\n",
      "2017-05-28 10:04:30,288 : INFO : deleting the raw counts dictionary of 22486 items\n",
      "2017-05-28 10:04:30,290 : INFO : sample=0.001 downsamples 75 most-common words\n",
      "2017-05-28 10:04:30,292 : INFO : downsampling leaves estimated 420050 word corpus (81.6% of prior 514994)\n",
      "2017-05-28 10:04:30,293 : INFO : estimated required memory for 1591 words and 300 dimensions: 4613900 bytes\n",
      "2017-05-28 10:04:30,302 : INFO : resetting layer weights\n",
      "2017-05-28 10:04:30,338 : INFO : training model with 4 workers on 1591 vocabulary and 300 features, using sg=0 hs=0 sample=0.001 negative=5 window=10\n",
      "2017-05-28 10:04:31,361 : INFO : PROGRESS: at 25.64% examples, 527175 words/s, in_qsize 7, out_qsize 0\n",
      "2017-05-28 10:04:32,373 : INFO : PROGRESS: at 51.79% examples, 532005 words/s, in_qsize 8, out_qsize 0\n",
      "2017-05-28 10:04:33,382 : INFO : PROGRESS: at 79.36% examples, 548544 words/s, in_qsize 8, out_qsize 0\n",
      "2017-05-28 10:04:34,054 : INFO : worker thread finished; awaiting finish of 3 more threads\n",
      "2017-05-28 10:04:34,066 : INFO : worker thread finished; awaiting finish of 2 more threads\n",
      "2017-05-28 10:04:34,074 : INFO : worker thread finished; awaiting finish of 1 more threads\n",
      "2017-05-28 10:04:34,086 : INFO : worker thread finished; awaiting finish of 0 more threads\n",
      "2017-05-28 10:04:34,086 : INFO : training on 2948580 raw words (2100815 effective words) took 3.7s, 561705 effective words/s\n",
      "2017-05-28 10:04:34,088 : INFO : precomputing L2-norms of word weight vectors\n",
      "2017-05-28 10:04:34,112 : INFO : saving Word2Vec object under model_and_visualization/300features_40minwords_10context, separately None\n",
      "2017-05-28 10:04:34,113 : INFO : not storing attribute syn0norm\n",
      "2017-05-28 10:04:34,114 : INFO : not storing attribute cum_table\n",
      "2017-05-28 10:04:34,153 : INFO : saved model_and_visualization/300features_40minwords_10context\n"
     ]
    },
    {
     "name": "stdout",
     "output_type": "stream",
     "text": [
      "Kappa:  0.936970210021\n",
      "Performing sentence and word tokenizing which will be used for word2vec\n"
     ]
    },
    {
     "name": "stderr",
     "output_type": "stream",
     "text": [
      "2017-05-28 10:04:56,748 : INFO : collecting all words and their counts\n",
      "2017-05-28 10:04:56,749 : INFO : PROGRESS: at sentence #0, processed 0 words, keeping 0 word types\n",
      "2017-05-28 10:04:56,780 : INFO : PROGRESS: at sentence #10000, processed 80555 words, keeping 6923 word types\n",
      "2017-05-28 10:04:56,805 : INFO : PROGRESS: at sentence #20000, processed 161810 words, keeping 10425 word types\n",
      "2017-05-28 10:04:56,834 : INFO : PROGRESS: at sentence #30000, processed 241288 words, keeping 12978 word types\n",
      "2017-05-28 10:04:56,877 : INFO : PROGRESS: at sentence #40000, processed 325818 words, keeping 15797 word types\n",
      "2017-05-28 10:04:56,908 : INFO : PROGRESS: at sentence #50000, processed 411148 words, keeping 18089 word types\n",
      "2017-05-28 10:04:56,941 : INFO : PROGRESS: at sentence #60000, processed 496264 words, keeping 19892 word types\n",
      "2017-05-28 10:04:56,976 : INFO : PROGRESS: at sentence #70000, processed 585436 words, keeping 22426 word types\n",
      "2017-05-28 10:04:56,979 : INFO : collected 22515 word types from a corpus of 589729 raw words and 70488 sentences\n",
      "2017-05-28 10:04:56,981 : INFO : Loading a fresh vocabulary\n",
      "2017-05-28 10:04:56,999 : INFO : min_count=40 retains 1592 unique words (7% of original 22515, drops 20923)\n",
      "2017-05-28 10:04:57,000 : INFO : min_count=40 leaves 515484 word corpus (87% of original 589729, drops 74245)\n",
      "2017-05-28 10:04:57,008 : INFO : deleting the raw counts dictionary of 22515 items\n",
      "2017-05-28 10:04:57,011 : INFO : sample=0.001 downsamples 74 most-common words\n",
      "2017-05-28 10:04:57,012 : INFO : downsampling leaves estimated 419728 word corpus (81.4% of prior 515484)\n",
      "2017-05-28 10:04:57,013 : INFO : estimated required memory for 1592 words and 300 dimensions: 4616800 bytes\n",
      "2017-05-28 10:04:57,020 : INFO : resetting layer weights\n",
      "2017-05-28 10:04:57,054 : INFO : training model with 4 workers on 1592 vocabulary and 300 features, using sg=0 hs=0 sample=0.001 negative=5 window=10\n",
      "2017-05-28 10:04:58,059 : INFO : PROGRESS: at 29.86% examples, 613330 words/s, in_qsize 8, out_qsize 0\n",
      "2017-05-28 10:04:59,060 : INFO : PROGRESS: at 60.02% examples, 628486 words/s, in_qsize 7, out_qsize 1\n",
      "2017-05-28 10:05:00,060 : INFO : PROGRESS: at 86.68% examples, 603133 words/s, in_qsize 8, out_qsize 0\n",
      "2017-05-28 10:05:00,452 : INFO : worker thread finished; awaiting finish of 3 more threads\n",
      "2017-05-28 10:05:00,464 : INFO : worker thread finished; awaiting finish of 2 more threads\n",
      "2017-05-28 10:05:00,468 : INFO : worker thread finished; awaiting finish of 1 more threads\n",
      "2017-05-28 10:05:00,479 : INFO : worker thread finished; awaiting finish of 0 more threads\n",
      "2017-05-28 10:05:00,480 : INFO : training on 2948645 raw words (2099069 effective words) took 3.4s, 613237 effective words/s\n",
      "2017-05-28 10:05:00,485 : INFO : precomputing L2-norms of word weight vectors\n",
      "2017-05-28 10:05:00,508 : INFO : saving Word2Vec object under model_and_visualization/300features_40minwords_10context, separately None\n",
      "2017-05-28 10:05:00,509 : INFO : not storing attribute syn0norm\n",
      "2017-05-28 10:05:00,510 : INFO : not storing attribute cum_table\n",
      "2017-05-28 10:05:00,579 : INFO : saved model_and_visualization/300features_40minwords_10context\n"
     ]
    },
    {
     "name": "stdout",
     "output_type": "stream",
     "text": [
      "Kappa:  0.931350323973\n",
      "Performing sentence and word tokenizing which will be used for word2vec\n"
     ]
    },
    {
     "name": "stderr",
     "output_type": "stream",
     "text": [
      "2017-05-28 10:05:21,296 : INFO : collecting all words and their counts\n",
      "2017-05-28 10:05:21,297 : INFO : PROGRESS: at sentence #0, processed 0 words, keeping 0 word types\n",
      "2017-05-28 10:05:21,328 : INFO : PROGRESS: at sentence #10000, processed 81278 words, keeping 7001 word types\n",
      "2017-05-28 10:05:21,358 : INFO : PROGRESS: at sentence #20000, processed 162316 words, keeping 10551 word types\n",
      "2017-05-28 10:05:21,388 : INFO : PROGRESS: at sentence #30000, processed 242245 words, keeping 13129 word types\n",
      "2017-05-28 10:05:21,419 : INFO : PROGRESS: at sentence #40000, processed 327673 words, keeping 15956 word types\n",
      "2017-05-28 10:05:21,450 : INFO : PROGRESS: at sentence #50000, processed 413933 words, keeping 18234 word types\n",
      "2017-05-28 10:05:21,496 : INFO : PROGRESS: at sentence #60000, processed 499504 words, keeping 20219 word types\n",
      "2017-05-28 10:05:21,545 : INFO : collected 22759 word types from a corpus of 586243 raw words and 69767 sentences\n",
      "2017-05-28 10:05:21,546 : INFO : Loading a fresh vocabulary\n",
      "2017-05-28 10:05:21,570 : INFO : min_count=40 retains 1591 unique words (6% of original 22759, drops 21168)\n",
      "2017-05-28 10:05:21,572 : INFO : min_count=40 leaves 511600 word corpus (87% of original 586243, drops 74643)\n",
      "2017-05-28 10:05:21,581 : INFO : deleting the raw counts dictionary of 22759 items\n",
      "2017-05-28 10:05:21,584 : INFO : sample=0.001 downsamples 78 most-common words\n",
      "2017-05-28 10:05:21,585 : INFO : downsampling leaves estimated 416999 word corpus (81.5% of prior 511600)\n",
      "2017-05-28 10:05:21,586 : INFO : estimated required memory for 1591 words and 300 dimensions: 4613900 bytes\n",
      "2017-05-28 10:05:21,594 : INFO : resetting layer weights\n",
      "2017-05-28 10:05:21,627 : INFO : training model with 4 workers on 1591 vocabulary and 300 features, using sg=0 hs=0 sample=0.001 negative=5 window=10\n",
      "2017-05-28 10:05:22,651 : INFO : PROGRESS: at 30.34% examples, 615094 words/s, in_qsize 8, out_qsize 0\n",
      "2017-05-28 10:05:23,655 : INFO : PROGRESS: at 55.77% examples, 573238 words/s, in_qsize 7, out_qsize 0\n",
      "2017-05-28 10:05:24,662 : INFO : PROGRESS: at 85.78% examples, 589891 words/s, in_qsize 8, out_qsize 0\n",
      "2017-05-28 10:05:25,098 : INFO : worker thread finished; awaiting finish of 3 more threads\n",
      "2017-05-28 10:05:25,100 : INFO : worker thread finished; awaiting finish of 2 more threads\n",
      "2017-05-28 10:05:25,113 : INFO : worker thread finished; awaiting finish of 1 more threads\n",
      "2017-05-28 10:05:25,117 : INFO : worker thread finished; awaiting finish of 0 more threads\n",
      "2017-05-28 10:05:25,118 : INFO : training on 2931215 raw words (2085234 effective words) took 3.5s, 599793 effective words/s\n",
      "2017-05-28 10:05:25,120 : INFO : precomputing L2-norms of word weight vectors\n",
      "2017-05-28 10:05:25,138 : INFO : saving Word2Vec object under model_and_visualization/300features_40minwords_10context, separately None\n",
      "2017-05-28 10:05:25,139 : INFO : not storing attribute syn0norm\n",
      "2017-05-28 10:05:25,141 : INFO : not storing attribute cum_table\n",
      "2017-05-28 10:05:25,181 : INFO : saved model_and_visualization/300features_40minwords_10context\n"
     ]
    },
    {
     "name": "stdout",
     "output_type": "stream",
     "text": [
      "Kappa:  0.940922984596\n",
      "Performing sentence and word tokenizing which will be used for word2vec\n"
     ]
    },
    {
     "name": "stderr",
     "output_type": "stream",
     "text": [
      "2017-05-28 10:05:45,026 : INFO : collecting all words and their counts\n",
      "2017-05-28 10:05:45,027 : INFO : PROGRESS: at sentence #0, processed 0 words, keeping 0 word types\n",
      "2017-05-28 10:05:45,057 : INFO : PROGRESS: at sentence #10000, processed 81395 words, keeping 6849 word types\n",
      "2017-05-28 10:05:45,087 : INFO : PROGRESS: at sentence #20000, processed 162584 words, keeping 10435 word types\n",
      "2017-05-28 10:05:45,116 : INFO : PROGRESS: at sentence #30000, processed 242052 words, keeping 12990 word types\n",
      "2017-05-28 10:05:45,143 : INFO : PROGRESS: at sentence #40000, processed 327416 words, keeping 15819 word types\n",
      "2017-05-28 10:05:45,174 : INFO : PROGRESS: at sentence #50000, processed 413404 words, keeping 18070 word types\n",
      "2017-05-28 10:05:45,200 : INFO : PROGRESS: at sentence #60000, processed 499400 words, keeping 19884 word types\n",
      "2017-05-28 10:05:45,233 : INFO : PROGRESS: at sentence #70000, processed 587664 words, keeping 22367 word types\n",
      "2017-05-28 10:05:45,236 : INFO : collected 22412 word types from a corpus of 589495 raw words and 70193 sentences\n",
      "2017-05-28 10:05:45,237 : INFO : Loading a fresh vocabulary\n",
      "2017-05-28 10:05:45,265 : INFO : min_count=40 retains 1594 unique words (7% of original 22412, drops 20818)\n",
      "2017-05-28 10:05:45,266 : INFO : min_count=40 leaves 515026 word corpus (87% of original 589495, drops 74469)\n",
      "2017-05-28 10:05:45,275 : INFO : deleting the raw counts dictionary of 22412 items\n",
      "2017-05-28 10:05:45,278 : INFO : sample=0.001 downsamples 77 most-common words\n",
      "2017-05-28 10:05:45,279 : INFO : downsampling leaves estimated 419436 word corpus (81.4% of prior 515026)\n",
      "2017-05-28 10:05:45,280 : INFO : estimated required memory for 1594 words and 300 dimensions: 4622600 bytes\n",
      "2017-05-28 10:05:45,287 : INFO : resetting layer weights\n",
      "2017-05-28 10:05:45,320 : INFO : training model with 4 workers on 1594 vocabulary and 300 features, using sg=0 hs=0 sample=0.001 negative=5 window=10\n",
      "2017-05-28 10:05:46,342 : INFO : PROGRESS: at 30.50% examples, 621851 words/s, in_qsize 8, out_qsize 0\n",
      "2017-05-28 10:05:47,357 : INFO : PROGRESS: at 61.79% examples, 638466 words/s, in_qsize 7, out_qsize 0\n",
      "2017-05-28 10:05:48,363 : INFO : PROGRESS: at 92.80% examples, 638793 words/s, in_qsize 8, out_qsize 0\n",
      "2017-05-28 10:05:48,555 : INFO : worker thread finished; awaiting finish of 3 more threads\n",
      "2017-05-28 10:05:48,576 : INFO : worker thread finished; awaiting finish of 2 more threads\n",
      "2017-05-28 10:05:48,577 : INFO : worker thread finished; awaiting finish of 1 more threads\n",
      "2017-05-28 10:05:48,581 : INFO : worker thread finished; awaiting finish of 0 more threads\n",
      "2017-05-28 10:05:48,582 : INFO : training on 2947475 raw words (2096720 effective words) took 3.3s, 644914 effective words/s\n",
      "2017-05-28 10:05:48,584 : INFO : precomputing L2-norms of word weight vectors\n",
      "2017-05-28 10:05:48,602 : INFO : saving Word2Vec object under model_and_visualization/300features_40minwords_10context, separately None\n",
      "2017-05-28 10:05:48,604 : INFO : not storing attribute syn0norm\n",
      "2017-05-28 10:05:48,605 : INFO : not storing attribute cum_table\n",
      "2017-05-28 10:05:48,644 : INFO : saved model_and_visualization/300features_40minwords_10context\n"
     ]
    },
    {
     "name": "stdout",
     "output_type": "stream",
     "text": [
      "Kappa:  0.930544411248\n"
     ]
    }
   ],
   "source": [
    "#Training with Word2Vec\n",
    "cv = cross_validation.KFold(len(X_all), n_folds=5,shuffle=True)\n",
    "results = []\n",
    "\n",
    "for traincv, testcv in cv:\n",
    "        X_test, X_train, y_test, y_train = X_all.iloc[testcv], X_all.iloc[traincv], y_all.iloc[testcv], y_all.iloc[traincv]\n",
    "                \n",
    "        train_essays = X_train['essay']\n",
    "        test_essays = X_test['essay']\n",
    "        #print essays\n",
    "        sentences = []\n",
    "\n",
    "        print (\"Performing sentence and word tokenizing which will be used for word2vec\")\n",
    "\n",
    "        for essay in train_essays:\n",
    "            sentences += helper.essay_to_sentences(unicode(essay,\"utf-8\",errors='ignore'), remove_stopwords = True)\n",
    "\n",
    "        logging.basicConfig(format='%(asctime)s : %(levelname)s : %(message)s', level=logging.INFO)\n",
    "\n",
    "        num_features = 300 \n",
    "        min_word_count = 40\n",
    "        num_workers = 4\n",
    "        context = 10\n",
    "        downsampling = 1e-3\n",
    "\n",
    "        #print (\"Training w2v model...\") \n",
    "        model = word2vec.Word2Vec(sentences, workers=num_workers, size=num_features, min_count = min_word_count, window = context, sample = downsampling)\n",
    "\n",
    "        model.init_sims(replace=True)\n",
    "\n",
    "        model_name = \"model_and_visualization/300features_40minwords_10context\"\n",
    "        model.save(model_name)\n",
    "\n",
    "        #print (\"Creating average feature vecs for Training Essays\")\n",
    "        clean_train_essays = []\n",
    "      \n",
    "        for essay_v in train_essays:\n",
    "            clean_train_essays.append( helper.essay_to_wordlist( essay_v, remove_stopwords=True ))\n",
    "        trainDataVecs = helper.getAvgFeatureVecs( clean_train_essays, model, num_features )\n",
    "        \n",
    "        clean_test_essays = []\n",
    "        for essay_v in test_essays:\n",
    "            clean_test_essays.append( helper.essay_to_wordlist( essay_v, remove_stopwords=True ))\n",
    "        testDataVecs = helper.getAvgFeatureVecs( clean_test_essays, model, num_features )\n",
    "        \n",
    "        #print(\"Done\")\n",
    "\n",
    "        myOwnTrainFeatureVec = np.array(X_train[selected_features])\n",
    "        myOwnTestFeatureVec = np.array(X_test[selected_features])\n",
    "        \n",
    "        trainDataVecs = np.concatenate((trainDataVecs,myOwnTrainFeatureVec),1)\n",
    "        testDataVecs = np.concatenate((testDataVecs,myOwnTestFeatureVec),1)\n",
    "        \n",
    "        learning_model =  LinearRegression(normalize=True)\n",
    "        learning_model.fit(trainDataVecs,y_train)\n",
    "        start = time()\n",
    "        y_pred = learning_model.predict(testDataVecs)\n",
    "        end = time()\n",
    "\n",
    "        #print (\"Made predictions in {:.4f} seconds.\".format(end - start))\n",
    "        result = kappa(y_test.values,np.around(y_pred,decimals=2),weights='quadratic')\n",
    "        print \"Kappa: \", result\n",
    "        results.append(result)"
   ]
  },
  {
   "cell_type": "code",
   "execution_count": 40,
   "metadata": {
    "collapsed": false
   },
   "outputs": [
    {
     "name": "stdout",
     "output_type": "stream",
     "text": [
      "Average Kappa score after a 5-fold cross validation with Word2Vec and custom generated heuristic features is  0.9354\n"
     ]
    }
   ],
   "source": [
    "print \"Average Kappa score after a 5-fold cross validation with Word2Vec and custom generated heuristic features is \",np.around(np.array(results).mean(),decimals=4)"
   ]
  },
  {
   "cell_type": "code",
   "execution_count": 15,
   "metadata": {
    "collapsed": false
   },
   "outputs": [
    {
     "name": "stdout",
     "output_type": "stream",
     "text": [
      "Performing sentence and word tokenizing which will be used for word2vec\n"
     ]
    },
    {
     "name": "stderr",
     "output_type": "stream",
     "text": [
      "2017-05-26 17:23:11,470 : INFO : collecting all words and their counts\n",
      "2017-05-26 17:23:11,471 : INFO : PROGRESS: at sentence #0, processed 0 words, keeping 0 word types\n",
      "2017-05-26 17:23:11,502 : INFO : PROGRESS: at sentence #10000, processed 81054 words, keeping 6901 word types\n",
      "2017-05-26 17:23:11,532 : INFO : PROGRESS: at sentence #20000, processed 162125 words, keeping 10461 word types\n",
      "2017-05-26 17:23:11,561 : INFO : PROGRESS: at sentence #30000, processed 241834 words, keeping 13040 word types\n",
      "2017-05-26 17:23:11,591 : INFO : PROGRESS: at sentence #40000, processed 327086 words, keeping 15820 word types\n",
      "2017-05-26 17:23:11,630 : INFO : PROGRESS: at sentence #50000, processed 413199 words, keeping 18031 word types\n",
      "2017-05-26 17:23:11,671 : INFO : PROGRESS: at sentence #60000, processed 498407 words, keeping 19935 word types\n",
      "2017-05-26 17:23:11,717 : INFO : collected 22433 word types from a corpus of 585531 raw words and 69779 sentences\n",
      "2017-05-26 17:23:11,718 : INFO : Loading a fresh vocabulary\n",
      "2017-05-26 17:23:11,747 : INFO : min_count=40 retains 1598 unique words (7% of original 22433, drops 20835)\n",
      "2017-05-26 17:23:11,748 : INFO : min_count=40 leaves 511583 word corpus (87% of original 585531, drops 73948)\n",
      "2017-05-26 17:23:11,757 : INFO : deleting the raw counts dictionary of 22433 items\n",
      "2017-05-26 17:23:11,759 : INFO : sample=0.001 downsamples 76 most-common words\n",
      "2017-05-26 17:23:11,760 : INFO : downsampling leaves estimated 417154 word corpus (81.5% of prior 511583)\n",
      "2017-05-26 17:23:11,761 : INFO : estimated required memory for 1598 words and 300 dimensions: 4634200 bytes\n",
      "2017-05-26 17:23:11,769 : INFO : resetting layer weights\n",
      "2017-05-26 17:23:11,802 : INFO : training model with 4 workers on 1598 vocabulary and 300 features, using sg=0 hs=0 sample=0.001 negative=5 window=10\n",
      "2017-05-26 17:23:12,814 : INFO : PROGRESS: at 18.54% examples, 381871 words/s, in_qsize 8, out_qsize 0\n",
      "2017-05-26 17:23:13,821 : INFO : PROGRESS: at 42.75% examples, 443084 words/s, in_qsize 8, out_qsize 0\n",
      "2017-05-26 17:23:14,835 : INFO : PROGRESS: at 68.96% examples, 472653 words/s, in_qsize 7, out_qsize 0\n",
      "2017-05-26 17:23:15,846 : INFO : PROGRESS: at 90.12% examples, 463609 words/s, in_qsize 8, out_qsize 1\n",
      "2017-05-26 17:23:16,324 : INFO : worker thread finished; awaiting finish of 3 more threads\n",
      "2017-05-26 17:23:16,330 : INFO : worker thread finished; awaiting finish of 2 more threads\n",
      "2017-05-26 17:23:16,349 : INFO : worker thread finished; awaiting finish of 1 more threads\n",
      "2017-05-26 17:23:16,359 : INFO : worker thread finished; awaiting finish of 0 more threads\n",
      "2017-05-26 17:23:16,361 : INFO : training on 2927655 raw words (2086709 effective words) took 4.5s, 458913 effective words/s\n",
      "2017-05-26 17:23:16,363 : INFO : precomputing L2-norms of word weight vectors\n",
      "2017-05-26 17:23:16,395 : INFO : saving Word2Vec object under model_and_visualization/300features_40minwords_10context, separately None\n",
      "2017-05-26 17:23:16,396 : INFO : not storing attribute syn0norm\n",
      "2017-05-26 17:23:16,397 : INFO : not storing attribute cum_table\n",
      "2017-05-26 17:23:16,471 : INFO : saved model_and_visualization/300features_40minwords_10context\n"
     ]
    },
    {
     "name": "stdout",
     "output_type": "stream",
     "text": [
      "Kappa:  0.0\n",
      "Performing sentence and word tokenizing which will be used for word2vec\n"
     ]
    },
    {
     "name": "stderr",
     "output_type": "stream",
     "text": [
      "2017-05-26 17:23:39,959 : INFO : collecting all words and their counts\n",
      "2017-05-26 17:23:39,960 : INFO : PROGRESS: at sentence #0, processed 0 words, keeping 0 word types\n",
      "2017-05-26 17:23:39,990 : INFO : PROGRESS: at sentence #10000, processed 81042 words, keeping 6946 word types\n",
      "2017-05-26 17:23:40,020 : INFO : PROGRESS: at sentence #20000, processed 162283 words, keeping 10404 word types\n",
      "2017-05-26 17:23:40,048 : INFO : PROGRESS: at sentence #30000, processed 242488 words, keeping 12939 word types\n",
      "2017-05-26 17:23:40,079 : INFO : PROGRESS: at sentence #40000, processed 327179 words, keeping 15833 word types\n",
      "2017-05-26 17:23:40,108 : INFO : PROGRESS: at sentence #50000, processed 413713 words, keeping 18127 word types\n",
      "2017-05-26 17:23:40,140 : INFO : PROGRESS: at sentence #60000, processed 498886 words, keeping 20004 word types\n",
      "2017-05-26 17:23:40,172 : INFO : PROGRESS: at sentence #70000, processed 587115 words, keeping 22468 word types\n",
      "2017-05-26 17:23:40,176 : INFO : collected 22524 word types from a corpus of 589544 raw words and 70279 sentences\n",
      "2017-05-26 17:23:40,177 : INFO : Loading a fresh vocabulary\n",
      "2017-05-26 17:23:40,201 : INFO : min_count=40 retains 1601 unique words (7% of original 22524, drops 20923)\n",
      "2017-05-26 17:23:40,203 : INFO : min_count=40 leaves 515085 word corpus (87% of original 589544, drops 74459)\n",
      "2017-05-26 17:23:40,215 : INFO : deleting the raw counts dictionary of 22524 items\n",
      "2017-05-26 17:23:40,217 : INFO : sample=0.001 downsamples 74 most-common words\n",
      "2017-05-26 17:23:40,218 : INFO : downsampling leaves estimated 420330 word corpus (81.6% of prior 515085)\n",
      "2017-05-26 17:23:40,219 : INFO : estimated required memory for 1601 words and 300 dimensions: 4642900 bytes\n",
      "2017-05-26 17:23:40,231 : INFO : resetting layer weights\n",
      "2017-05-26 17:23:40,285 : INFO : training model with 4 workers on 1601 vocabulary and 300 features, using sg=0 hs=0 sample=0.001 negative=5 window=10\n",
      "2017-05-26 17:23:41,467 : INFO : PROGRESS: at 24.92% examples, 513625 words/s, in_qsize 8, out_qsize 0\n",
      "2017-05-26 17:23:42,484 : INFO : PROGRESS: at 45.96% examples, 473693 words/s, in_qsize 8, out_qsize 0\n",
      "2017-05-26 17:23:43,496 : INFO : PROGRESS: at 75.80% examples, 522083 words/s, in_qsize 8, out_qsize 0\n",
      "2017-05-26 17:23:44,458 : INFO : worker thread finished; awaiting finish of 3 more threads\n",
      "2017-05-26 17:23:44,470 : INFO : worker thread finished; awaiting finish of 2 more threads\n",
      "2017-05-26 17:23:44,472 : INFO : worker thread finished; awaiting finish of 1 more threads\n",
      "2017-05-26 17:23:44,482 : INFO : worker thread finished; awaiting finish of 0 more threads\n",
      "2017-05-26 17:23:44,483 : INFO : training on 2947720 raw words (2102949 effective words) took 4.0s, 522629 effective words/s\n",
      "2017-05-26 17:23:44,485 : INFO : precomputing L2-norms of word weight vectors\n",
      "2017-05-26 17:23:44,504 : INFO : saving Word2Vec object under model_and_visualization/300features_40minwords_10context, separately None\n",
      "2017-05-26 17:23:44,505 : INFO : not storing attribute syn0norm\n",
      "2017-05-26 17:23:44,507 : INFO : not storing attribute cum_table\n",
      "2017-05-26 17:23:44,550 : INFO : saved model_and_visualization/300features_40minwords_10context\n"
     ]
    },
    {
     "name": "stdout",
     "output_type": "stream",
     "text": [
      "Kappa:  0.0\n",
      "Performing sentence and word tokenizing which will be used for word2vec\n"
     ]
    },
    {
     "name": "stderr",
     "output_type": "stream",
     "text": [
      "2017-05-26 17:24:06,774 : INFO : collecting all words and their counts\n",
      "2017-05-26 17:24:06,775 : INFO : PROGRESS: at sentence #0, processed 0 words, keeping 0 word types\n",
      "2017-05-26 17:24:06,804 : INFO : PROGRESS: at sentence #10000, processed 80930 words, keeping 6928 word types\n",
      "2017-05-26 17:24:06,833 : INFO : PROGRESS: at sentence #20000, processed 161321 words, keeping 10399 word types\n",
      "2017-05-26 17:24:06,874 : INFO : PROGRESS: at sentence #30000, processed 241035 words, keeping 12930 word types\n",
      "2017-05-26 17:24:06,918 : INFO : PROGRESS: at sentence #40000, processed 326630 words, keeping 15757 word types\n",
      "2017-05-26 17:24:06,953 : INFO : PROGRESS: at sentence #50000, processed 412616 words, keeping 18094 word types\n",
      "2017-05-26 17:24:06,999 : INFO : PROGRESS: at sentence #60000, processed 498839 words, keeping 20017 word types\n",
      "2017-05-26 17:24:07,047 : INFO : collected 22507 word types from a corpus of 586580 raw words and 69892 sentences\n",
      "2017-05-26 17:24:07,048 : INFO : Loading a fresh vocabulary\n",
      "2017-05-26 17:24:07,077 : INFO : min_count=40 retains 1600 unique words (7% of original 22507, drops 20907)\n",
      "2017-05-26 17:24:07,079 : INFO : min_count=40 leaves 512957 word corpus (87% of original 586580, drops 73623)\n",
      "2017-05-26 17:24:07,089 : INFO : deleting the raw counts dictionary of 22507 items\n",
      "2017-05-26 17:24:07,093 : INFO : sample=0.001 downsamples 76 most-common words\n",
      "2017-05-26 17:24:07,094 : INFO : downsampling leaves estimated 418194 word corpus (81.5% of prior 512957)\n",
      "2017-05-26 17:24:07,096 : INFO : estimated required memory for 1600 words and 300 dimensions: 4640000 bytes\n",
      "2017-05-26 17:24:07,105 : INFO : resetting layer weights\n",
      "2017-05-26 17:24:07,140 : INFO : training model with 4 workers on 1600 vocabulary and 300 features, using sg=0 hs=0 sample=0.001 negative=5 window=10\n",
      "2017-05-26 17:24:08,157 : INFO : PROGRESS: at 24.01% examples, 492970 words/s, in_qsize 6, out_qsize 1\n",
      "2017-05-26 17:24:09,161 : INFO : PROGRESS: at 51.43% examples, 529113 words/s, in_qsize 8, out_qsize 0\n",
      "2017-05-26 17:24:10,183 : INFO : PROGRESS: at 70.55% examples, 482543 words/s, in_qsize 8, out_qsize 0\n",
      "2017-05-26 17:24:11,187 : INFO : PROGRESS: at 91.64% examples, 472128 words/s, in_qsize 8, out_qsize 0\n",
      "2017-05-26 17:24:11,580 : INFO : worker thread finished; awaiting finish of 3 more threads\n",
      "2017-05-26 17:24:11,594 : INFO : worker thread finished; awaiting finish of 2 more threads\n",
      "2017-05-26 17:24:11,600 : INFO : worker thread finished; awaiting finish of 1 more threads\n",
      "2017-05-26 17:24:11,609 : INFO : worker thread finished; awaiting finish of 0 more threads\n",
      "2017-05-26 17:24:11,610 : INFO : training on 2932900 raw words (2091654 effective words) took 4.5s, 468889 effective words/s\n",
      "2017-05-26 17:24:11,611 : INFO : precomputing L2-norms of word weight vectors\n",
      "2017-05-26 17:24:11,632 : INFO : saving Word2Vec object under model_and_visualization/300features_40minwords_10context, separately None\n",
      "2017-05-26 17:24:11,633 : INFO : not storing attribute syn0norm\n",
      "2017-05-26 17:24:11,634 : INFO : not storing attribute cum_table\n",
      "2017-05-26 17:24:11,684 : INFO : saved model_and_visualization/300features_40minwords_10context\n"
     ]
    },
    {
     "name": "stdout",
     "output_type": "stream",
     "text": [
      "Kappa:  0.0\n",
      "Performing sentence and word tokenizing which will be used for word2vec\n"
     ]
    },
    {
     "name": "stderr",
     "output_type": "stream",
     "text": [
      "2017-05-26 17:24:35,017 : INFO : collecting all words and their counts\n",
      "2017-05-26 17:24:35,018 : INFO : PROGRESS: at sentence #0, processed 0 words, keeping 0 word types\n",
      "2017-05-26 17:24:35,050 : INFO : PROGRESS: at sentence #10000, processed 82099 words, keeping 7027 word types\n",
      "2017-05-26 17:24:35,080 : INFO : PROGRESS: at sentence #20000, processed 162841 words, keeping 10498 word types\n",
      "2017-05-26 17:24:35,109 : INFO : PROGRESS: at sentence #30000, processed 242935 words, keeping 13074 word types\n",
      "2017-05-26 17:24:35,139 : INFO : PROGRESS: at sentence #40000, processed 327964 words, keeping 15880 word types\n",
      "2017-05-26 17:24:35,169 : INFO : PROGRESS: at sentence #50000, processed 413374 words, keeping 18102 word types\n",
      "2017-05-26 17:24:35,202 : INFO : PROGRESS: at sentence #60000, processed 499310 words, keeping 20065 word types\n",
      "2017-05-26 17:24:35,233 : INFO : collected 22549 word types from a corpus of 586258 raw words and 69753 sentences\n",
      "2017-05-26 17:24:35,234 : INFO : Loading a fresh vocabulary\n",
      "2017-05-26 17:24:35,266 : INFO : min_count=40 retains 1588 unique words (7% of original 22549, drops 20961)\n",
      "2017-05-26 17:24:35,267 : INFO : min_count=40 leaves 511811 word corpus (87% of original 586258, drops 74447)\n",
      "2017-05-26 17:24:35,281 : INFO : deleting the raw counts dictionary of 22549 items\n",
      "2017-05-26 17:24:35,283 : INFO : sample=0.001 downsamples 76 most-common words\n",
      "2017-05-26 17:24:35,285 : INFO : downsampling leaves estimated 416868 word corpus (81.4% of prior 511811)\n",
      "2017-05-26 17:24:35,286 : INFO : estimated required memory for 1588 words and 300 dimensions: 4605200 bytes\n",
      "2017-05-26 17:24:35,296 : INFO : resetting layer weights\n",
      "2017-05-26 17:24:35,350 : INFO : training model with 4 workers on 1588 vocabulary and 300 features, using sg=0 hs=0 sample=0.001 negative=5 window=10\n",
      "2017-05-26 17:24:36,360 : INFO : PROGRESS: at 18.16% examples, 371834 words/s, in_qsize 7, out_qsize 0\n",
      "2017-05-26 17:24:37,387 : INFO : PROGRESS: at 39.26% examples, 401712 words/s, in_qsize 8, out_qsize 0\n",
      "2017-05-26 17:24:38,395 : INFO : PROGRESS: at 60.35% examples, 413752 words/s, in_qsize 8, out_qsize 0\n",
      "2017-05-26 17:24:39,421 : INFO : PROGRESS: at 81.21% examples, 417202 words/s, in_qsize 6, out_qsize 2\n",
      "2017-05-26 17:24:40,313 : INFO : worker thread finished; awaiting finish of 3 more threads\n",
      "2017-05-26 17:24:40,321 : INFO : worker thread finished; awaiting finish of 2 more threads\n",
      "2017-05-26 17:24:40,326 : INFO : worker thread finished; awaiting finish of 1 more threads\n",
      "2017-05-26 17:24:40,331 : INFO : worker thread finished; awaiting finish of 0 more threads\n",
      "2017-05-26 17:24:40,336 : INFO : training on 2931290 raw words (2084507 effective words) took 5.0s, 418484 effective words/s\n",
      "2017-05-26 17:24:40,339 : INFO : precomputing L2-norms of word weight vectors\n",
      "2017-05-26 17:24:40,370 : INFO : saving Word2Vec object under model_and_visualization/300features_40minwords_10context, separately None\n",
      "2017-05-26 17:24:40,373 : INFO : not storing attribute syn0norm\n",
      "2017-05-26 17:24:40,375 : INFO : not storing attribute cum_table\n",
      "2017-05-26 17:24:40,433 : INFO : saved model_and_visualization/300features_40minwords_10context\n"
     ]
    },
    {
     "name": "stdout",
     "output_type": "stream",
     "text": [
      "Kappa:  0.0\n",
      "Performing sentence and word tokenizing which will be used for word2vec\n"
     ]
    },
    {
     "name": "stderr",
     "output_type": "stream",
     "text": [
      "2017-05-26 17:25:02,482 : INFO : collecting all words and their counts\n",
      "2017-05-26 17:25:02,483 : INFO : PROGRESS: at sentence #0, processed 0 words, keeping 0 word types\n",
      "2017-05-26 17:25:02,513 : INFO : PROGRESS: at sentence #10000, processed 80636 words, keeping 6931 word types\n",
      "2017-05-26 17:25:02,552 : INFO : PROGRESS: at sentence #20000, processed 161474 words, keeping 10480 word types\n",
      "2017-05-26 17:25:02,580 : INFO : PROGRESS: at sentence #30000, processed 241640 words, keeping 13116 word types\n",
      "2017-05-26 17:25:02,630 : INFO : PROGRESS: at sentence #40000, processed 327264 words, keeping 15920 word types\n",
      "2017-05-26 17:25:02,665 : INFO : PROGRESS: at sentence #50000, processed 413484 words, keeping 18194 word types\n",
      "2017-05-26 17:25:02,709 : INFO : PROGRESS: at sentence #60000, processed 498655 words, keeping 20061 word types\n",
      "2017-05-26 17:25:02,750 : INFO : PROGRESS: at sentence #70000, processed 586983 words, keeping 22581 word types\n",
      "2017-05-26 17:25:02,756 : INFO : collected 22648 word types from a corpus of 590095 raw words and 70345 sentences\n",
      "2017-05-26 17:25:02,758 : INFO : Loading a fresh vocabulary\n",
      "2017-05-26 17:25:02,789 : INFO : min_count=40 retains 1591 unique words (7% of original 22648, drops 21057)\n",
      "2017-05-26 17:25:02,791 : INFO : min_count=40 leaves 515196 word corpus (87% of original 590095, drops 74899)\n",
      "2017-05-26 17:25:02,800 : INFO : deleting the raw counts dictionary of 22648 items\n",
      "2017-05-26 17:25:02,802 : INFO : sample=0.001 downsamples 75 most-common words\n",
      "2017-05-26 17:25:02,803 : INFO : downsampling leaves estimated 419240 word corpus (81.4% of prior 515196)\n",
      "2017-05-26 17:25:02,804 : INFO : estimated required memory for 1591 words and 300 dimensions: 4613900 bytes\n",
      "2017-05-26 17:25:02,814 : INFO : resetting layer weights\n",
      "2017-05-26 17:25:02,848 : INFO : training model with 4 workers on 1591 vocabulary and 300 features, using sg=0 hs=0 sample=0.001 negative=5 window=10\n",
      "2017-05-26 17:25:03,904 : INFO : PROGRESS: at 18.70% examples, 380169 words/s, in_qsize 8, out_qsize 0\n",
      "2017-05-26 17:25:04,908 : INFO : PROGRESS: at 42.45% examples, 437949 words/s, in_qsize 8, out_qsize 0\n",
      "2017-05-26 17:25:05,919 : INFO : PROGRESS: at 67.37% examples, 462090 words/s, in_qsize 8, out_qsize 0\n",
      "2017-05-26 17:25:06,919 : INFO : PROGRESS: at 88.77% examples, 458218 words/s, in_qsize 8, out_qsize 0\n",
      "2017-05-26 17:25:07,383 : INFO : worker thread finished; awaiting finish of 3 more threads\n",
      "2017-05-26 17:25:07,391 : INFO : worker thread finished; awaiting finish of 2 more threads\n",
      "2017-05-26 17:25:07,398 : INFO : worker thread finished; awaiting finish of 1 more threads\n",
      "2017-05-26 17:25:07,414 : INFO : worker thread finished; awaiting finish of 0 more threads\n",
      "2017-05-26 17:25:07,416 : INFO : training on 2950475 raw words (2096456 effective words) took 4.5s, 462573 effective words/s\n",
      "2017-05-26 17:25:07,417 : INFO : precomputing L2-norms of word weight vectors\n",
      "2017-05-26 17:25:07,450 : INFO : saving Word2Vec object under model_and_visualization/300features_40minwords_10context, separately None\n",
      "2017-05-26 17:25:07,451 : INFO : not storing attribute syn0norm\n",
      "2017-05-26 17:25:07,452 : INFO : not storing attribute cum_table\n",
      "2017-05-26 17:25:07,520 : INFO : saved model_and_visualization/300features_40minwords_10context\n"
     ]
    },
    {
     "name": "stdout",
     "output_type": "stream",
     "text": [
      "Kappa:  0.0\n"
     ]
    }
   ],
   "source": [
    "#Training with Word2Vec\n",
    "from sklearn.dummy import DummyRegressor\n",
    "cv = cross_validation.KFold(len(X_all), n_folds=5,shuffle=True)\n",
    "results = []\n",
    "\n",
    "for traincv, testcv in cv:\n",
    "        X_test, X_train, y_test, y_train = X_all.iloc[testcv], X_all.iloc[traincv], y_all.iloc[testcv], y_all.iloc[traincv]\n",
    "                \n",
    "        train_essays = X_train['essay']\n",
    "        test_essays = X_test['essay']\n",
    "        #print essays\n",
    "        sentences = []\n",
    "\n",
    "        print (\"Performing sentence and word tokenizing which will be used for word2vec\")\n",
    "\n",
    "        for essay in train_essays:\n",
    "            sentences += helper.essay_to_sentences(unicode(essay,\"utf-8\",errors='ignore'), remove_stopwords = True)\n",
    "\n",
    "        logging.basicConfig(format='%(asctime)s : %(levelname)s : %(message)s', level=logging.INFO)\n",
    "\n",
    "        num_features = 300 \n",
    "        min_word_count = 40\n",
    "        num_workers = 4\n",
    "        context = 10\n",
    "        downsampling = 1e-3\n",
    "\n",
    "        #print (\"Training w2v model...\") \n",
    "        model = word2vec.Word2Vec(sentences, workers=num_workers, size=num_features, min_count = min_word_count, window = context, sample = downsampling)\n",
    "\n",
    "        model.init_sims(replace=True)\n",
    "\n",
    "        model_name = \"model_and_visualization/300features_40minwords_10context\"\n",
    "        model.save(model_name)\n",
    "\n",
    "        #print (\"Creating average feature vecs for Training Essays\")\n",
    "        clean_train_essays = []\n",
    "      \n",
    "        for essay_v in train_essays:\n",
    "            clean_train_essays.append( helper.essay_to_wordlist( essay_v, remove_stopwords=True ))\n",
    "        trainDataVecs = helper.getAvgFeatureVecs( clean_train_essays, model, num_features )\n",
    "        \n",
    "        clean_test_essays = []\n",
    "        for essay_v in test_essays:\n",
    "            clean_test_essays.append( helper.essay_to_wordlist( essay_v, remove_stopwords=True ))\n",
    "        testDataVecs = helper.getAvgFeatureVecs( clean_test_essays, model, num_features )\n",
    "        \n",
    "        #print(\"Done\")\n",
    "\n",
    "        myOwnTrainFeatureVec = np.array(X_train[selected_features])\n",
    "        myOwnTestFeatureVec = np.array(X_test[selected_features])\n",
    "        \n",
    "        trainDataVecs = np.concatenate((trainDataVecs,myOwnTrainFeatureVec),1)\n",
    "        testDataVecs = np.concatenate((testDataVecs,myOwnTestFeatureVec),1)\n",
    "        \n",
    "        model =  DummyRegressor(strategy='median')\n",
    "        model.fit(trainDataVecs,y_train)\n",
    "        start = time()\n",
    "        y_pred = model.predict(testDataVecs)\n",
    "        end = time()\n",
    "\n",
    "        #print (\"Made predictions in {:.4f} seconds.\".format(end - start))\n",
    "        result = kappa(y_test.values,np.around(y_pred,decimals=2),weights='quadratic')\n",
    "        print \"Kappa: \", result\n",
    "        results.append(result)"
   ]
  },
  {
   "cell_type": "code",
   "execution_count": 61,
   "metadata": {
    "collapsed": false
   },
   "outputs": [
    {
     "name": "stderr",
     "output_type": "stream",
     "text": [
      "2017-05-28 10:23:22,541 : INFO : loading Word2Vec object from model_and_visualization/300features_40minwords_10context\n",
      "2017-05-28 10:23:22,555 : INFO : loading wv recursively from model_and_visualization/300features_40minwords_10context.wv.* with mmap=None\n",
      "2017-05-28 10:23:22,557 : INFO : setting ignored attribute syn0norm to None\n",
      "2017-05-28 10:23:22,559 : INFO : setting ignored attribute cum_table to None\n",
      "2017-05-28 10:23:22,560 : INFO : loaded model_and_visualization/300features_40minwords_10context\n"
     ]
    },
    {
     "name": "stdout",
     "output_type": "stream",
     "text": [
      "[[ 10.10977261]]\n",
      "[[ 4.84353856]]\n",
      "[[ 3.84366386]]\n"
     ]
    }
   ],
   "source": [
    "from gensim.models import Word2Vec\n",
    "model = Word2Vec.load('model_and_visualization/300features_40minwords_10context')\n",
    "\n",
    "def predictanessay(X,idx):\n",
    "    essay_v = X\n",
    "    sentences = []\n",
    "    sentences.append( helper.essay_to_wordlist( essay_v, remove_stopwords=True ))\n",
    "    testvec = helper.getAvgFeatureVecs( sentences, model, num_features )\n",
    "\n",
    "    myOwnfeatures = np.array(X_all[selected_features])[idx].reshape((1,15))\n",
    "    testvec = np.concatenate((testvec,myOwnfeatures),1)\n",
    "\n",
    "    return learning_model.predict(testvec)\n",
    "\n",
    "testessay1 = X_all['essay'][3]\n",
    "testessay2 = X_all['essay'][26]\n",
    "testessay3 = X_all['essay'][1118]\n",
    "print predictanessay(testessay1,3)\n",
    "print predictanessay(testessay2,26)\n",
    "print predictanessay(testessay3,1118)"
   ]
  }
 ],
 "metadata": {
  "kernelspec": {
   "display_name": "Python 2",
   "language": "python",
   "name": "python2"
  },
  "language_info": {
   "codemirror_mode": {
    "name": "ipython",
    "version": 2
   },
   "file_extension": ".py",
   "mimetype": "text/x-python",
   "name": "python",
   "nbconvert_exporter": "python",
   "pygments_lexer": "ipython2",
   "version": "2.7.13"
  }
 },
 "nbformat": 4,
 "nbformat_minor": 2
}
