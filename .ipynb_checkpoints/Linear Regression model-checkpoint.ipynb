{
 "cells": [
  {
   "cell_type": "code",
   "execution_count": 1,
   "metadata": {
    "collapsed": true
   },
   "outputs": [],
   "source": [
    "import sys\n",
    "sys.path.append('./utils')"
   ]
  },
  {
   "cell_type": "code",
   "execution_count": 2,
   "metadata": {
    "collapsed": false
   },
   "outputs": [
    {
     "name": "stderr",
     "output_type": "stream",
     "text": [
      "/home/alphamike/anaconda2/lib/python2.7/site-packages/sklearn/cross_validation.py:44: DeprecationWarning: This module was deprecated in version 0.18 in favor of the model_selection module into which all the refactored classes and functions are moved. Also note that the interface of the new CV iterators are different from that of this module. This module will be removed in 0.20.\n",
      "  \"This module will be removed in 0.20.\", DeprecationWarning)\n"
     ]
    }
   ],
   "source": [
    "#Imports\n",
    "from requirements import *\n",
    "import helperfunctions as helper"
   ]
  },
  {
   "cell_type": "code",
   "execution_count": 3,
   "metadata": {
    "collapsed": false
   },
   "outputs": [
    {
     "name": "stdout",
     "output_type": "stream",
     "text": [
      "5309\n",
      "5309\n"
     ]
    },
    {
     "data": {
      "text/html": [
       "<div>\n",
       "<table border=\"1\" class=\"dataframe\">\n",
       "  <thead>\n",
       "    <tr style=\"text-align: right;\">\n",
       "      <th></th>\n",
       "      <th>word_count</th>\n",
       "      <th>long_word_count</th>\n",
       "      <th>avg_word_length_per_essay</th>\n",
       "      <th>wrong_words</th>\n",
       "      <th>no_of_domain_words</th>\n",
       "      <th>word_to_sent_ratio</th>\n",
       "      <th>num_of_characters</th>\n",
       "      <th>sentence_count</th>\n",
       "      <th>noun_count</th>\n",
       "      <th>verb_count</th>\n",
       "      <th>comma_count</th>\n",
       "      <th>punctuation_count</th>\n",
       "      <th>adjective_count</th>\n",
       "      <th>adverb_count</th>\n",
       "      <th>quotation_mark_count</th>\n",
       "      <th>spelling_mistakes</th>\n",
       "    </tr>\n",
       "  </thead>\n",
       "  <tbody>\n",
       "    <tr>\n",
       "      <th>count</th>\n",
       "      <td>5309.000000</td>\n",
       "      <td>5309.000000</td>\n",
       "      <td>5309.000000</td>\n",
       "      <td>5309.000000</td>\n",
       "      <td>5309.000000</td>\n",
       "      <td>5309.000000</td>\n",
       "      <td>5309.000000</td>\n",
       "      <td>5309.000000</td>\n",
       "      <td>5309.000000</td>\n",
       "      <td>5309.000000</td>\n",
       "      <td>5309.000000</td>\n",
       "      <td>5309.000000</td>\n",
       "      <td>5309.000000</td>\n",
       "      <td>5309.000000</td>\n",
       "      <td>5309.000000</td>\n",
       "      <td>5309.000000</td>\n",
       "    </tr>\n",
       "    <tr>\n",
       "      <th>mean</th>\n",
       "      <td>197.338105</td>\n",
       "      <td>46.362403</td>\n",
       "      <td>4.835283</td>\n",
       "      <td>45.079299</td>\n",
       "      <td>152.258806</td>\n",
       "      <td>13.492121</td>\n",
       "      <td>1532.813147</td>\n",
       "      <td>16.187983</td>\n",
       "      <td>62.791109</td>\n",
       "      <td>38.644377</td>\n",
       "      <td>10.174421</td>\n",
       "      <td>16.768318</td>\n",
       "      <td>19.873422</td>\n",
       "      <td>13.729328</td>\n",
       "      <td>3.817856</td>\n",
       "      <td>3.368243</td>\n",
       "    </tr>\n",
       "    <tr>\n",
       "      <th>std</th>\n",
       "      <td>116.878512</td>\n",
       "      <td>31.073141</td>\n",
       "      <td>0.351803</td>\n",
       "      <td>28.413772</td>\n",
       "      <td>90.775007</td>\n",
       "      <td>7.727928</td>\n",
       "      <td>921.793079</td>\n",
       "      <td>10.379520</td>\n",
       "      <td>37.776345</td>\n",
       "      <td>24.916955</td>\n",
       "      <td>9.545103</td>\n",
       "      <td>13.659156</td>\n",
       "      <td>13.228023</td>\n",
       "      <td>10.068848</td>\n",
       "      <td>4.964016</td>\n",
       "      <td>3.747873</td>\n",
       "    </tr>\n",
       "    <tr>\n",
       "      <th>min</th>\n",
       "      <td>6.000000</td>\n",
       "      <td>0.000000</td>\n",
       "      <td>3.170000</td>\n",
       "      <td>0.000000</td>\n",
       "      <td>4.000000</td>\n",
       "      <td>2.500000</td>\n",
       "      <td>39.000000</td>\n",
       "      <td>1.000000</td>\n",
       "      <td>0.000000</td>\n",
       "      <td>0.000000</td>\n",
       "      <td>0.000000</td>\n",
       "      <td>0.000000</td>\n",
       "      <td>0.000000</td>\n",
       "      <td>0.000000</td>\n",
       "      <td>0.000000</td>\n",
       "      <td>0.000000</td>\n",
       "    </tr>\n",
       "    <tr>\n",
       "      <th>25%</th>\n",
       "      <td>95.000000</td>\n",
       "      <td>21.000000</td>\n",
       "      <td>4.600000</td>\n",
       "      <td>20.000000</td>\n",
       "      <td>74.000000</td>\n",
       "      <td>10.350000</td>\n",
       "      <td>723.000000</td>\n",
       "      <td>7.000000</td>\n",
       "      <td>31.000000</td>\n",
       "      <td>15.000000</td>\n",
       "      <td>3.000000</td>\n",
       "      <td>7.000000</td>\n",
       "      <td>9.000000</td>\n",
       "      <td>5.000000</td>\n",
       "      <td>0.000000</td>\n",
       "      <td>1.000000</td>\n",
       "    </tr>\n",
       "    <tr>\n",
       "      <th>50%</th>\n",
       "      <td>196.000000</td>\n",
       "      <td>42.000000</td>\n",
       "      <td>4.830000</td>\n",
       "      <td>43.000000</td>\n",
       "      <td>150.000000</td>\n",
       "      <td>12.190000</td>\n",
       "      <td>1523.000000</td>\n",
       "      <td>15.000000</td>\n",
       "      <td>61.000000</td>\n",
       "      <td>39.000000</td>\n",
       "      <td>8.000000</td>\n",
       "      <td>15.000000</td>\n",
       "      <td>18.000000</td>\n",
       "      <td>12.000000</td>\n",
       "      <td>2.000000</td>\n",
       "      <td>2.000000</td>\n",
       "    </tr>\n",
       "    <tr>\n",
       "      <th>75%</th>\n",
       "      <td>280.000000</td>\n",
       "      <td>66.000000</td>\n",
       "      <td>5.060000</td>\n",
       "      <td>65.000000</td>\n",
       "      <td>216.000000</td>\n",
       "      <td>14.530000</td>\n",
       "      <td>2184.000000</td>\n",
       "      <td>24.000000</td>\n",
       "      <td>88.000000</td>\n",
       "      <td>56.000000</td>\n",
       "      <td>15.000000</td>\n",
       "      <td>24.000000</td>\n",
       "      <td>28.000000</td>\n",
       "      <td>20.000000</td>\n",
       "      <td>6.000000</td>\n",
       "      <td>5.000000</td>\n",
       "    </tr>\n",
       "    <tr>\n",
       "      <th>max</th>\n",
       "      <td>720.000000</td>\n",
       "      <td>222.000000</td>\n",
       "      <td>6.190000</td>\n",
       "      <td>221.000000</td>\n",
       "      <td>585.000000</td>\n",
       "      <td>188.000000</td>\n",
       "      <td>5951.000000</td>\n",
       "      <td>85.000000</td>\n",
       "      <td>324.000000</td>\n",
       "      <td>196.000000</td>\n",
       "      <td>71.000000</td>\n",
       "      <td>643.000000</td>\n",
       "      <td>83.000000</td>\n",
       "      <td>61.000000</td>\n",
       "      <td>39.000000</td>\n",
       "      <td>59.000000</td>\n",
       "    </tr>\n",
       "  </tbody>\n",
       "</table>\n",
       "</div>"
      ],
      "text/plain": [
       "        word_count  long_word_count  avg_word_length_per_essay  wrong_words  \\\n",
       "count  5309.000000      5309.000000                5309.000000  5309.000000   \n",
       "mean    197.338105        46.362403                   4.835283    45.079299   \n",
       "std     116.878512        31.073141                   0.351803    28.413772   \n",
       "min       6.000000         0.000000                   3.170000     0.000000   \n",
       "25%      95.000000        21.000000                   4.600000    20.000000   \n",
       "50%     196.000000        42.000000                   4.830000    43.000000   \n",
       "75%     280.000000        66.000000                   5.060000    65.000000   \n",
       "max     720.000000       222.000000                   6.190000   221.000000   \n",
       "\n",
       "       no_of_domain_words  word_to_sent_ratio  num_of_characters  \\\n",
       "count         5309.000000         5309.000000        5309.000000   \n",
       "mean           152.258806           13.492121        1532.813147   \n",
       "std             90.775007            7.727928         921.793079   \n",
       "min              4.000000            2.500000          39.000000   \n",
       "25%             74.000000           10.350000         723.000000   \n",
       "50%            150.000000           12.190000        1523.000000   \n",
       "75%            216.000000           14.530000        2184.000000   \n",
       "max            585.000000          188.000000        5951.000000   \n",
       "\n",
       "       sentence_count   noun_count   verb_count  comma_count  \\\n",
       "count     5309.000000  5309.000000  5309.000000  5309.000000   \n",
       "mean        16.187983    62.791109    38.644377    10.174421   \n",
       "std         10.379520    37.776345    24.916955     9.545103   \n",
       "min          1.000000     0.000000     0.000000     0.000000   \n",
       "25%          7.000000    31.000000    15.000000     3.000000   \n",
       "50%         15.000000    61.000000    39.000000     8.000000   \n",
       "75%         24.000000    88.000000    56.000000    15.000000   \n",
       "max         85.000000   324.000000   196.000000    71.000000   \n",
       "\n",
       "       punctuation_count  adjective_count  adverb_count  quotation_mark_count  \\\n",
       "count        5309.000000      5309.000000   5309.000000           5309.000000   \n",
       "mean           16.768318        19.873422     13.729328              3.817856   \n",
       "std            13.659156        13.228023     10.068848              4.964016   \n",
       "min             0.000000         0.000000      0.000000              0.000000   \n",
       "25%             7.000000         9.000000      5.000000              0.000000   \n",
       "50%            15.000000        18.000000     12.000000              2.000000   \n",
       "75%            24.000000        28.000000     20.000000              6.000000   \n",
       "max           643.000000        83.000000     61.000000             39.000000   \n",
       "\n",
       "       spelling_mistakes  \n",
       "count        5309.000000  \n",
       "mean            3.368243  \n",
       "std             3.747873  \n",
       "min             0.000000  \n",
       "25%             1.000000  \n",
       "50%             2.000000  \n",
       "75%             5.000000  \n",
       "max            59.000000  "
      ]
     },
     "execution_count": 3,
     "metadata": {},
     "output_type": "execute_result"
    }
   ],
   "source": [
    "X_all = pd.read_csv(\"model_and_visualization/features_set_1.csv\")\n",
    "y_all = pd.read_csv(\"model_and_visualization/target_set_1.csv\")\n",
    "X_all = X_all.drop('Unnamed: 0',axis=1)\n",
    "y_all = y_all.drop('Unnamed: 0',axis=1)\n",
    "\n",
    "print len(X_all)\n",
    "print len(y_all)\n",
    "X_all.describe()\n"
   ]
  },
  {
   "cell_type": "code",
   "execution_count": 4,
   "metadata": {
    "collapsed": false
   },
   "outputs": [],
   "source": [
    "from sklearn import cross_validation\n",
    "def Evaluate2(X_all,y_all,feature_list):\n",
    "    model = LinearRegression()\n",
    "\n",
    "    #Simple K-Fold cross validation. 5 folds.\n",
    "    cv = cross_validation.KFold(len(X_all), n_folds=5,shuffle=True)\n",
    "    results = []\n",
    "    \n",
    "    for traincv, testcv in cv:\n",
    "            X_test, X_train, y_test, y_train = X_all.iloc[testcv], X_all.iloc[traincv], y_all.iloc[testcv], y_all.iloc[traincv]\n",
    "                     \n",
    "            final_train_data = X_train[feature_list]\n",
    "            final_test_data = X_test[feature_list]\n",
    "                     \n",
    "            model.fit(final_train_data,y_train)\n",
    "            start = time()\n",
    "            y_pred = model.predict(final_test_data)\n",
    "            end = time()\n",
    "                                   \n",
    "            result = kappa(y_test.values,y_pred,weights='quadratic')\n",
    "            results.append(result)\n",
    "            \n",
    "            X_test_list = [i for i in range(len(X_test))]\n",
    "            plt.scatter(X_test_list,y_test.values,color='black')\n",
    "            plt.scatter(X_test_list,y_pred,color='blue')\n",
    "            #print len(X_test),len(y_test),len(y_pred)\n",
    "            #probas = model.fit(train[traincv], target[traincv]).predict_proba(train[testcv])\n",
    "            \n",
    "\n",
    "    #print \"Results: \" + str( np.array(results).mean() )\n",
    "    return str(np.array(results).mean())"
   ]
  },
  {
   "cell_type": "code",
   "execution_count": 5,
   "metadata": {
    "collapsed": false
   },
   "outputs": [
    {
     "data": {
      "text/plain": [
       "{'adjective_count': 45.7848,\n",
       " 'adverb_count': 45.2413,\n",
       " 'avg_word_length_per_essay': 6.0506,\n",
       " 'comma_count': 29.3337,\n",
       " 'long_word_count': 52.7127,\n",
       " 'no_of_domain_words': 54.2049,\n",
       " 'noun_count': 58.0493,\n",
       " 'num_of_characters': 52.2807,\n",
       " 'punctuation_count': 37.1388,\n",
       " 'quotation_mark_count': 16.4519,\n",
       " 'sentence_count': 57.3919,\n",
       " 'spelling_mistakes': 25.8649,\n",
       " 'verb_count': 49.1519,\n",
       " 'word_count': 52.9611,\n",
       " 'word_to_sent_ratio': 3.5805,\n",
       " 'wrong_words': 42.9346}"
      ]
     },
     "execution_count": 5,
     "metadata": {},
     "output_type": "execute_result"
    }
   ],
   "source": [
    "feature_columns = [\"word_count\",\"long_word_count\",\"avg_word_length_per_essay\",\"wrong_words\",\"no_of_domain_words\",\"word_to_sent_ratio\",\"num_of_characters\",\"sentence_count\",\"noun_count\",\"verb_count\",\"comma_count\",\"punctuation_count\",\"adjective_count\",\"adverb_count\",\"quotation_mark_count\",\"spelling_mistakes\"]\n",
    "feature_dict = {}\n",
    "    \n",
    "for f in feature_columns:\n",
    "    score = Evaluate2(X_all,y_all,[f])\n",
    "    feature_dict[f] = round(float(score)*100,4)\n",
    "feature_dict"
   ]
  },
  {
   "cell_type": "code",
   "execution_count": 7,
   "metadata": {
    "collapsed": false
   },
   "outputs": [
    {
     "name": "stdout",
     "output_type": "stream",
     "text": [
      "\t\tIndex\t Feature\n",
      "\t\t| 0 |\t| noun_count |\n",
      "\t\t--------------------------------\n",
      "\t\t| 1 |\t| sentence_count |\n",
      "\t\t--------------------------------\n",
      "\t\t| 2 |\t| no_of_domain_words |\n",
      "\t\t--------------------------------\n",
      "\t\t| 3 |\t| word_count |\n",
      "\t\t--------------------------------\n",
      "\t\t| 4 |\t| long_word_count |\n",
      "\t\t--------------------------------\n",
      "\t\t| 5 |\t| num_of_characters |\n",
      "\t\t--------------------------------\n",
      "\t\t| 6 |\t| verb_count |\n",
      "\t\t--------------------------------\n",
      "\t\t| 7 |\t| adjective_count |\n",
      "\t\t--------------------------------\n",
      "\t\t| 8 |\t| adverb_count |\n",
      "\t\t--------------------------------\n",
      "\t\t| 9 |\t| wrong_words |\n",
      "\t\t--------------------------------\n",
      "\t\t| 10 |\t| punctuation_count |\n",
      "\t\t--------------------------------\n",
      "\t\t| 11 |\t| comma_count |\n",
      "\t\t--------------------------------\n",
      "\t\t| 12 |\t| spelling_mistakes |\n",
      "\t\t--------------------------------\n",
      "\t\t| 13 |\t| quotation_mark_count |\n",
      "\t\t--------------------------------\n",
      "\t\t| 14 |\t| avg_word_length_per_essay |\n",
      "\t\t--------------------------------\n",
      "\t\t| 15 |\t| word_to_sent_ratio |\n",
      "\t\t--------------------------------\n"
     ]
    }
   ],
   "source": [
    "import operator\n",
    "sorted_feature_list = sorted(feature_dict.items(), key=operator.itemgetter(1),reverse=True)\n",
    "#sorted_feature_list\n",
    "\n",
    "print \"\\t\\tIndex\\t Feature\"\n",
    "for x in range(len(sorted_feature_list)):\n",
    "    print \"\\t\\t|\",x,\"|\\t|\",sorted_feature_list[x][0],\"|\"\n",
    "    print \"\\t\\t--------------------------------\"\n",
    "\n",
    "objects = [x[1] for x in sorted_feature_list]\n"
   ]
  },
  {
   "cell_type": "code",
   "execution_count": 9,
   "metadata": {
    "collapsed": false
   },
   "outputs": [
    {
     "data": {
      "image/png": "[encoded data removed]",
      "text/plain": [
       "<matplotlib.figure.Figure at 0x7fec28bb0f90>"
      ]
     },
     "metadata": {},
     "output_type": "display_data"
    }
   ],
   "source": [
    "y_pos = np.arange(len(objects))\n",
    "plt.figure(figsize=(7,7))\n",
    "plt.bar(y_pos, objects, align='center', alpha=0.5)\n",
    "plt.ylabel('Kappa score')\n",
    "plt.xlabel('Features')\n",
    "plt.title('Single feature Kappa')\n",
    "plt.show()"
   ]
  },
  {
   "cell_type": "code",
   "execution_count": 10,
   "metadata": {
    "collapsed": false
   },
   "outputs": [
    {
     "name": "stdout",
     "output_type": "stream",
     "text": [
      "Index   Forward Feature list\n",
      "0    ['noun_count']\n",
      "--------------------------------------------------\n",
      "1    ['noun_count', 'sentence_count']\n",
      "--------------------------------------------------\n",
      "2    ['noun_count', 'sentence_count', 'no_of_domain_words']\n",
      "--------------------------------------------------\n",
      "3    ['noun_count', 'sentence_count', 'no_of_domain_words', 'word_count']\n",
      "--------------------------------------------------\n",
      "4    ['noun_count', 'sentence_count', 'no_of_domain_words', 'word_count', 'long_word_count']\n",
      "--------------------------------------------------\n",
      "5    ['noun_count', 'sentence_count', 'no_of_domain_words', 'word_count', 'long_word_count', 'num_of_characters']\n",
      "--------------------------------------------------\n",
      "6    ['noun_count', 'sentence_count', 'no_of_domain_words', 'word_count', 'long_word_count', 'num_of_characters', 'verb_count']\n",
      "--------------------------------------------------\n",
      "7    ['noun_count', 'sentence_count', 'no_of_domain_words', 'word_count', 'long_word_count', 'num_of_characters', 'verb_count', 'adjective_count']\n",
      "--------------------------------------------------\n",
      "8    ['noun_count', 'sentence_count', 'no_of_domain_words', 'word_count', 'long_word_count', 'num_of_characters', 'verb_count', 'adjective_count', 'adverb_count']\n",
      "--------------------------------------------------\n",
      "9    ['noun_count', 'sentence_count', 'no_of_domain_words', 'word_count', 'long_word_count', 'num_of_characters', 'verb_count', 'adjective_count', 'adverb_count', 'wrong_words']\n",
      "--------------------------------------------------\n",
      "10    ['noun_count', 'sentence_count', 'no_of_domain_words', 'word_count', 'long_word_count', 'num_of_characters', 'verb_count', 'adjective_count', 'adverb_count', 'wrong_words', 'punctuation_count']\n",
      "--------------------------------------------------\n",
      "11    ['noun_count', 'sentence_count', 'no_of_domain_words', 'word_count', 'long_word_count', 'num_of_characters', 'verb_count', 'adjective_count', 'adverb_count', 'wrong_words', 'punctuation_count', 'comma_count']\n",
      "--------------------------------------------------\n",
      "12    ['noun_count', 'sentence_count', 'no_of_domain_words', 'word_count', 'long_word_count', 'num_of_characters', 'verb_count', 'adjective_count', 'adverb_count', 'wrong_words', 'punctuation_count', 'comma_count', 'spelling_mistakes']\n",
      "--------------------------------------------------\n",
      "13    ['noun_count', 'sentence_count', 'no_of_domain_words', 'word_count', 'long_word_count', 'num_of_characters', 'verb_count', 'adjective_count', 'adverb_count', 'wrong_words', 'punctuation_count', 'comma_count', 'spelling_mistakes', 'quotation_mark_count']\n",
      "--------------------------------------------------\n",
      "14    ['noun_count', 'sentence_count', 'no_of_domain_words', 'word_count', 'long_word_count', 'num_of_characters', 'verb_count', 'adjective_count', 'adverb_count', 'wrong_words', 'punctuation_count', 'comma_count', 'spelling_mistakes', 'quotation_mark_count', 'avg_word_length_per_essay']\n",
      "--------------------------------------------------\n",
      "15    ['noun_count', 'sentence_count', 'no_of_domain_words', 'word_count', 'long_word_count', 'num_of_characters', 'verb_count', 'adjective_count', 'adverb_count', 'wrong_words', 'punctuation_count', 'comma_count', 'spelling_mistakes', 'quotation_mark_count', 'avg_word_length_per_essay', 'word_to_sent_ratio']\n",
      "--------------------------------------------------\n"
     ]
    }
   ],
   "source": [
    "#Forward feature selection.\n",
    "sorted_f = [i[0] for i in sorted_feature_list]\n",
    "objects = []\n",
    "results = []\n",
    "for i in range(1,len(sorted_f)+1):\n",
    "    forward_feature_list = sorted_f[:i]\n",
    "    round(float(score)*100,4)\n",
    "    result = round(float(Evaluate2(X_all,y_all,forward_feature_list))*100,4)\n",
    "    results.append(result)\n",
    "    objects.append(forward_feature_list)\n",
    "     \n",
    "print \"Index   Forward Feature list\"\n",
    "for x in range(len(objects)):\n",
    "    print x,\"  \",objects[x]\n",
    "    print \"--------------------------------------------------\" "
   ]
  },
  {
   "cell_type": "code",
   "execution_count": 16,
   "metadata": {
    "collapsed": false
   },
   "outputs": [
    {
     "data": {
      "image/png": "[encoded data removed]",
      "text/plain": [
       "<matplotlib.figure.Figure at 0x7fec28e7c090>"
      ]
     },
     "metadata": {},
     "output_type": "display_data"
    }
   ],
   "source": [
    "y_pos = np.arange(len(objects))\n",
    "plt.figure(figsize=(8,8))\n",
    "plt.bar(y_pos,results)\n",
    "plt.title('Greedy - Forward feature selection')\n",
    "plt.ylabel('Kappa-Score')\n",
    "plt.xlabel('Forward feature list')\n",
    "plt.show()"
   ]
  },
  {
   "cell_type": "code",
   "execution_count": 19,
   "metadata": {
    "collapsed": false
   },
   "outputs": [
    {
     "name": "stdout",
     "output_type": "stream",
     "text": [
      "0.678316090595\n",
      "0.672930698063\n"
     ]
    },
    {
     "data": {
      "text/plain": [
       "['noun_count',\n",
       " 'sentence_count',\n",
       " 'no_of_domain_words',\n",
       " 'word_count',\n",
       " 'long_word_count',\n",
       " 'num_of_characters',\n",
       " 'verb_count',\n",
       " 'adjective_count',\n",
       " 'adverb_count',\n",
       " 'wrong_words',\n",
       " 'punctuation_count',\n",
       " 'comma_count',\n",
       " 'spelling_mistakes',\n",
       " 'quotation_mark_count']"
      ]
     },
     "execution_count": 19,
     "metadata": {},
     "output_type": "execute_result"
    }
   ],
   "source": [
    "# Objects[14] has the highest kappa score as per the bar graph generated. \n",
    "\n",
    "selected_features = objects[13]\n",
    "\n",
    "print Evaluate2(X_all,y_all,selected_features)\n",
    "print Evaluate2(X_all,y_all,objects[15])\n",
    "\n",
    "selected_features"
   ]
  },
  {
   "cell_type": "code",
   "execution_count": 21,
   "metadata": {
    "collapsed": false
   },
   "outputs": [
    {
     "name": "stdout",
     "output_type": "stream",
     "text": [
      "Performing sentence and word tokenizing which will be used for word2vec\n"
     ]
    },
    {
     "name": "stderr",
     "output_type": "stream",
     "text": [
      "2017-05-25 13:16:31,824 : INFO : collecting all words and their counts\n",
      "2017-05-25 13:16:31,825 : INFO : PROGRESS: at sentence #0, processed 0 words, keeping 0 word types\n",
      "2017-05-25 13:16:31,867 : INFO : PROGRESS: at sentence #10000, processed 80824 words, keeping 6852 word types\n",
      "2017-05-25 13:16:31,914 : INFO : PROGRESS: at sentence #20000, processed 161500 words, keeping 10368 word types\n",
      "2017-05-25 13:16:31,960 : INFO : PROGRESS: at sentence #30000, processed 241475 words, keeping 12988 word types\n",
      "2017-05-25 13:16:32,003 : INFO : PROGRESS: at sentence #40000, processed 326353 words, keeping 15773 word types\n",
      "2017-05-25 13:16:32,052 : INFO : PROGRESS: at sentence #50000, processed 412716 words, keeping 18080 word types\n",
      "2017-05-25 13:16:32,091 : INFO : PROGRESS: at sentence #60000, processed 498308 words, keeping 20017 word types\n",
      "2017-05-25 13:16:32,140 : INFO : PROGRESS: at sentence #70000, processed 587525 words, keeping 22536 word types\n",
      "2017-05-25 13:16:32,188 : INFO : PROGRESS: at sentence #80000, processed 669948 words, keeping 24342 word types\n",
      "2017-05-25 13:16:32,218 : INFO : collected 25589 word types from a corpus of 734502 raw words and 87512 sentences\n",
      "2017-05-25 13:16:32,220 : INFO : Loading a fresh vocabulary\n",
      "2017-05-25 13:16:32,264 : INFO : min_count=40 retains 1810 unique words (7% of original 25589, drops 23779)\n",
      "2017-05-25 13:16:32,266 : INFO : min_count=40 leaves 650953 word corpus (88% of original 734502, drops 83549)\n",
      "2017-05-25 13:16:32,279 : INFO : deleting the raw counts dictionary of 25589 items\n",
      "2017-05-25 13:16:32,282 : INFO : sample=0.001 downsamples 75 most-common words\n",
      "2017-05-25 13:16:32,283 : INFO : downsampling leaves estimated 533767 word corpus (82.0% of prior 650953)\n",
      "2017-05-25 13:16:32,285 : INFO : estimated required memory for 1810 words and 300 dimensions: 5249000 bytes\n",
      "2017-05-25 13:16:32,296 : INFO : resetting layer weights\n",
      "2017-05-25 13:16:32,349 : INFO : training model with 4 workers on 1810 vocabulary and 300 features, using sg=0 hs=0 sample=0.001 negative=5 window=10\n",
      "2017-05-25 13:16:33,380 : INFO : PROGRESS: at 21.85% examples, 567233 words/s, in_qsize 8, out_qsize 0\n",
      "2017-05-25 13:16:34,381 : INFO : PROGRESS: at 40.88% examples, 538327 words/s, in_qsize 7, out_qsize 0\n",
      "2017-05-25 13:16:35,397 : INFO : PROGRESS: at 64.11% examples, 560774 words/s, in_qsize 7, out_qsize 0\n",
      "2017-05-25 13:16:36,399 : INFO : PROGRESS: at 87.93% examples, 577562 words/s, in_qsize 8, out_qsize 0\n",
      "2017-05-25 13:16:36,902 : INFO : worker thread finished; awaiting finish of 3 more threads\n",
      "2017-05-25 13:16:36,916 : INFO : worker thread finished; awaiting finish of 2 more threads\n",
      "2017-05-25 13:16:36,921 : INFO : worker thread finished; awaiting finish of 1 more threads\n",
      "2017-05-25 13:16:36,938 : INFO : worker thread finished; awaiting finish of 0 more threads\n",
      "2017-05-25 13:16:36,940 : INFO : training on 3672510 raw words (2668956 effective words) took 4.6s, 582428 effective words/s\n",
      "2017-05-25 13:16:36,944 : INFO : precomputing L2-norms of word weight vectors\n",
      "2017-05-25 13:16:36,981 : INFO : saving Word2Vec object under model_and_visualization/300features_40minwords_10context, separately None\n",
      "2017-05-25 13:16:36,985 : INFO : not storing attribute syn0norm\n",
      "2017-05-25 13:16:36,986 : INFO : not storing attribute cum_table\n",
      "2017-05-25 13:16:37,072 : INFO : saved model_and_visualization/300features_40minwords_10context\n"
     ]
    },
    {
     "name": "stdout",
     "output_type": "stream",
     "text": [
      "Kappa:  0.937404873315\n",
      "Performing sentence and word tokenizing which will be used for word2vec\n"
     ]
    },
    {
     "name": "stderr",
     "output_type": "stream",
     "text": [
      "2017-05-25 13:17:00,958 : INFO : collecting all words and their counts\n",
      "2017-05-25 13:17:00,959 : INFO : PROGRESS: at sentence #0, processed 0 words, keeping 0 word types\n",
      "2017-05-25 13:17:01,005 : INFO : PROGRESS: at sentence #10000, processed 80725 words, keeping 6963 word types\n",
      "2017-05-25 13:17:01,054 : INFO : PROGRESS: at sentence #20000, processed 162789 words, keeping 10497 word types\n",
      "2017-05-25 13:17:01,088 : INFO : PROGRESS: at sentence #30000, processed 242545 words, keeping 13057 word types\n",
      "2017-05-25 13:17:01,128 : INFO : PROGRESS: at sentence #40000, processed 327839 words, keeping 15881 word types\n",
      "2017-05-25 13:17:01,181 : INFO : PROGRESS: at sentence #50000, processed 413977 words, keeping 18139 word types\n",
      "2017-05-25 13:17:01,230 : INFO : PROGRESS: at sentence #60000, processed 499013 words, keeping 20022 word types\n",
      "2017-05-25 13:17:01,282 : INFO : PROGRESS: at sentence #70000, processed 587742 words, keeping 22591 word types\n",
      "2017-05-25 13:17:01,323 : INFO : PROGRESS: at sentence #80000, processed 668778 words, keeping 24354 word types\n",
      "2017-05-25 13:17:01,357 : INFO : collected 25589 word types from a corpus of 734502 raw words and 87512 sentences\n",
      "2017-05-25 13:17:01,359 : INFO : Loading a fresh vocabulary\n",
      "2017-05-25 13:17:01,403 : INFO : min_count=40 retains 1810 unique words (7% of original 25589, drops 23779)\n",
      "2017-05-25 13:17:01,405 : INFO : min_count=40 leaves 650953 word corpus (88% of original 734502, drops 83549)\n",
      "2017-05-25 13:17:01,418 : INFO : deleting the raw counts dictionary of 25589 items\n",
      "2017-05-25 13:17:01,421 : INFO : sample=0.001 downsamples 75 most-common words\n",
      "2017-05-25 13:17:01,424 : INFO : downsampling leaves estimated 533767 word corpus (82.0% of prior 650953)\n",
      "2017-05-25 13:17:01,425 : INFO : estimated required memory for 1810 words and 300 dimensions: 5249000 bytes\n",
      "2017-05-25 13:17:01,437 : INFO : resetting layer weights\n",
      "2017-05-25 13:17:01,494 : INFO : training model with 4 workers on 1810 vocabulary and 300 features, using sg=0 hs=0 sample=0.001 negative=5 window=10\n",
      "2017-05-25 13:17:02,552 : INFO : PROGRESS: at 21.85% examples, 574614 words/s, in_qsize 8, out_qsize 1\n",
      "2017-05-25 13:17:03,554 : INFO : PROGRESS: at 42.54% examples, 562497 words/s, in_qsize 8, out_qsize 0\n",
      "2017-05-25 13:17:04,570 : INFO : PROGRESS: at 64.07% examples, 562726 words/s, in_qsize 8, out_qsize 0\n",
      "2017-05-25 13:17:05,577 : INFO : PROGRESS: at 86.81% examples, 571312 words/s, in_qsize 7, out_qsize 0\n",
      "2017-05-25 13:17:06,413 : INFO : worker thread finished; awaiting finish of 3 more threads\n",
      "2017-05-25 13:17:06,431 : INFO : worker thread finished; awaiting finish of 2 more threads\n",
      "2017-05-25 13:17:06,432 : INFO : worker thread finished; awaiting finish of 1 more threads\n",
      "2017-05-25 13:17:06,433 : INFO : worker thread finished; awaiting finish of 0 more threads\n",
      "2017-05-25 13:17:06,434 : INFO : training on 3672510 raw words (2668328 effective words) took 4.9s, 545504 effective words/s\n",
      "2017-05-25 13:17:06,435 : INFO : precomputing L2-norms of word weight vectors\n",
      "2017-05-25 13:17:06,461 : INFO : saving Word2Vec object under model_and_visualization/300features_40minwords_10context, separately None\n",
      "2017-05-25 13:17:06,463 : INFO : not storing attribute syn0norm\n",
      "2017-05-25 13:17:06,466 : INFO : not storing attribute cum_table\n",
      "2017-05-25 13:17:06,530 : INFO : saved model_and_visualization/300features_40minwords_10context\n"
     ]
    },
    {
     "name": "stdout",
     "output_type": "stream",
     "text": [
      "Kappa:  0.937956735979\n",
      "Performing sentence and word tokenizing which will be used for word2vec\n"
     ]
    },
    {
     "name": "stderr",
     "output_type": "stream",
     "text": [
      "2017-05-25 13:17:30,045 : INFO : collecting all words and their counts\n",
      "2017-05-25 13:17:30,046 : INFO : PROGRESS: at sentence #0, processed 0 words, keeping 0 word types\n",
      "2017-05-25 13:17:30,093 : INFO : PROGRESS: at sentence #10000, processed 81068 words, keeping 6947 word types\n",
      "2017-05-25 13:17:30,145 : INFO : PROGRESS: at sentence #20000, processed 162009 words, keeping 10350 word types\n",
      "2017-05-25 13:17:30,188 : INFO : PROGRESS: at sentence #30000, processed 242399 words, keeping 13053 word types\n",
      "2017-05-25 13:17:30,227 : INFO : PROGRESS: at sentence #40000, processed 327445 words, keeping 15872 word types\n",
      "2017-05-25 13:17:30,277 : INFO : PROGRESS: at sentence #50000, processed 413002 words, keeping 18121 word types\n",
      "2017-05-25 13:17:30,331 : INFO : PROGRESS: at sentence #60000, processed 499345 words, keeping 20018 word types\n",
      "2017-05-25 13:17:30,383 : INFO : PROGRESS: at sentence #70000, processed 587613 words, keeping 22499 word types\n",
      "2017-05-25 13:17:30,416 : INFO : PROGRESS: at sentence #80000, processed 669337 words, keeping 24298 word types\n",
      "2017-05-25 13:17:30,452 : INFO : collected 25589 word types from a corpus of 734502 raw words and 87512 sentences\n",
      "2017-05-25 13:17:30,460 : INFO : Loading a fresh vocabulary\n",
      "2017-05-25 13:17:30,500 : INFO : min_count=40 retains 1810 unique words (7% of original 25589, drops 23779)\n",
      "2017-05-25 13:17:30,502 : INFO : min_count=40 leaves 650953 word corpus (88% of original 734502, drops 83549)\n",
      "2017-05-25 13:17:30,517 : INFO : deleting the raw counts dictionary of 25589 items\n",
      "2017-05-25 13:17:30,521 : INFO : sample=0.001 downsamples 75 most-common words\n",
      "2017-05-25 13:17:30,522 : INFO : downsampling leaves estimated 533767 word corpus (82.0% of prior 650953)\n",
      "2017-05-25 13:17:30,524 : INFO : estimated required memory for 1810 words and 300 dimensions: 5249000 bytes\n",
      "2017-05-25 13:17:30,538 : INFO : resetting layer weights\n",
      "2017-05-25 13:17:30,600 : INFO : training model with 4 workers on 1810 vocabulary and 300 features, using sg=0 hs=0 sample=0.001 negative=5 window=10\n",
      "2017-05-25 13:17:31,607 : INFO : PROGRESS: at 21.29% examples, 566391 words/s, in_qsize 7, out_qsize 0\n",
      "2017-05-25 13:17:32,614 : INFO : PROGRESS: at 44.80% examples, 592102 words/s, in_qsize 8, out_qsize 0\n",
      "2017-05-25 13:17:33,618 : INFO : PROGRESS: at 68.04% examples, 599323 words/s, in_qsize 7, out_qsize 0\n",
      "2017-05-25 13:17:34,636 : INFO : PROGRESS: at 91.88% examples, 606371 words/s, in_qsize 8, out_qsize 0\n",
      "2017-05-25 13:17:34,947 : INFO : worker thread finished; awaiting finish of 3 more threads\n",
      "2017-05-25 13:17:34,957 : INFO : worker thread finished; awaiting finish of 2 more threads\n",
      "2017-05-25 13:17:34,963 : INFO : worker thread finished; awaiting finish of 1 more threads\n",
      "2017-05-25 13:17:34,965 : INFO : worker thread finished; awaiting finish of 0 more threads\n",
      "2017-05-25 13:17:34,967 : INFO : training on 3672510 raw words (2669162 effective words) took 4.4s, 612047 effective words/s\n",
      "2017-05-25 13:17:34,968 : INFO : precomputing L2-norms of word weight vectors\n",
      "2017-05-25 13:17:35,000 : INFO : saving Word2Vec object under model_and_visualization/300features_40minwords_10context, separately None\n",
      "2017-05-25 13:17:35,002 : INFO : not storing attribute syn0norm\n",
      "2017-05-25 13:17:35,012 : INFO : not storing attribute cum_table\n",
      "2017-05-25 13:17:35,072 : INFO : saved model_and_visualization/300features_40minwords_10context\n"
     ]
    },
    {
     "name": "stdout",
     "output_type": "stream",
     "text": [
      "Kappa:  0.935993100638\n",
      "Performing sentence and word tokenizing which will be used for word2vec\n"
     ]
    },
    {
     "name": "stderr",
     "output_type": "stream",
     "text": [
      "2017-05-25 13:17:58,352 : INFO : collecting all words and their counts\n",
      "2017-05-25 13:17:58,353 : INFO : PROGRESS: at sentence #0, processed 0 words, keeping 0 word types\n",
      "2017-05-25 13:17:58,393 : INFO : PROGRESS: at sentence #10000, processed 81391 words, keeping 7015 word types\n",
      "2017-05-25 13:17:58,425 : INFO : PROGRESS: at sentence #20000, processed 161551 words, keeping 10496 word types\n",
      "2017-05-25 13:17:58,461 : INFO : PROGRESS: at sentence #30000, processed 241967 words, keeping 13081 word types\n",
      "2017-05-25 13:17:58,492 : INFO : PROGRESS: at sentence #40000, processed 326795 words, keeping 15892 word types\n",
      "2017-05-25 13:17:58,528 : INFO : PROGRESS: at sentence #50000, processed 412182 words, keeping 18111 word types\n",
      "2017-05-25 13:17:58,569 : INFO : PROGRESS: at sentence #60000, processed 497263 words, keeping 19991 word types\n",
      "2017-05-25 13:17:58,612 : INFO : PROGRESS: at sentence #70000, processed 585846 words, keeping 22488 word types\n",
      "2017-05-25 13:17:58,658 : INFO : PROGRESS: at sentence #80000, processed 668178 words, keeping 24235 word types\n",
      "2017-05-25 13:17:58,687 : INFO : collected 25589 word types from a corpus of 734502 raw words and 87512 sentences\n",
      "2017-05-25 13:17:58,688 : INFO : Loading a fresh vocabulary\n",
      "2017-05-25 13:17:58,720 : INFO : min_count=40 retains 1810 unique words (7% of original 25589, drops 23779)\n",
      "2017-05-25 13:17:58,722 : INFO : min_count=40 leaves 650953 word corpus (88% of original 734502, drops 83549)\n",
      "2017-05-25 13:17:58,736 : INFO : deleting the raw counts dictionary of 25589 items\n",
      "2017-05-25 13:17:58,739 : INFO : sample=0.001 downsamples 75 most-common words\n",
      "2017-05-25 13:17:58,741 : INFO : downsampling leaves estimated 533767 word corpus (82.0% of prior 650953)\n",
      "2017-05-25 13:17:58,741 : INFO : estimated required memory for 1810 words and 300 dimensions: 5249000 bytes\n",
      "2017-05-25 13:17:58,751 : INFO : resetting layer weights\n",
      "2017-05-25 13:17:58,805 : INFO : training model with 4 workers on 1810 vocabulary and 300 features, using sg=0 hs=0 sample=0.001 negative=5 window=10\n",
      "2017-05-25 13:17:59,823 : INFO : PROGRESS: at 22.11% examples, 581009 words/s, in_qsize 8, out_qsize 0\n",
      "2017-05-25 13:18:00,835 : INFO : PROGRESS: at 45.96% examples, 601326 words/s, in_qsize 8, out_qsize 0\n",
      "2017-05-25 13:18:01,846 : INFO : PROGRESS: at 69.63% examples, 609085 words/s, in_qsize 7, out_qsize 0\n",
      "2017-05-25 13:18:02,855 : INFO : PROGRESS: at 93.52% examples, 615617 words/s, in_qsize 8, out_qsize 0\n",
      "2017-05-25 13:18:03,110 : INFO : worker thread finished; awaiting finish of 3 more threads\n",
      "2017-05-25 13:18:03,117 : INFO : worker thread finished; awaiting finish of 2 more threads\n",
      "2017-05-25 13:18:03,122 : INFO : worker thread finished; awaiting finish of 1 more threads\n",
      "2017-05-25 13:18:03,136 : INFO : worker thread finished; awaiting finish of 0 more threads\n",
      "2017-05-25 13:18:03,138 : INFO : training on 3672510 raw words (2668887 effective words) took 4.3s, 617072 effective words/s\n",
      "2017-05-25 13:18:03,139 : INFO : precomputing L2-norms of word weight vectors\n",
      "2017-05-25 13:18:03,167 : INFO : saving Word2Vec object under model_and_visualization/300features_40minwords_10context, separately None\n",
      "2017-05-25 13:18:03,168 : INFO : not storing attribute syn0norm\n",
      "2017-05-25 13:18:03,170 : INFO : not storing attribute cum_table\n",
      "2017-05-25 13:18:03,234 : INFO : saved model_and_visualization/300features_40minwords_10context\n"
     ]
    },
    {
     "name": "stdout",
     "output_type": "stream",
     "text": [
      "Kappa:  0.939388755394\n",
      "Performing sentence and word tokenizing which will be used for word2vec\n"
     ]
    },
    {
     "name": "stderr",
     "output_type": "stream",
     "text": [
      "2017-05-25 13:18:26,516 : INFO : collecting all words and their counts\n",
      "2017-05-25 13:18:26,517 : INFO : PROGRESS: at sentence #0, processed 0 words, keeping 0 word types\n",
      "2017-05-25 13:18:26,561 : INFO : PROGRESS: at sentence #10000, processed 81307 words, keeping 6936 word types\n",
      "2017-05-25 13:18:26,596 : INFO : PROGRESS: at sentence #20000, processed 162241 words, keeping 10414 word types\n",
      "2017-05-25 13:18:26,630 : INFO : PROGRESS: at sentence #30000, processed 242310 words, keeping 13011 word types\n",
      "2017-05-25 13:18:26,661 : INFO : PROGRESS: at sentence #40000, processed 327749 words, keeping 15863 word types\n",
      "2017-05-25 13:18:26,703 : INFO : PROGRESS: at sentence #50000, processed 414519 words, keeping 18123 word types\n",
      "2017-05-25 13:18:26,744 : INFO : PROGRESS: at sentence #60000, processed 499874 words, keeping 19990 word types\n",
      "2017-05-25 13:18:26,791 : INFO : PROGRESS: at sentence #70000, processed 588742 words, keeping 22537 word types\n",
      "2017-05-25 13:18:26,830 : INFO : PROGRESS: at sentence #80000, processed 670078 words, keeping 24272 word types\n",
      "2017-05-25 13:18:26,866 : INFO : collected 25589 word types from a corpus of 734502 raw words and 87512 sentences\n",
      "2017-05-25 13:18:26,869 : INFO : Loading a fresh vocabulary\n",
      "2017-05-25 13:18:26,907 : INFO : min_count=40 retains 1810 unique words (7% of original 25589, drops 23779)\n",
      "2017-05-25 13:18:26,908 : INFO : min_count=40 leaves 650953 word corpus (88% of original 734502, drops 83549)\n",
      "2017-05-25 13:18:26,919 : INFO : deleting the raw counts dictionary of 25589 items\n",
      "2017-05-25 13:18:26,922 : INFO : sample=0.001 downsamples 75 most-common words\n",
      "2017-05-25 13:18:26,923 : INFO : downsampling leaves estimated 533767 word corpus (82.0% of prior 650953)\n",
      "2017-05-25 13:18:26,925 : INFO : estimated required memory for 1810 words and 300 dimensions: 5249000 bytes\n",
      "2017-05-25 13:18:26,936 : INFO : resetting layer weights\n",
      "2017-05-25 13:18:26,987 : INFO : training model with 4 workers on 1810 vocabulary and 300 features, using sg=0 hs=0 sample=0.001 negative=5 window=10\n",
      "2017-05-25 13:18:28,004 : INFO : PROGRESS: at 21.84% examples, 577759 words/s, in_qsize 8, out_qsize 0\n",
      "2017-05-25 13:18:29,013 : INFO : PROGRESS: at 45.07% examples, 595853 words/s, in_qsize 8, out_qsize 0\n",
      "2017-05-25 13:18:30,007 : INFO : PROGRESS: at 68.81% examples, 607315 words/s, in_qsize 6, out_qsize 0\n",
      "2017-05-25 13:18:31,020 : INFO : PROGRESS: at 92.11% examples, 609480 words/s, in_qsize 8, out_qsize 0\n",
      "2017-05-25 13:18:31,332 : INFO : worker thread finished; awaiting finish of 3 more threads\n",
      "2017-05-25 13:18:31,341 : INFO : worker thread finished; awaiting finish of 2 more threads\n",
      "2017-05-25 13:18:31,344 : INFO : worker thread finished; awaiting finish of 1 more threads\n",
      "2017-05-25 13:18:31,356 : INFO : worker thread finished; awaiting finish of 0 more threads\n",
      "2017-05-25 13:18:31,360 : INFO : training on 3672510 raw words (2668950 effective words) took 4.4s, 612097 effective words/s\n",
      "2017-05-25 13:18:31,362 : INFO : precomputing L2-norms of word weight vectors\n",
      "2017-05-25 13:18:31,393 : INFO : saving Word2Vec object under model_and_visualization/300features_40minwords_10context, separately None\n",
      "2017-05-25 13:18:31,394 : INFO : not storing attribute syn0norm\n",
      "2017-05-25 13:18:31,395 : INFO : not storing attribute cum_table\n",
      "2017-05-25 13:18:31,476 : INFO : saved model_and_visualization/300features_40minwords_10context\n"
     ]
    },
    {
     "name": "stdout",
     "output_type": "stream",
     "text": [
      "Kappa:  0.928066208225\n",
      "0.93576193471\n"
     ]
    }
   ],
   "source": [
    "#Training with Word2Vec\n",
    "\n",
    "cv = cross_validation.KFold(len(X_all), n_folds=5,shuffle=True)\n",
    "results = []\n",
    "\n",
    "for traincv, testcv in cv:\n",
    "        X_test, X_train, y_test, y_train = X_all.iloc[testcv], X_all.iloc[traincv], y_all.iloc[testcv], y_all.iloc[traincv]\n",
    "                \n",
    "        train_essays = X_train['essay']\n",
    "        test_essays = X_test['essay']\n",
    "        #print essays\n",
    "        sentences = []\n",
    "\n",
    "        print (\"Performing sentence and word tokenizing which will be used for word2vec\")\n",
    "\n",
    "        for essay in train_essays:\n",
    "            sentences += helper.essay_to_sentences(unicode(essay,\"utf-8\",errors='ignore'), remove_stopwords = True)\n",
    "\n",
    "        for essay in test_essays:\n",
    "            sentences += helper.essay_to_sentences(unicode(essay,\"utf-8\",errors='ignore'), remove_stopwords = True)\n",
    "\n",
    "        #print(len(sentences))\n",
    "        #print(\"Done\")\n",
    "        \n",
    "        logging.basicConfig(format='%(asctime)s : %(levelname)s : %(message)s', level=logging.INFO)\n",
    "\n",
    "        num_features = 300 \n",
    "        min_word_count = 40\n",
    "        num_workers = 4\n",
    "        context = 10\n",
    "        downsampling = 1e-3\n",
    "\n",
    "        #print (\"Training w2v model...\") \n",
    "        model = word2vec.Word2Vec(sentences, workers=num_workers, size=num_features, min_count = min_word_count, window = context, sample = downsampling)\n",
    "\n",
    "        model.init_sims(replace=True)\n",
    "\n",
    "        model_name = \"model_and_visualization/300features_40minwords_10context\"\n",
    "        model.save(model_name)\n",
    "\n",
    "        #print (\"Done\")\n",
    "        \n",
    "        #print (\"Creating average feature vecs for Training Essays\")\n",
    "        clean_train_essays = []\n",
    "      \n",
    "        for essay_v in train_essays:\n",
    "            clean_train_essays.append( helper.essay_to_wordlist( essay_v, remove_stopwords=True ))\n",
    "        trainDataVecs = helper.getAvgFeatureVecs( clean_train_essays, model, num_features )\n",
    "        \n",
    "        clean_test_essays = []\n",
    "        for essay_v in test_essays:\n",
    "            clean_test_essays.append( helper.essay_to_wordlist( essay_v, remove_stopwords=True ))\n",
    "        testDataVecs = helper.getAvgFeatureVecs( clean_test_essays, model, num_features )\n",
    "        \n",
    "        #print(\"Done\")\n",
    "\n",
    "        myOwnTrainFeatureVec = np.array(X_train[selected_features])\n",
    "        myOwnTestFeatureVec = np.array(X_test[selected_features])\n",
    "        \n",
    "        trainDataVecs2 = np.concatenate((trainDataVecs,myOwnTrainFeatureVec),1)\n",
    "        testDataVecs2 = np.concatenate((testDataVecs,myOwnTestFeatureVec),1)\n",
    "        \n",
    "        model = LinearRegression()\n",
    "        model.fit(trainDataVecs2,y_train)\n",
    "        start = time()\n",
    "        y_pred = model.predict(testDataVecs2)\n",
    "        end = time()\n",
    "\n",
    "        #print (\"Made predictions in {:.4f} seconds.\".format(end - start))\n",
    "        result = kappa(y_test.values,np.around(y_pred,decimals=2),weights='quadratic')\n",
    "        print \"Kappa: \", result\n",
    "        results.append(result)\n",
    "        \n",
    "print np.array(results).mean()"
   ]
  },
  {
   "cell_type": "code",
   "execution_count": null,
   "metadata": {
    "collapsed": true
   },
   "outputs": [],
   "source": []
  }
 ],
 "metadata": {
  "kernelspec": {
   "display_name": "Python 2",
   "language": "python",
   "name": "python2"
  },
  "language_info": {
   "codemirror_mode": {
    "name": "ipython",
    "version": 2
   },
   "file_extension": ".py",
   "mimetype": "text/x-python",
   "name": "python",
   "nbconvert_exporter": "python",
   "pygments_lexer": "ipython2",
   "version": "2.7.13"
  }
 },
 "nbformat": 4,
 "nbformat_minor": 2
}
