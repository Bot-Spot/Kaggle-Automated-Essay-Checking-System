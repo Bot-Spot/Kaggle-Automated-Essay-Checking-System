{
 "cells": [
  {
   "cell_type": "code",
   "execution_count": 1,
   "metadata": {
    "collapsed": true
   },
   "outputs": [],
   "source": [
    "import sys\n",
    "sys.path.append('./utils')"
   ]
  },
  {
   "cell_type": "code",
   "execution_count": 4,
   "metadata": {
    "collapsed": false
   },
   "outputs": [],
   "source": [
    "#Imports\n",
    "from requirements import *\n",
    "import helperfunctions as helper"
   ]
  },
  {
   "cell_type": "code",
   "execution_count": 3,
   "metadata": {
    "collapsed": false
   },
   "outputs": [
    {
     "name": "stdout",
     "output_type": "stream",
     "text": [
      "5309\n",
      "5309\n"
     ]
    },
    {
     "data": {
      "text/html": [
       "<div>\n",
       "<table border=\"1\" class=\"dataframe\">\n",
       "  <thead>\n",
       "    <tr style=\"text-align: right;\">\n",
       "      <th></th>\n",
       "      <th>word_count</th>\n",
       "      <th>long_word_count</th>\n",
       "      <th>avg_word_length_per_essay</th>\n",
       "      <th>wrong_words</th>\n",
       "      <th>no_of_domain_words</th>\n",
       "      <th>word_to_sent_ratio</th>\n",
       "      <th>num_of_characters</th>\n",
       "      <th>sentence_count</th>\n",
       "      <th>noun_count</th>\n",
       "      <th>verb_count</th>\n",
       "      <th>comma_count</th>\n",
       "      <th>punctuation_count</th>\n",
       "      <th>adjective_count</th>\n",
       "      <th>adverb_count</th>\n",
       "      <th>quotation_mark_count</th>\n",
       "      <th>spelling_mistakes</th>\n",
       "    </tr>\n",
       "  </thead>\n",
       "  <tbody>\n",
       "    <tr>\n",
       "      <th>count</th>\n",
       "      <td>5309.000000</td>\n",
       "      <td>5309.000000</td>\n",
       "      <td>5309.000000</td>\n",
       "      <td>5309.000000</td>\n",
       "      <td>5309.000000</td>\n",
       "      <td>5309.000000</td>\n",
       "      <td>5309.000000</td>\n",
       "      <td>5309.000000</td>\n",
       "      <td>5309.000000</td>\n",
       "      <td>5309.000000</td>\n",
       "      <td>5309.000000</td>\n",
       "      <td>5309.000000</td>\n",
       "      <td>5309.000000</td>\n",
       "      <td>5309.000000</td>\n",
       "      <td>5309.000000</td>\n",
       "      <td>5309.000000</td>\n",
       "    </tr>\n",
       "    <tr>\n",
       "      <th>mean</th>\n",
       "      <td>197.338105</td>\n",
       "      <td>46.362403</td>\n",
       "      <td>4.835283</td>\n",
       "      <td>45.079299</td>\n",
       "      <td>152.258806</td>\n",
       "      <td>13.492121</td>\n",
       "      <td>1532.813147</td>\n",
       "      <td>16.187983</td>\n",
       "      <td>62.791109</td>\n",
       "      <td>38.644377</td>\n",
       "      <td>10.174421</td>\n",
       "      <td>16.768318</td>\n",
       "      <td>19.873422</td>\n",
       "      <td>13.729328</td>\n",
       "      <td>3.817856</td>\n",
       "      <td>3.368243</td>\n",
       "    </tr>\n",
       "    <tr>\n",
       "      <th>std</th>\n",
       "      <td>116.878512</td>\n",
       "      <td>31.073141</td>\n",
       "      <td>0.351803</td>\n",
       "      <td>28.413772</td>\n",
       "      <td>90.775007</td>\n",
       "      <td>7.727928</td>\n",
       "      <td>921.793079</td>\n",
       "      <td>10.379520</td>\n",
       "      <td>37.776345</td>\n",
       "      <td>24.916955</td>\n",
       "      <td>9.545103</td>\n",
       "      <td>13.659156</td>\n",
       "      <td>13.228023</td>\n",
       "      <td>10.068848</td>\n",
       "      <td>4.964016</td>\n",
       "      <td>3.747873</td>\n",
       "    </tr>\n",
       "    <tr>\n",
       "      <th>min</th>\n",
       "      <td>6.000000</td>\n",
       "      <td>0.000000</td>\n",
       "      <td>3.170000</td>\n",
       "      <td>0.000000</td>\n",
       "      <td>4.000000</td>\n",
       "      <td>2.500000</td>\n",
       "      <td>39.000000</td>\n",
       "      <td>1.000000</td>\n",
       "      <td>0.000000</td>\n",
       "      <td>0.000000</td>\n",
       "      <td>0.000000</td>\n",
       "      <td>0.000000</td>\n",
       "      <td>0.000000</td>\n",
       "      <td>0.000000</td>\n",
       "      <td>0.000000</td>\n",
       "      <td>0.000000</td>\n",
       "    </tr>\n",
       "    <tr>\n",
       "      <th>25%</th>\n",
       "      <td>95.000000</td>\n",
       "      <td>21.000000</td>\n",
       "      <td>4.600000</td>\n",
       "      <td>20.000000</td>\n",
       "      <td>74.000000</td>\n",
       "      <td>10.350000</td>\n",
       "      <td>723.000000</td>\n",
       "      <td>7.000000</td>\n",
       "      <td>31.000000</td>\n",
       "      <td>15.000000</td>\n",
       "      <td>3.000000</td>\n",
       "      <td>7.000000</td>\n",
       "      <td>9.000000</td>\n",
       "      <td>5.000000</td>\n",
       "      <td>0.000000</td>\n",
       "      <td>1.000000</td>\n",
       "    </tr>\n",
       "    <tr>\n",
       "      <th>50%</th>\n",
       "      <td>196.000000</td>\n",
       "      <td>42.000000</td>\n",
       "      <td>4.830000</td>\n",
       "      <td>43.000000</td>\n",
       "      <td>150.000000</td>\n",
       "      <td>12.190000</td>\n",
       "      <td>1523.000000</td>\n",
       "      <td>15.000000</td>\n",
       "      <td>61.000000</td>\n",
       "      <td>39.000000</td>\n",
       "      <td>8.000000</td>\n",
       "      <td>15.000000</td>\n",
       "      <td>18.000000</td>\n",
       "      <td>12.000000</td>\n",
       "      <td>2.000000</td>\n",
       "      <td>2.000000</td>\n",
       "    </tr>\n",
       "    <tr>\n",
       "      <th>75%</th>\n",
       "      <td>280.000000</td>\n",
       "      <td>66.000000</td>\n",
       "      <td>5.060000</td>\n",
       "      <td>65.000000</td>\n",
       "      <td>216.000000</td>\n",
       "      <td>14.530000</td>\n",
       "      <td>2184.000000</td>\n",
       "      <td>24.000000</td>\n",
       "      <td>88.000000</td>\n",
       "      <td>56.000000</td>\n",
       "      <td>15.000000</td>\n",
       "      <td>24.000000</td>\n",
       "      <td>28.000000</td>\n",
       "      <td>20.000000</td>\n",
       "      <td>6.000000</td>\n",
       "      <td>5.000000</td>\n",
       "    </tr>\n",
       "    <tr>\n",
       "      <th>max</th>\n",
       "      <td>720.000000</td>\n",
       "      <td>222.000000</td>\n",
       "      <td>6.190000</td>\n",
       "      <td>221.000000</td>\n",
       "      <td>585.000000</td>\n",
       "      <td>188.000000</td>\n",
       "      <td>5951.000000</td>\n",
       "      <td>85.000000</td>\n",
       "      <td>324.000000</td>\n",
       "      <td>196.000000</td>\n",
       "      <td>71.000000</td>\n",
       "      <td>643.000000</td>\n",
       "      <td>83.000000</td>\n",
       "      <td>61.000000</td>\n",
       "      <td>39.000000</td>\n",
       "      <td>59.000000</td>\n",
       "    </tr>\n",
       "  </tbody>\n",
       "</table>\n",
       "</div>"
      ],
      "text/plain": [
       "        word_count  long_word_count  avg_word_length_per_essay  wrong_words  \\\n",
       "count  5309.000000      5309.000000                5309.000000  5309.000000   \n",
       "mean    197.338105        46.362403                   4.835283    45.079299   \n",
       "std     116.878512        31.073141                   0.351803    28.413772   \n",
       "min       6.000000         0.000000                   3.170000     0.000000   \n",
       "25%      95.000000        21.000000                   4.600000    20.000000   \n",
       "50%     196.000000        42.000000                   4.830000    43.000000   \n",
       "75%     280.000000        66.000000                   5.060000    65.000000   \n",
       "max     720.000000       222.000000                   6.190000   221.000000   \n",
       "\n",
       "       no_of_domain_words  word_to_sent_ratio  num_of_characters  \\\n",
       "count         5309.000000         5309.000000        5309.000000   \n",
       "mean           152.258806           13.492121        1532.813147   \n",
       "std             90.775007            7.727928         921.793079   \n",
       "min              4.000000            2.500000          39.000000   \n",
       "25%             74.000000           10.350000         723.000000   \n",
       "50%            150.000000           12.190000        1523.000000   \n",
       "75%            216.000000           14.530000        2184.000000   \n",
       "max            585.000000          188.000000        5951.000000   \n",
       "\n",
       "       sentence_count   noun_count   verb_count  comma_count  \\\n",
       "count     5309.000000  5309.000000  5309.000000  5309.000000   \n",
       "mean        16.187983    62.791109    38.644377    10.174421   \n",
       "std         10.379520    37.776345    24.916955     9.545103   \n",
       "min          1.000000     0.000000     0.000000     0.000000   \n",
       "25%          7.000000    31.000000    15.000000     3.000000   \n",
       "50%         15.000000    61.000000    39.000000     8.000000   \n",
       "75%         24.000000    88.000000    56.000000    15.000000   \n",
       "max         85.000000   324.000000   196.000000    71.000000   \n",
       "\n",
       "       punctuation_count  adjective_count  adverb_count  quotation_mark_count  \\\n",
       "count        5309.000000      5309.000000   5309.000000           5309.000000   \n",
       "mean           16.768318        19.873422     13.729328              3.817856   \n",
       "std            13.659156        13.228023     10.068848              4.964016   \n",
       "min             0.000000         0.000000      0.000000              0.000000   \n",
       "25%             7.000000         9.000000      5.000000              0.000000   \n",
       "50%            15.000000        18.000000     12.000000              2.000000   \n",
       "75%            24.000000        28.000000     20.000000              6.000000   \n",
       "max           643.000000        83.000000     61.000000             39.000000   \n",
       "\n",
       "       spelling_mistakes  \n",
       "count        5309.000000  \n",
       "mean            3.368243  \n",
       "std             3.747873  \n",
       "min             0.000000  \n",
       "25%             1.000000  \n",
       "50%             2.000000  \n",
       "75%             5.000000  \n",
       "max            59.000000  "
      ]
     },
     "execution_count": 3,
     "metadata": {},
     "output_type": "execute_result"
    }
   ],
   "source": [
    "X_all = pd.read_csv(\"model_and_visualization/features_set_1.csv\")\n",
    "y_all = pd.read_csv(\"model_and_visualization/target_set_1.csv\")\n",
    "X_all = X_all.drop('Unnamed: 0',axis=1)\n",
    "y_all = y_all.drop('Unnamed: 0',axis=1)\n",
    "\n",
    "print len(X_all)\n",
    "print len(y_all)\n",
    "X_all.describe()\n"
   ]
  },
  {
   "cell_type": "code",
   "execution_count": 6,
   "metadata": {
    "collapsed": false
   },
   "outputs": [
    {
     "data": {
      "text/plain": [
       "{'adjective_count': 45.6261,\n",
       " 'adverb_count': 45.2507,\n",
       " 'avg_word_length_per_essay': 6.1672,\n",
       " 'comma_count': 29.4193,\n",
       " 'long_word_count': 52.7739,\n",
       " 'no_of_domain_words': 53.9887,\n",
       " 'noun_count': 58.1735,\n",
       " 'num_of_characters': 52.3,\n",
       " 'punctuation_count': 36.6511,\n",
       " 'quotation_mark_count': 16.3819,\n",
       " 'sentence_count': 57.1469,\n",
       " 'spelling_mistakes': 27.5325,\n",
       " 'verb_count': 49.2216,\n",
       " 'word_count': 52.8422,\n",
       " 'word_to_sent_ratio': 3.4995,\n",
       " 'wrong_words': 42.7589}"
      ]
     },
     "execution_count": 6,
     "metadata": {},
     "output_type": "execute_result"
    }
   ],
   "source": [
    "feature_columns = [\"word_count\",\"long_word_count\",\"avg_word_length_per_essay\",\"wrong_words\",\"no_of_domain_words\",\"word_to_sent_ratio\",\"num_of_characters\",\"sentence_count\",\"noun_count\",\"verb_count\",\"comma_count\",\"punctuation_count\",\"adjective_count\",\"adverb_count\",\"quotation_mark_count\",\"spelling_mistakes\"]\n",
    "feature_dict = {}\n",
    "    \n",
    "for f in feature_columns:\n",
    "    score = helper.Evaluate(X_all,y_all,[f])\n",
    "    feature_dict[f] = round(float(score)*100,4)\n",
    "feature_dict"
   ]
  },
  {
   "cell_type": "code",
   "execution_count": 7,
   "metadata": {
    "collapsed": false
   },
   "outputs": [
    {
     "name": "stdout",
     "output_type": "stream",
     "text": [
      "\t\tIndex\t Feature\n",
      "\t\t| 0 |\t| noun_count |\n",
      "\t\t--------------------------------\n",
      "\t\t| 1 |\t| sentence_count |\n",
      "\t\t--------------------------------\n",
      "\t\t| 2 |\t| no_of_domain_words |\n",
      "\t\t--------------------------------\n",
      "\t\t| 3 |\t| word_count |\n",
      "\t\t--------------------------------\n",
      "\t\t| 4 |\t| long_word_count |\n",
      "\t\t--------------------------------\n",
      "\t\t| 5 |\t| num_of_characters |\n",
      "\t\t--------------------------------\n",
      "\t\t| 6 |\t| verb_count |\n",
      "\t\t--------------------------------\n",
      "\t\t| 7 |\t| adjective_count |\n",
      "\t\t--------------------------------\n",
      "\t\t| 8 |\t| adverb_count |\n",
      "\t\t--------------------------------\n",
      "\t\t| 9 |\t| wrong_words |\n",
      "\t\t--------------------------------\n",
      "\t\t| 10 |\t| punctuation_count |\n",
      "\t\t--------------------------------\n",
      "\t\t| 11 |\t| comma_count |\n",
      "\t\t--------------------------------\n",
      "\t\t| 12 |\t| spelling_mistakes |\n",
      "\t\t--------------------------------\n",
      "\t\t| 13 |\t| quotation_mark_count |\n",
      "\t\t--------------------------------\n",
      "\t\t| 14 |\t| avg_word_length_per_essay |\n",
      "\t\t--------------------------------\n",
      "\t\t| 15 |\t| word_to_sent_ratio |\n",
      "\t\t--------------------------------\n"
     ]
    }
   ],
   "source": [
    "import operator\n",
    "sorted_feature_list = sorted(feature_dict.items(), key=operator.itemgetter(1),reverse=True)\n",
    "\n",
    "print \"\\t\\tIndex\\t Feature\"\n",
    "for x in range(len(sorted_feature_list)):\n",
    "    print \"\\t\\t|\",x,\"|\\t|\",sorted_feature_list[x][0],\"|\"\n",
    "    print \"\\t\\t--------------------------------\"\n",
    "\n",
    "objects = [x[1] for x in sorted_feature_list]\n"
   ]
  },
  {
   "cell_type": "code",
   "execution_count": 9,
   "metadata": {
    "collapsed": false
   },
   "outputs": [
    {
     "data": {
      "image/png": "[encoded data removed]",
      "text/plain": [
       "<matplotlib.figure.Figure at 0x7f855565e950>"
      ]
     },
     "metadata": {},
     "output_type": "display_data"
    }
   ],
   "source": [
    "y_pos = np.arange(len(objects))\n",
    "plt.figure(figsize=(7,7))\n",
    "plt.bar(y_pos, objects, align='center', alpha=0.5)\n",
    "plt.ylabel('Kappa score')\n",
    "plt.xlabel('Features')\n",
    "plt.title('Single feature Kappa')\n",
    "plt.show()"
   ]
  },
  {
   "cell_type": "code",
   "execution_count": 11,
   "metadata": {
    "collapsed": false
   },
   "outputs": [
    {
     "name": "stdout",
     "output_type": "stream",
     "text": [
      "Index   Forward Feature list\n",
      "0    ['noun_count']\n",
      "--------------------------------------------------\n",
      "1    ['noun_count', 'sentence_count']\n",
      "--------------------------------------------------\n",
      "2    ['noun_count', 'sentence_count', 'no_of_domain_words']\n",
      "--------------------------------------------------\n",
      "3    ['noun_count', 'sentence_count', 'no_of_domain_words', 'word_count']\n",
      "--------------------------------------------------\n",
      "4    ['noun_count', 'sentence_count', 'no_of_domain_words', 'word_count', 'long_word_count']\n",
      "--------------------------------------------------\n",
      "5    ['noun_count', 'sentence_count', 'no_of_domain_words', 'word_count', 'long_word_count', 'num_of_characters']\n",
      "--------------------------------------------------\n",
      "6    ['noun_count', 'sentence_count', 'no_of_domain_words', 'word_count', 'long_word_count', 'num_of_characters', 'verb_count']\n",
      "--------------------------------------------------\n",
      "7    ['noun_count', 'sentence_count', 'no_of_domain_words', 'word_count', 'long_word_count', 'num_of_characters', 'verb_count', 'adjective_count']\n",
      "--------------------------------------------------\n",
      "8    ['noun_count', 'sentence_count', 'no_of_domain_words', 'word_count', 'long_word_count', 'num_of_characters', 'verb_count', 'adjective_count', 'adverb_count']\n",
      "--------------------------------------------------\n",
      "9    ['noun_count', 'sentence_count', 'no_of_domain_words', 'word_count', 'long_word_count', 'num_of_characters', 'verb_count', 'adjective_count', 'adverb_count', 'wrong_words']\n",
      "--------------------------------------------------\n",
      "10    ['noun_count', 'sentence_count', 'no_of_domain_words', 'word_count', 'long_word_count', 'num_of_characters', 'verb_count', 'adjective_count', 'adverb_count', 'wrong_words', 'punctuation_count']\n",
      "--------------------------------------------------\n",
      "11    ['noun_count', 'sentence_count', 'no_of_domain_words', 'word_count', 'long_word_count', 'num_of_characters', 'verb_count', 'adjective_count', 'adverb_count', 'wrong_words', 'punctuation_count', 'comma_count']\n",
      "--------------------------------------------------\n",
      "12    ['noun_count', 'sentence_count', 'no_of_domain_words', 'word_count', 'long_word_count', 'num_of_characters', 'verb_count', 'adjective_count', 'adverb_count', 'wrong_words', 'punctuation_count', 'comma_count', 'spelling_mistakes']\n",
      "--------------------------------------------------\n",
      "13    ['noun_count', 'sentence_count', 'no_of_domain_words', 'word_count', 'long_word_count', 'num_of_characters', 'verb_count', 'adjective_count', 'adverb_count', 'wrong_words', 'punctuation_count', 'comma_count', 'spelling_mistakes', 'quotation_mark_count']\n",
      "--------------------------------------------------\n",
      "14    ['noun_count', 'sentence_count', 'no_of_domain_words', 'word_count', 'long_word_count', 'num_of_characters', 'verb_count', 'adjective_count', 'adverb_count', 'wrong_words', 'punctuation_count', 'comma_count', 'spelling_mistakes', 'quotation_mark_count', 'avg_word_length_per_essay']\n",
      "--------------------------------------------------\n",
      "15    ['noun_count', 'sentence_count', 'no_of_domain_words', 'word_count', 'long_word_count', 'num_of_characters', 'verb_count', 'adjective_count', 'adverb_count', 'wrong_words', 'punctuation_count', 'comma_count', 'spelling_mistakes', 'quotation_mark_count', 'avg_word_length_per_essay', 'word_to_sent_ratio']\n",
      "--------------------------------------------------\n"
     ]
    }
   ],
   "source": [
    "#Forward feature selection.\n",
    "sorted_f = [i[0] for i in sorted_feature_list]\n",
    "objects = []\n",
    "results = []\n",
    "for i in range(1,len(sorted_f)+1):\n",
    "    forward_feature_list = sorted_f[:i]\n",
    "    round(float(score)*100,4)\n",
    "    result = round(float(helper.Evaluate(X_all,y_all,forward_feature_list))*100,4)\n",
    "    results.append(result)\n",
    "    objects.append(forward_feature_list)\n",
    "     \n",
    "print \"Index   Forward Feature list\"\n",
    "for x in range(len(objects)):\n",
    "    print x,\"  \",objects[x]\n",
    "    print \"--------------------------------------------------\" "
   ]
  },
  {
   "cell_type": "code",
   "execution_count": 13,
   "metadata": {
    "collapsed": false
   },
   "outputs": [
    {
     "data": {
      "image/png": "[encoded data removed]",
      "text/plain": [
       "<matplotlib.figure.Figure at 0x7f85554af2d0>"
      ]
     },
     "metadata": {},
     "output_type": "display_data"
    }
   ],
   "source": [
    "y_pos = np.arange(len(objects))\n",
    "plt.figure(figsize=(8,8))\n",
    "plt.bar(y_pos,results)\n",
    "plt.title('Greedy - Forward feature selection')\n",
    "plt.ylabel('Kappa-Score')\n",
    "plt.xlabel('Forward feature list')\n",
    "plt.show()"
   ]
  },
  {
   "cell_type": "code",
   "execution_count": 16,
   "metadata": {
    "collapsed": false
   },
   "outputs": [
    {
     "name": "stdout",
     "output_type": "stream",
     "text": [
      "0.671410820146\n",
      "0.667359082509\n"
     ]
    },
    {
     "data": {
      "text/plain": [
       "['noun_count',\n",
       " 'sentence_count',\n",
       " 'no_of_domain_words',\n",
       " 'word_count',\n",
       " 'long_word_count',\n",
       " 'num_of_characters',\n",
       " 'verb_count',\n",
       " 'adjective_count',\n",
       " 'adverb_count',\n",
       " 'wrong_words',\n",
       " 'punctuation_count',\n",
       " 'comma_count',\n",
       " 'spelling_mistakes',\n",
       " 'quotation_mark_count',\n",
       " 'avg_word_length_per_essay']"
      ]
     },
     "execution_count": 16,
     "metadata": {},
     "output_type": "execute_result"
    }
   ],
   "source": [
    "# Objects[14] has the highest kappa score as per the bar graph generated. \n",
    "\n",
    "selected_features = objects[14]\n",
    "\n",
    "print helper.Evaluate(X_all,y_all,selected_features)\n",
    "print helper.Evaluate(X_all,y_all,objects[15])\n",
    "\n",
    "selected_features"
   ]
  },
  {
   "cell_type": "code",
   "execution_count": 39,
   "metadata": {
    "collapsed": false
   },
   "outputs": [
    {
     "name": "stdout",
     "output_type": "stream",
     "text": [
      "Performing sentence and word tokenizing which will be used for word2vec\n"
     ]
    },
    {
     "name": "stderr",
     "output_type": "stream",
     "text": [
      "2017-05-25 20:24:12,466 : INFO : collecting all words and their counts\n",
      "2017-05-25 20:24:12,468 : INFO : PROGRESS: at sentence #0, processed 0 words, keeping 0 word types\n",
      "2017-05-25 20:24:12,498 : INFO : PROGRESS: at sentence #10000, processed 80785 words, keeping 6881 word types\n",
      "2017-05-25 20:24:12,528 : INFO : PROGRESS: at sentence #20000, processed 161495 words, keeping 10315 word types\n",
      "2017-05-25 20:24:12,557 : INFO : PROGRESS: at sentence #30000, processed 242368 words, keeping 12958 word types\n",
      "2017-05-25 20:24:12,589 : INFO : PROGRESS: at sentence #40000, processed 327119 words, keeping 15782 word types\n",
      "2017-05-25 20:24:12,638 : INFO : PROGRESS: at sentence #50000, processed 413288 words, keeping 18106 word types\n",
      "2017-05-25 20:24:12,693 : INFO : PROGRESS: at sentence #60000, processed 498953 words, keeping 19934 word types\n",
      "2017-05-25 20:24:12,740 : INFO : PROGRESS: at sentence #70000, processed 587552 words, keeping 22450 word types\n",
      "2017-05-25 20:24:12,742 : INFO : collected 22484 word types from a corpus of 588837 raw words and 70133 sentences\n",
      "2017-05-25 20:24:12,743 : INFO : Loading a fresh vocabulary\n",
      "2017-05-25 20:24:12,774 : INFO : min_count=40 retains 1597 unique words (7% of original 22484, drops 20887)\n",
      "2017-05-25 20:24:12,775 : INFO : min_count=40 leaves 514755 word corpus (87% of original 588837, drops 74082)\n",
      "2017-05-25 20:24:12,784 : INFO : deleting the raw counts dictionary of 22484 items\n",
      "2017-05-25 20:24:12,787 : INFO : sample=0.001 downsamples 76 most-common words\n",
      "2017-05-25 20:24:12,788 : INFO : downsampling leaves estimated 419540 word corpus (81.5% of prior 514755)\n",
      "2017-05-25 20:24:12,790 : INFO : estimated required memory for 1597 words and 300 dimensions: 4631300 bytes\n",
      "2017-05-25 20:24:12,798 : INFO : resetting layer weights\n",
      "2017-05-25 20:24:12,840 : INFO : training model with 4 workers on 1597 vocabulary and 300 features, using sg=0 hs=0 sample=0.001 negative=5 window=10\n",
      "2017-05-25 20:24:13,857 : INFO : PROGRESS: at 23.20% examples, 481172 words/s, in_qsize 8, out_qsize 0\n",
      "2017-05-25 20:24:14,895 : INFO : PROGRESS: at 52.21% examples, 531558 words/s, in_qsize 8, out_qsize 1\n",
      "2017-05-25 20:24:15,901 : INFO : PROGRESS: at 75.90% examples, 519525 words/s, in_qsize 8, out_qsize 0\n",
      "2017-05-25 20:24:16,674 : INFO : worker thread finished; awaiting finish of 3 more threads\n",
      "2017-05-25 20:24:16,682 : INFO : worker thread finished; awaiting finish of 2 more threads\n",
      "2017-05-25 20:24:16,687 : INFO : worker thread finished; awaiting finish of 1 more threads\n",
      "2017-05-25 20:24:16,688 : INFO : worker thread finished; awaiting finish of 0 more threads\n",
      "2017-05-25 20:24:16,692 : INFO : training on 2944185 raw words (2098288 effective words) took 3.8s, 546420 effective words/s\n",
      "2017-05-25 20:24:16,693 : INFO : precomputing L2-norms of word weight vectors\n",
      "2017-05-25 20:24:16,715 : INFO : saving Word2Vec object under model_and_visualization/300features_40minwords_10context, separately None\n",
      "2017-05-25 20:24:16,717 : INFO : not storing attribute syn0norm\n",
      "2017-05-25 20:24:16,718 : INFO : not storing attribute cum_table\n",
      "2017-05-25 20:24:16,759 : INFO : saved model_and_visualization/300features_40minwords_10context\n"
     ]
    },
    {
     "name": "stdout",
     "output_type": "stream",
     "text": [
      "Kappa:  0.936722941598\n",
      "Performing sentence and word tokenizing which will be used for word2vec\n"
     ]
    },
    {
     "name": "stderr",
     "output_type": "stream",
     "text": [
      "2017-05-25 20:24:36,941 : INFO : collecting all words and their counts\n",
      "2017-05-25 20:24:36,941 : INFO : PROGRESS: at sentence #0, processed 0 words, keeping 0 word types\n",
      "2017-05-25 20:24:36,984 : INFO : PROGRESS: at sentence #10000, processed 81630 words, keeping 7041 word types\n",
      "2017-05-25 20:24:37,013 : INFO : PROGRESS: at sentence #20000, processed 162176 words, keeping 10504 word types\n",
      "2017-05-25 20:24:37,042 : INFO : PROGRESS: at sentence #30000, processed 241487 words, keeping 12983 word types\n",
      "2017-05-25 20:24:37,074 : INFO : PROGRESS: at sentence #40000, processed 327403 words, keeping 15855 word types\n",
      "2017-05-25 20:24:37,105 : INFO : PROGRESS: at sentence #50000, processed 413216 words, keeping 18111 word types\n",
      "2017-05-25 20:24:37,132 : INFO : PROGRESS: at sentence #60000, processed 499646 words, keeping 19962 word types\n",
      "2017-05-25 20:24:37,165 : INFO : collected 22450 word types from a corpus of 587162 raw words and 69906 sentences\n",
      "2017-05-25 20:24:37,166 : INFO : Loading a fresh vocabulary\n",
      "2017-05-25 20:24:37,182 : INFO : min_count=40 retains 1601 unique words (7% of original 22450, drops 20849)\n",
      "2017-05-25 20:24:37,183 : INFO : min_count=40 leaves 513200 word corpus (87% of original 587162, drops 73962)\n",
      "2017-05-25 20:24:37,193 : INFO : deleting the raw counts dictionary of 22450 items\n",
      "2017-05-25 20:24:37,204 : INFO : sample=0.001 downsamples 75 most-common words\n",
      "2017-05-25 20:24:37,205 : INFO : downsampling leaves estimated 418394 word corpus (81.5% of prior 513200)\n",
      "2017-05-25 20:24:37,206 : INFO : estimated required memory for 1601 words and 300 dimensions: 4642900 bytes\n",
      "2017-05-25 20:24:37,213 : INFO : resetting layer weights\n",
      "2017-05-25 20:24:37,246 : INFO : training model with 4 workers on 1601 vocabulary and 300 features, using sg=0 hs=0 sample=0.001 negative=5 window=10\n",
      "2017-05-25 20:24:38,270 : INFO : PROGRESS: at 29.32% examples, 596878 words/s, in_qsize 8, out_qsize 0\n",
      "2017-05-25 20:24:39,277 : INFO : PROGRESS: at 56.68% examples, 584786 words/s, in_qsize 7, out_qsize 0\n",
      "2017-05-25 20:24:40,283 : INFO : PROGRESS: at 85.29% examples, 588477 words/s, in_qsize 8, out_qsize 0\n",
      "2017-05-25 20:24:40,734 : INFO : worker thread finished; awaiting finish of 3 more threads\n",
      "2017-05-25 20:24:40,746 : INFO : worker thread finished; awaiting finish of 2 more threads\n",
      "2017-05-25 20:24:40,748 : INFO : worker thread finished; awaiting finish of 1 more threads\n",
      "2017-05-25 20:24:40,750 : INFO : worker thread finished; awaiting finish of 0 more threads\n",
      "2017-05-25 20:24:40,752 : INFO : training on 2935810 raw words (2092054 effective words) took 3.5s, 599534 effective words/s\n",
      "2017-05-25 20:24:40,753 : INFO : precomputing L2-norms of word weight vectors\n",
      "2017-05-25 20:24:40,774 : INFO : saving Word2Vec object under model_and_visualization/300features_40minwords_10context, separately None\n",
      "2017-05-25 20:24:40,776 : INFO : not storing attribute syn0norm\n",
      "2017-05-25 20:24:40,777 : INFO : not storing attribute cum_table\n",
      "2017-05-25 20:24:40,823 : INFO : saved model_and_visualization/300features_40minwords_10context\n"
     ]
    },
    {
     "name": "stdout",
     "output_type": "stream",
     "text": [
      "Kappa:  0.935793288431\n",
      "Performing sentence and word tokenizing which will be used for word2vec\n"
     ]
    },
    {
     "name": "stderr",
     "output_type": "stream",
     "text": [
      "2017-05-25 20:25:02,614 : INFO : collecting all words and their counts\n",
      "2017-05-25 20:25:02,615 : INFO : PROGRESS: at sentence #0, processed 0 words, keeping 0 word types\n",
      "2017-05-25 20:25:02,658 : INFO : PROGRESS: at sentence #10000, processed 80964 words, keeping 6973 word types\n",
      "2017-05-25 20:25:02,704 : INFO : PROGRESS: at sentence #20000, processed 162392 words, keeping 10536 word types\n",
      "2017-05-25 20:25:02,746 : INFO : PROGRESS: at sentence #30000, processed 242740 words, keeping 13083 word types\n",
      "2017-05-25 20:25:02,803 : INFO : PROGRESS: at sentence #40000, processed 327953 words, keeping 15852 word types\n",
      "2017-05-25 20:25:02,844 : INFO : PROGRESS: at sentence #50000, processed 413962 words, keeping 18125 word types\n",
      "2017-05-25 20:25:02,884 : INFO : PROGRESS: at sentence #60000, processed 499294 words, keeping 20059 word types\n",
      "2017-05-25 20:25:02,934 : INFO : collected 22530 word types from a corpus of 585740 raw words and 69761 sentences\n",
      "2017-05-25 20:25:02,940 : INFO : Loading a fresh vocabulary\n",
      "2017-05-25 20:25:02,966 : INFO : min_count=40 retains 1589 unique words (7% of original 22530, drops 20941)\n",
      "2017-05-25 20:25:02,967 : INFO : min_count=40 leaves 511522 word corpus (87% of original 585740, drops 74218)\n",
      "2017-05-25 20:25:02,979 : INFO : deleting the raw counts dictionary of 22530 items\n",
      "2017-05-25 20:25:02,982 : INFO : sample=0.001 downsamples 76 most-common words\n",
      "2017-05-25 20:25:02,983 : INFO : downsampling leaves estimated 416465 word corpus (81.4% of prior 511522)\n",
      "2017-05-25 20:25:02,984 : INFO : estimated required memory for 1589 words and 300 dimensions: 4608100 bytes\n",
      "2017-05-25 20:25:02,992 : INFO : resetting layer weights\n",
      "2017-05-25 20:25:03,043 : INFO : training model with 4 workers on 1589 vocabulary and 300 features, using sg=0 hs=0 sample=0.001 negative=5 window=10\n",
      "2017-05-25 20:25:04,083 : INFO : PROGRESS: at 18.19% examples, 372154 words/s, in_qsize 8, out_qsize 0\n",
      "2017-05-25 20:25:05,111 : INFO : PROGRESS: at 38.96% examples, 400410 words/s, in_qsize 6, out_qsize 1\n",
      "2017-05-25 20:25:06,105 : INFO : PROGRESS: at 69.28% examples, 472915 words/s, in_qsize 8, out_qsize 0\n",
      "2017-05-25 20:25:07,100 : INFO : worker thread finished; awaiting finish of 3 more threads\n",
      "2017-05-25 20:25:07,102 : INFO : worker thread finished; awaiting finish of 2 more threads\n",
      "2017-05-25 20:25:07,121 : INFO : PROGRESS: at 99.67% examples, 513183 words/s, in_qsize 1, out_qsize 1\n",
      "2017-05-25 20:25:07,122 : INFO : worker thread finished; awaiting finish of 1 more threads\n",
      "2017-05-25 20:25:07,127 : INFO : worker thread finished; awaiting finish of 0 more threads\n",
      "2017-05-25 20:25:07,128 : INFO : training on 2928700 raw words (2081301 effective words) took 4.0s, 514250 effective words/s\n",
      "2017-05-25 20:25:07,129 : INFO : precomputing L2-norms of word weight vectors\n",
      "2017-05-25 20:25:07,149 : INFO : saving Word2Vec object under model_and_visualization/300features_40minwords_10context, separately None\n",
      "2017-05-25 20:25:07,151 : INFO : not storing attribute syn0norm\n",
      "2017-05-25 20:25:07,152 : INFO : not storing attribute cum_table\n",
      "2017-05-25 20:25:07,192 : INFO : saved model_and_visualization/300features_40minwords_10context\n"
     ]
    },
    {
     "name": "stdout",
     "output_type": "stream",
     "text": [
      "Kappa:  0.935848582534\n",
      "Performing sentence and word tokenizing which will be used for word2vec\n"
     ]
    },
    {
     "name": "stderr",
     "output_type": "stream",
     "text": [
      "2017-05-25 20:25:27,589 : INFO : collecting all words and their counts\n",
      "2017-05-25 20:25:27,589 : INFO : PROGRESS: at sentence #0, processed 0 words, keeping 0 word types\n",
      "2017-05-25 20:25:27,616 : INFO : PROGRESS: at sentence #10000, processed 81446 words, keeping 6907 word types\n",
      "2017-05-25 20:25:27,645 : INFO : PROGRESS: at sentence #20000, processed 162138 words, keeping 10443 word types\n",
      "2017-05-25 20:25:27,674 : INFO : PROGRESS: at sentence #30000, processed 241719 words, keeping 13044 word types\n",
      "2017-05-25 20:25:27,699 : INFO : PROGRESS: at sentence #40000, processed 326595 words, keeping 15851 word types\n",
      "2017-05-25 20:25:27,729 : INFO : PROGRESS: at sentence #50000, processed 412557 words, keeping 18084 word types\n",
      "2017-05-25 20:25:27,760 : INFO : PROGRESS: at sentence #60000, processed 497282 words, keeping 20029 word types\n",
      "2017-05-25 20:25:27,788 : INFO : collected 22535 word types from a corpus of 584822 raw words and 69831 sentences\n",
      "2017-05-25 20:25:27,789 : INFO : Loading a fresh vocabulary\n",
      "2017-05-25 20:25:27,806 : INFO : min_count=40 retains 1591 unique words (7% of original 22535, drops 20944)\n",
      "2017-05-25 20:25:27,807 : INFO : min_count=40 leaves 510353 word corpus (87% of original 584822, drops 74469)\n",
      "2017-05-25 20:25:27,815 : INFO : deleting the raw counts dictionary of 22535 items\n",
      "2017-05-25 20:25:27,818 : INFO : sample=0.001 downsamples 75 most-common words\n",
      "2017-05-25 20:25:27,819 : INFO : downsampling leaves estimated 415868 word corpus (81.5% of prior 510353)\n",
      "2017-05-25 20:25:27,820 : INFO : estimated required memory for 1591 words and 300 dimensions: 4613900 bytes\n",
      "2017-05-25 20:25:27,827 : INFO : resetting layer weights\n",
      "2017-05-25 20:25:27,862 : INFO : training model with 4 workers on 1591 vocabulary and 300 features, using sg=0 hs=0 sample=0.001 negative=5 window=10\n",
      "2017-05-25 20:25:28,881 : INFO : PROGRESS: at 28.00% examples, 572194 words/s, in_qsize 7, out_qsize 1\n",
      "2017-05-25 20:25:29,880 : INFO : PROGRESS: at 53.89% examples, 553546 words/s, in_qsize 6, out_qsize 0\n",
      "2017-05-25 20:25:30,896 : INFO : PROGRESS: at 80.34% examples, 552234 words/s, in_qsize 7, out_qsize 0\n",
      "2017-05-25 20:25:31,496 : INFO : worker thread finished; awaiting finish of 3 more threads\n",
      "2017-05-25 20:25:31,502 : INFO : worker thread finished; awaiting finish of 2 more threads\n",
      "2017-05-25 20:25:31,505 : INFO : worker thread finished; awaiting finish of 1 more threads\n",
      "2017-05-25 20:25:31,512 : INFO : worker thread finished; awaiting finish of 0 more threads\n",
      "2017-05-25 20:25:31,513 : INFO : training on 2924110 raw words (2079475 effective words) took 3.6s, 571102 effective words/s\n",
      "2017-05-25 20:25:31,514 : INFO : precomputing L2-norms of word weight vectors\n",
      "2017-05-25 20:25:31,534 : INFO : saving Word2Vec object under model_and_visualization/300features_40minwords_10context, separately None\n",
      "2017-05-25 20:25:31,535 : INFO : not storing attribute syn0norm\n",
      "2017-05-25 20:25:31,536 : INFO : not storing attribute cum_table\n",
      "2017-05-25 20:25:31,576 : INFO : saved model_and_visualization/300features_40minwords_10context\n"
     ]
    },
    {
     "name": "stdout",
     "output_type": "stream",
     "text": [
      "Kappa:  0.937866266052\n",
      "Performing sentence and word tokenizing which will be used for word2vec\n"
     ]
    },
    {
     "name": "stderr",
     "output_type": "stream",
     "text": [
      "2017-05-25 20:25:51,968 : INFO : collecting all words and their counts\n",
      "2017-05-25 20:25:51,968 : INFO : PROGRESS: at sentence #0, processed 0 words, keeping 0 word types\n",
      "2017-05-25 20:25:51,998 : INFO : PROGRESS: at sentence #10000, processed 80663 words, keeping 6927 word types\n",
      "2017-05-25 20:25:52,024 : INFO : PROGRESS: at sentence #20000, processed 162079 words, keeping 10400 word types\n",
      "2017-05-25 20:25:52,056 : INFO : PROGRESS: at sentence #30000, processed 242432 words, keeping 13109 word types\n",
      "2017-05-25 20:25:52,081 : INFO : PROGRESS: at sentence #40000, processed 327717 words, keeping 15944 word types\n",
      "2017-05-25 20:25:52,111 : INFO : PROGRESS: at sentence #50000, processed 413108 words, keeping 18166 word types\n",
      "2017-05-25 20:25:52,141 : INFO : PROGRESS: at sentence #60000, processed 498919 words, keeping 20059 word types\n",
      "2017-05-25 20:25:52,174 : INFO : PROGRESS: at sentence #70000, processed 587796 words, keeping 22610 word types\n",
      "2017-05-25 20:25:52,178 : INFO : collected 22679 word types from a corpus of 591447 raw words and 70417 sentences\n",
      "2017-05-25 20:25:52,179 : INFO : Loading a fresh vocabulary\n",
      "2017-05-25 20:25:52,202 : INFO : min_count=40 retains 1603 unique words (7% of original 22679, drops 21076)\n",
      "2017-05-25 20:25:52,204 : INFO : min_count=40 leaves 516847 word corpus (87% of original 591447, drops 74600)\n",
      "2017-05-25 20:25:52,212 : INFO : deleting the raw counts dictionary of 22679 items\n",
      "2017-05-25 20:25:52,214 : INFO : sample=0.001 downsamples 77 most-common words\n",
      "2017-05-25 20:25:52,215 : INFO : downsampling leaves estimated 421609 word corpus (81.6% of prior 516847)\n",
      "2017-05-25 20:25:52,216 : INFO : estimated required memory for 1603 words and 300 dimensions: 4648700 bytes\n",
      "2017-05-25 20:25:52,224 : INFO : resetting layer weights\n",
      "2017-05-25 20:25:52,257 : INFO : training model with 4 workers on 1603 vocabulary and 300 features, using sg=0 hs=0 sample=0.001 negative=5 window=10\n",
      "2017-05-25 20:25:53,272 : INFO : PROGRESS: at 28.73% examples, 588189 words/s, in_qsize 8, out_qsize 0\n",
      "2017-05-25 20:25:54,279 : INFO : PROGRESS: at 58.24% examples, 605370 words/s, in_qsize 8, out_qsize 0\n",
      "2017-05-25 20:25:55,292 : INFO : PROGRESS: at 87.84% examples, 607452 words/s, in_qsize 7, out_qsize 0\n",
      "2017-05-25 20:25:55,666 : INFO : worker thread finished; awaiting finish of 3 more threads\n",
      "2017-05-25 20:25:55,674 : INFO : worker thread finished; awaiting finish of 2 more threads\n",
      "2017-05-25 20:25:55,676 : INFO : worker thread finished; awaiting finish of 1 more threads\n",
      "2017-05-25 20:25:55,682 : INFO : worker thread finished; awaiting finish of 0 more threads\n",
      "2017-05-25 20:25:55,683 : INFO : training on 2957235 raw words (2107181 effective words) took 3.4s, 615841 effective words/s\n",
      "2017-05-25 20:25:55,684 : INFO : precomputing L2-norms of word weight vectors\n",
      "2017-05-25 20:25:55,703 : INFO : saving Word2Vec object under model_and_visualization/300features_40minwords_10context, separately None\n",
      "2017-05-25 20:25:55,705 : INFO : not storing attribute syn0norm\n",
      "2017-05-25 20:25:55,706 : INFO : not storing attribute cum_table\n",
      "2017-05-25 20:25:55,748 : INFO : saved model_and_visualization/300features_40minwords_10context\n"
     ]
    },
    {
     "name": "stdout",
     "output_type": "stream",
     "text": [
      "Kappa:  0.933886524248\n"
     ]
    }
   ],
   "source": [
    "#Training with Word2Vec\n",
    "cv = cross_validation.KFold(len(X_all), n_folds=5,shuffle=True)\n",
    "results = []\n",
    "\n",
    "for traincv, testcv in cv:\n",
    "        X_test, X_train, y_test, y_train = X_all.iloc[testcv], X_all.iloc[traincv], y_all.iloc[testcv], y_all.iloc[traincv]\n",
    "                \n",
    "        train_essays = X_train['essay']\n",
    "        test_essays = X_test['essay']\n",
    "        #print essays\n",
    "        sentences = []\n",
    "\n",
    "        print (\"Performing sentence and word tokenizing which will be used for word2vec\")\n",
    "\n",
    "        for essay in train_essays:\n",
    "            sentences += helper.essay_to_sentences(unicode(essay,\"utf-8\",errors='ignore'), remove_stopwords = True)\n",
    "\n",
    "        logging.basicConfig(format='%(asctime)s : %(levelname)s : %(message)s', level=logging.INFO)\n",
    "\n",
    "        num_features = 300 \n",
    "        min_word_count = 40\n",
    "        num_workers = 4\n",
    "        context = 10\n",
    "        downsampling = 1e-3\n",
    "\n",
    "        #print (\"Training w2v model...\") \n",
    "        model = word2vec.Word2Vec(sentences, workers=num_workers, size=num_features, min_count = min_word_count, window = context, sample = downsampling)\n",
    "\n",
    "        model.init_sims(replace=True)\n",
    "\n",
    "        model_name = \"model_and_visualization/300features_40minwords_10context\"\n",
    "        model.save(model_name)\n",
    "\n",
    "        #print (\"Creating average feature vecs for Training Essays\")\n",
    "        clean_train_essays = []\n",
    "      \n",
    "        for essay_v in train_essays:\n",
    "            clean_train_essays.append( helper.essay_to_wordlist( essay_v, remove_stopwords=True ))\n",
    "        trainDataVecs = helper.getAvgFeatureVecs( clean_train_essays, model, num_features )\n",
    "        \n",
    "        clean_test_essays = []\n",
    "        for essay_v in test_essays:\n",
    "            clean_test_essays.append( helper.essay_to_wordlist( essay_v, remove_stopwords=True ))\n",
    "        testDataVecs = helper.getAvgFeatureVecs( clean_test_essays, model, num_features )\n",
    "        \n",
    "        #print(\"Done\")\n",
    "\n",
    "        myOwnTrainFeatureVec = np.array(X_train[selected_features])\n",
    "        myOwnTestFeatureVec = np.array(X_test[selected_features])\n",
    "        \n",
    "        trainDataVecs = np.concatenate((trainDataVecs,myOwnTrainFeatureVec),1)\n",
    "        testDataVecs = np.concatenate((testDataVecs,myOwnTestFeatureVec),1)\n",
    "        \n",
    "        model =  LinearRegression(normalize=True)\n",
    "        model.fit(trainDataVecs,y_train)\n",
    "        start = time()\n",
    "        y_pred = model.predict(testDataVecs)\n",
    "        end = time()\n",
    "\n",
    "        #print (\"Made predictions in {:.4f} seconds.\".format(end - start))\n",
    "        result = kappa(y_test.values,np.around(y_pred,decimals=2),weights='quadratic')\n",
    "        print \"Kappa: \", result\n",
    "        results.append(result)"
   ]
  },
  {
   "cell_type": "code",
   "execution_count": 27,
   "metadata": {
    "collapsed": false
   },
   "outputs": [
    {
     "name": "stdout",
     "output_type": "stream",
     "text": [
      "Average Kappa score after a 5-fold cross validation with Word2Vec and custom generated heuristic features is  0.9347\n"
     ]
    }
   ],
   "source": [
    "print \"Average Kappa score after a 5-fold cross validation with Word2Vec and custom generated heuristic features is \",np.around(np.array(results).mean(),decimals=4)"
   ]
  },
  {
   "cell_type": "code",
   "execution_count": 34,
   "metadata": {
    "collapsed": false
   },
   "outputs": [
    {
     "data": {
      "text/plain": [
       "{'copy_X': True, 'fit_intercept': True, 'n_jobs': 1, 'normalize': False}"
      ]
     },
     "execution_count": 34,
     "metadata": {},
     "output_type": "execute_result"
    }
   ],
   "source": [
    "LinearRegression().get_params()"
   ]
  },
  {
   "cell_type": "code",
   "execution_count": 36,
   "metadata": {
    "collapsed": true
   },
   "outputs": [],
   "source": [
    "from sklearn.linear_model import Lasso\n",
    "model = Lasso()"
   ]
  },
  {
   "cell_type": "code",
   "execution_count": null,
   "metadata": {
    "collapsed": true
   },
   "outputs": [],
   "source": []
  }
 ],
 "metadata": {
  "kernelspec": {
   "display_name": "Python 2",
   "language": "python",
   "name": "python2"
  },
  "language_info": {
   "codemirror_mode": {
    "name": "ipython",
    "version": 2
   },
   "file_extension": ".py",
   "mimetype": "text/x-python",
   "name": "python",
   "nbconvert_exporter": "python",
   "pygments_lexer": "ipython2",
   "version": "2.7.13"
  }
 },
 "nbformat": 4,
 "nbformat_minor": 2
}
